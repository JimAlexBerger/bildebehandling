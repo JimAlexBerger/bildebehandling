{
 "cells": [
  {
   "cell_type": "markdown",
   "metadata": {},
   "source": [
    "# Oblig 3\n",
    "## Oppgave 1"
   ]
  },
  {
   "cell_type": "code",
   "execution_count": 1,
   "metadata": {},
   "outputs": [],
   "source": [
    "from scipy import ndimage, ndarray\n",
    "from skimage import io,util,color\n",
    "from IPython import display\n",
    "import numpy\n",
    "import sys\n",
    "import math\n",
    "\n",
    "import ipywidgets as widgets\n",
    "from ipywidgets import interactive\n",
    "from IPython.display import display, clear_output\n",
    "\n",
    "import matplotlib.pyplot as plt\n",
    "\n",
    "%matplotlib inline"
   ]
  },
  {
   "cell_type": "markdown",
   "metadata": {},
   "source": [
    "Her bare henter man ut bildet som skal prosesseres"
   ]
  },
  {
   "cell_type": "code",
   "execution_count": 2,
   "metadata": {},
   "outputs": [
    {
     "data": {
      "application/vnd.jupyter.widget-view+json": {
       "model_id": "2d804981765f424a9c16e030ca8d907e",
       "version_major": 2,
       "version_minor": 0
      },
      "text/plain": [
       "interactive(children=(Dropdown(description='Bilde: ', options={'oppgave1': 'Oppgave1.png', 'hit or miss': 'hit…"
      ]
     },
     "metadata": {},
     "output_type": "display_data"
    }
   ],
   "source": [
    "def readAndShowImage(image):\n",
    "    im = util.img_as_bool(io.imread(image, as_gray=True))\n",
    "    io.imshow(im, cmap='gray')\n",
    "    io.show()\n",
    "\n",
    "inputImage = widgets.Dropdown(\n",
    "    options={\n",
    "        'oppgave1':'Oppgave1.png',\n",
    "        'hit or miss':'hitOrMiss.png',\n",
    "        'Thinning': 'tynning.png'\n",
    "    },\n",
    "    description='Bilde: ',\n",
    "    disabled=False,\n",
    ")\n",
    "\n",
    "interactive(readAndShowImage, image=inputImage)"
   ]
  },
  {
   "cell_type": "markdown",
   "metadata": {},
   "source": [
    "Funksjonen som foretar tynningen"
   ]
  },
  {
   "cell_type": "code",
   "execution_count": 5,
   "metadata": {},
   "outputs": [],
   "source": [
    "def thinningOne(im, se):\n",
    "    se_height,se_width = se.shape\n",
    "\n",
    "    pad_v = se_height//2\n",
    "    pad_h = se_width//2\n",
    "    \n",
    "    flattend_se = ndarray.flatten(se)\n",
    "\n",
    "    padded = util.pad(im,(pad_v,pad_h),mode=\"constant\")\n",
    "    \n",
    "    out = numpy.zeros(im.shape,dtype=bool)\n",
    "    for i in range(im.shape[0]):\n",
    "        for j in range(im.shape[1]):\n",
    "            subimage = padded[i:i+se_height,j:j+se_width]\n",
    "            flattend_img = ndarray.flatten(subimage)\n",
    "\n",
    "            missMatch = False\n",
    "\n",
    "            for px in range(flattend_img.size):\n",
    "                if(flattend_se[px] == -1):\n",
    "                    continue\n",
    "                elif(flattend_se[px] == flattend_img[px]):\n",
    "                    continue\n",
    "                else:\n",
    "                    missMatch = True\n",
    "                    break\n",
    "            out[i,j] = 0 if missMatch else 1\n",
    "            \n",
    "        \n",
    "    return im ^ out\n",
    "\n",
    "def thinning(im):\n",
    "    \n",
    "    b1 = numpy.asarray([[0,0,0], [-1,1,-1], [1,1,1]])\n",
    "    b2 = numpy.asarray([[-1,0,0], [1,1,0], [1,1,-1]])\n",
    "    b3 = numpy.asarray([[1,-1,0], [1,1,0], [1,-1,0]])\n",
    "    b4 = numpy.asarray([[1,1,-1], [1,1,0], [-1,0,0]])\n",
    "    b5 = numpy.asarray([[1,1,1], [-1,1,-1], [0,0,0]])\n",
    "    b6 = numpy.asarray([[-1,1,1], [0,1,1], [0,0,-1]])\n",
    "    b7 = numpy.asarray([[0,-1,1], [0,1,1], [0,-1,1]])\n",
    "    b8 = numpy.asarray([[0,0,-1], [0,1,1], [-1,1,1]])\n",
    "    \n",
    "    se_arr = [b1,b2,b3,b4,b5,b6,b7,b8]        \n",
    "    \n",
    "    while True:\n",
    "        thinned = im\n",
    "        for se in se_arr:\n",
    "            thinned = thinningOne(thinned,se)\n",
    "        if(numpy.array_equal(im,thinned)):\n",
    "            break\n",
    "        im = thinned\n",
    "    \n",
    "    return im"
   ]
  },
  {
   "cell_type": "markdown",
   "metadata": {},
   "source": [
    "Det endelige resultatet av tynningen på inputbildet"
   ]
  },
  {
   "cell_type": "code",
   "execution_count": 6,
   "metadata": {},
   "outputs": [
    {
     "data": {
      "application/vnd.jupyter.widget-view+json": {
       "model_id": "172033f3391544dd9447109f997799a5",
       "version_major": 2,
       "version_minor": 0
      },
      "text/plain": [
       "interactive(children=(Dropdown(description='Bilde: ', index=2, options={'oppgave1': 'Oppgave1.png', 'hit or mi…"
      ]
     },
     "metadata": {},
     "output_type": "display_data"
    }
   ],
   "source": [
    "def update(image):\n",
    "    im = util.img_as_bool(io.imread(image, as_gray=True))\n",
    "    io.imshow(thinning(im), cmap='gray')\n",
    "    io.show()\n",
    "    \n",
    "interactive(update, image=inputImage)"
   ]
  }
 ],
 "metadata": {
  "kernelspec": {
   "display_name": "Python 3",
   "language": "python",
   "name": "python3"
  },
  "language_info": {
   "codemirror_mode": {
    "name": "ipython",
    "version": 3
   },
   "file_extension": ".py",
   "mimetype": "text/x-python",
   "name": "python",
   "nbconvert_exporter": "python",
   "pygments_lexer": "ipython3",
   "version": "3.6.7"
  }
 },
 "nbformat": 4,
 "nbformat_minor": 2
}
