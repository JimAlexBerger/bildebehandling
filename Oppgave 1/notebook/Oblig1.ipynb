{
 "cells": [
  {
   "cell_type": "markdown",
   "metadata": {},
   "source": [
    "# OBLIG 1"
   ]
  },
  {
   "cell_type": "markdown",
   "metadata": {},
   "source": [
    "Alle importeringene jeg trenger til oblig 1"
   ]
  },
  {
   "cell_type": "code",
   "execution_count": 1,
   "metadata": {},
   "outputs": [],
   "source": [
    "from scipy import ndimage\n",
    "from skimage import io,util,color\n",
    "from IPython import display\n",
    "import numpy\n",
    "import sys\n",
    "import math\n",
    "\n",
    "import ipywidgets as widgets\n",
    "from ipywidgets import interactive\n",
    "from IPython.display import display, clear_output\n",
    "\n",
    "import matplotlib.pyplot as plt\n",
    "\n",
    "%matplotlib inline"
   ]
  },
  {
   "cell_type": "markdown",
   "metadata": {},
   "source": [
    "## Oppgave 1"
   ]
  },
  {
   "cell_type": "markdown",
   "metadata": {},
   "source": [
    "Dette er koden for konvolusjons metodene"
   ]
  },
  {
   "cell_type": "code",
   "execution_count": 2,
   "metadata": {},
   "outputs": [],
   "source": [
    "def isOutside(x,y,width,height):\n",
    "    if(x < 0 or y < 0):\n",
    "        return True\n",
    "    if(x >= width or y >= height):\n",
    "        return True\n",
    "    return False\n",
    "\n",
    "def convolve(filtr, image, mode, value = 0):    \n",
    "    width, height = image.shape\n",
    "    Fwidth, Fheight = filtr.shape\n",
    "    \n",
    "    Mx = math.ceil(Fwidth/2)\n",
    "    My = math.ceil(Fheight/2)\n",
    "    \n",
    "    ret = numpy.zeros(image.shape, dtype=image.dtype)\n",
    "\n",
    "    for x in range(width):\n",
    "        for y in range(height):\n",
    "            s = 0\n",
    "            \n",
    "            for x2 in range(Fwidth):\n",
    "                for y2 in range(Fheight):\n",
    "                    imX = x - (x2 + 1 - Mx)\n",
    "                    imY = y - (y2 + 1 - My)\n",
    "                    \n",
    "                    if(isOutside(imX, imY, width, height)):\n",
    "                        outValue = 0\n",
    "                        \n",
    "                        if(mode == 'constant'):\n",
    "                            outValue = value\n",
    "                        elif(mode == 'wrap'):\n",
    "                            outValue = image[imX % width, imY % height]\n",
    "                        else:\n",
    "                            outValue = 0\n",
    "                        \n",
    "                        s += outValue * filtr[x2,y2]\n",
    "                    else:\n",
    "                        s += image[imX, imY] * filtr[x2,y2]\n",
    "                            \n",
    "            ret[x,y] = s\n",
    "    \n",
    "    return ret"
   ]
  },
  {
   "cell_type": "markdown",
   "metadata": {},
   "source": [
    "### Her kan du velge hvilket bilde som skal bli prosessert"
   ]
  },
  {
   "cell_type": "code",
   "execution_count": 3,
   "metadata": {},
   "outputs": [
    {
     "data": {
      "application/vnd.jupyter.widget-view+json": {
       "model_id": "9c0842009c9b496eb99b6afade61aacc",
       "version_major": 2,
       "version_minor": 0
      },
      "text/plain": [
       "interactive(children=(Dropdown(description='Bilde: ', options={'Minecraft': 'image.png', 'Trump': 'trump1.jpg'…"
      ]
     },
     "metadata": {},
     "output_type": "display_data"
    }
   ],
   "source": [
    "def readAndShowImage(image):\n",
    "    im = io.imread(image, as_gray=True)\n",
    "    io.imshow(im)\n",
    "    io.show()\n",
    "\n",
    "inputImage = widgets.Dropdown(\n",
    "    options={\n",
    "        'Minecraft':'image.png',\n",
    "        'Trump':'trump1.jpg'\n",
    "    },\n",
    "    description='Bilde: ',\n",
    "    disabled=False,\n",
    ")\n",
    "\n",
    "interactive(readAndShowImage, image=inputImage)"
   ]
  },
  {
   "cell_type": "markdown",
   "metadata": {},
   "source": [
    "Her kjører jeg en 5*5 box blur på bildet som ble valgt ved hjelp av metoden jeg lagde"
   ]
  },
  {
   "cell_type": "code",
   "execution_count": 4,
   "metadata": {},
   "outputs": [
    {
     "data": {
      "application/vnd.jupyter.widget-view+json": {
       "model_id": "44dba1bb1bdd497190ec3c3ea3678d32",
       "version_major": 2,
       "version_minor": 0
      },
      "text/plain": [
       "interactive(children=(Dropdown(description='Bilde: ', options={'Minecraft': 'image.png', 'Trump': 'trump1.jpg'…"
      ]
     },
     "metadata": {},
     "output_type": "display_data"
    }
   ],
   "source": [
    "def update(image):\n",
    "    im = util.img_as_ubyte(color.rgb2gray(io.imread(image)))\n",
    "    filtr = numpy.ones((5,5)) / (5*5)\n",
    "    \n",
    "    image = convolve(filtr, im, 'wrap', 0.0)\n",
    "    io.imshow(image, cmap='gray')\n",
    "    io.show()\n",
    "    \n",
    "\n",
    "interactive(update, image = inputImage)"
   ]
  },
  {
   "cell_type": "markdown",
   "metadata": {},
   "source": [
    "For å dokumentere at filtreringen fungerer har jeg valgt å kjøre samme filter på samme bildet ved bruk av min egenskrevene algoritme, og en annen ved hjelp av den innebygde.Da kan jeg se på differansen mellom de to bildene for å sjekke at differansen blir 0 for hver pixel.\n",
    "\n",
    "Jeg velger også å bruke ett filter som ikke er symmetrisk for å dobbelsjekke at jeg går gjennom filteret i riktig rekkefølge."
   ]
  },
  {
   "cell_type": "code",
   "execution_count": 5,
   "metadata": {},
   "outputs": [
    {
     "data": {
      "application/vnd.jupyter.widget-view+json": {
       "model_id": "afff4f102c434de6b907b256e36c12dd",
       "version_major": 2,
       "version_minor": 0
      },
      "text/plain": [
       "interactive(children=(Dropdown(description='Bilde: ', options={'Minecraft': 'image.png', 'Trump': 'trump1.jpg'…"
      ]
     },
     "metadata": {},
     "output_type": "display_data"
    }
   ],
   "source": [
    "def updateTest(image):\n",
    "    im = util.img_as_ubyte(color.rgb2gray(io.imread(image)))\n",
    "    filtr = numpy.array([[1,2,3],[4,5,6],[7,8,9]])\n",
    "    \n",
    "    mine = convolve(filtr, im, 'wrap', 0.0)\n",
    "    \n",
    "    builtin = ndimage.convolve(im,filtr,mode='wrap', cval=0)\n",
    "    \n",
    "    diff = mine - builtin\n",
    "        \n",
    "    io.imshow_collection([mine,builtin,diff,im], cmap='gray')\n",
    "    io.show()\n",
    "    \n",
    "\n",
    "interactive(updateTest, image = inputImage)"
   ]
  },
  {
   "cell_type": "markdown",
   "metadata": {},
   "source": [
    "Her er enda en test ved hjelp av ett 3x3 bilde og ett 3x3 filter, jeg gjør som i forrige test konvolusjon ved hjelp av min og den innbebygde og ser da at jeg får det samme fra begge."
   ]
  },
  {
   "cell_type": "code",
   "execution_count": 6,
   "metadata": {},
   "outputs": [
    {
     "name": "stdout",
     "output_type": "stream",
     "text": [
      "[[2550 2460 2550]\n",
      " [1740 1650 1740]\n",
      " [2550 2460 2550]]\n",
      "[[2550 2460 2550]\n",
      " [1740 1650 1740]\n",
      " [2550 2460 2550]]\n"
     ]
    }
   ],
   "source": [
    "def updateTest2():\n",
    "    im = numpy.array([[10,20,30],[40,50,60],[70,80,90]])\n",
    "    filtr = numpy.array([[1,2,3],[4,5,6],[7,8,9]])\n",
    "    \n",
    "    mine = convolve(filtr, im, 'wrap', 1)\n",
    "    \n",
    "    builtin = ndimage.convolve(im,filtr,mode='wrap', cval=1)\n",
    "      \n",
    "    print(mine)\n",
    "    print(builtin)\n",
    "    io.show()\n",
    "    \n",
    "\n",
    "updateTest2()"
   ]
  },
  {
   "cell_type": "markdown",
   "metadata": {},
   "source": [
    "# Oppgave 2"
   ]
  },
  {
   "cell_type": "markdown",
   "metadata": {},
   "source": [
    "### Her kan du velge hvilket bilde som skal bli prossessert og se ett histogram over bildet"
   ]
  },
  {
   "cell_type": "code",
   "execution_count": 7,
   "metadata": {},
   "outputs": [
    {
     "data": {
      "application/vnd.jupyter.widget-view+json": {
       "model_id": "625be6329aa94554a6410d30f0242094",
       "version_major": 2,
       "version_minor": 0
      },
      "text/plain": [
       "interactive(children=(Dropdown(description='Bilde: ', options={'Pollen Mørkt': 'magnified-pollen-dark.tif', 'P…"
      ]
     },
     "metadata": {},
     "output_type": "display_data"
    }
   ],
   "source": [
    "def histogram(im):\n",
    "    ret = numpy.zeros(256, dtype=numpy.uint)\n",
    "\n",
    "    height, width = im.shape\n",
    "\n",
    "    for x in range(height):\n",
    "        for y in range (width):\n",
    "            ret[im[x][y]] += 1\n",
    "    \n",
    "    return ret\n",
    "\n",
    "def printHistogramBilde(image):\n",
    "    hist = histogram(image)\n",
    "    ind = numpy.arange(len(hist))  \n",
    "\n",
    "    fig, ax = plt.subplots()\n",
    "    rects1 = ax.bar(ind, hist)\n",
    "\n",
    "    plt.show()\n",
    "\n",
    "def readAndShowImageWHistogram(image):\n",
    "    im = util.img_as_ubyte(color.rgb2gray(io.imread(image)))\n",
    "    \n",
    "    printHistogramBilde(im)\n",
    "    \n",
    "    io.imshow(im)\n",
    "    io.show()\n",
    "\n",
    "inputImage2 = widgets.Dropdown(\n",
    "    options={\n",
    "        'Pollen Mørkt':'magnified-pollen-dark.tif',\n",
    "        'Pollen Lav Kontrast':'pollen-lowcontrast.tif',\n",
    "        'Einstein Lav Kontrast':'einstein-low-contrast.tif'},\n",
    "    description='Bilde: ',\n",
    "    disabled=False,\n",
    ")\n",
    "\n",
    "interactive(readAndShowImageWHistogram, image=inputImage2)"
   ]
  },
  {
   "cell_type": "markdown",
   "metadata": {},
   "source": [
    "### Her genereres den kumulative distibusjonen for bildet og vises"
   ]
  },
  {
   "cell_type": "code",
   "execution_count": 8,
   "metadata": {},
   "outputs": [
    {
     "data": {
      "application/vnd.jupyter.widget-view+json": {
       "model_id": "fb77e1a7b2ff4a068ff3a78090586304",
       "version_major": 2,
       "version_minor": 0
      },
      "text/plain": [
       "interactive(children=(Dropdown(description='Bilde: ', options={'Pollen Mørkt': 'magnified-pollen-dark.tif', 'P…"
      ]
     },
     "metadata": {},
     "output_type": "display_data"
    }
   ],
   "source": [
    "def cumulativeDistribution(hist):\n",
    "    ret = numpy.zeros(256)\n",
    "    ret[0] = hist[0]\n",
    "    \n",
    "    for x in range(1,256):\n",
    "        ret[x] = ret[x-1] + hist[x]\n",
    "    \n",
    "    return ret\n",
    "\n",
    "def cumulativeDistributionImage(im):\n",
    "    hist = histogram(im)\n",
    "    \n",
    "    width, height = im.shape\n",
    "    \n",
    "    hist2 = numpy.zeros(256)\n",
    "    \n",
    "    for x in range(256):\n",
    "        hist2[x] = hist[x] / (width*height)\n",
    "    \n",
    "    return cumulativeDistribution(hist2)\n",
    "\n",
    "def plotCD(image):\n",
    "    im = util.img_as_ubyte(color.rgb2gray(io.imread(image)))\n",
    "    \n",
    "    CD = cumulativeDistributionImage(im)\n",
    "    \n",
    "    ind = numpy.arange(len(CD))  # the x locations for the groups\n",
    "\n",
    "    fig, ax = plt.subplots()\n",
    "    rects1 = ax.bar(ind, CD)\n",
    "\n",
    "    plt.show()\n",
    "        \n",
    "interactive(plotCD, image=inputImage2)"
   ]
  },
  {
   "cell_type": "markdown",
   "metadata": {},
   "source": [
    "### Bildet etter histogramnormalisering"
   ]
  },
  {
   "cell_type": "code",
   "execution_count": 9,
   "metadata": {
    "scrolled": false
   },
   "outputs": [
    {
     "data": {
      "application/vnd.jupyter.widget-view+json": {
       "model_id": "35cfdf3fd9ca4a4f97a8516c158e9170",
       "version_major": 2,
       "version_minor": 0
      },
      "text/plain": [
       "interactive(children=(Dropdown(description='Bilde: ', options={'Pollen Mørkt': 'magnified-pollen-dark.tif', 'P…"
      ]
     },
     "metadata": {},
     "output_type": "display_data"
    }
   ],
   "source": [
    "def histogramEqualization(im):\n",
    "    width, height = im.shape\n",
    "    \n",
    "    CD = cumulativeDistributionImage(im)\n",
    "        \n",
    "    for x in range(width):\n",
    "        for y in range(height):\n",
    "            im[x,y] = numpy.floor(CD[im[x,y]] * 255)\n",
    "            \n",
    "    return im\n",
    "\n",
    "def histogramEq(image):\n",
    "    im = util.img_as_ubyte(color.rgb2gray(io.imread(image)))\n",
    "    \n",
    "    im = histogramEqualization(im)\n",
    "    \n",
    "    printHistogramBilde(im)\n",
    "\n",
    "    io.imshow(im, cmap='gray')\n",
    "    io.show()\n",
    "    \n",
    "interactive(histogramEq, image=inputImage2)"
   ]
  },
  {
   "cell_type": "markdown",
   "metadata": {},
   "source": [
    "### Histogramspesifikasjon\n",
    "\n",
    "Her er ett par ting ikke implementert som i boka, om flere pixler i spesifikasjonen matcher til samme pixler vil den pixelen med høyest verdi være den som blir brukt, jeg så i eksemplet at man skal gjerne bruke den som er nærmest sin orginalplassering i orginalbildet.\n",
    "\n",
    "Jeg har implementert noen spesifikasjoner som var enkle å kode og som muligens vil være interresante, om ikke ligger det en fil som heter spec.txt i samme mappe som denne notebook fila som kan brukes til å spesifisere ett egenvalgt spesifikasjon."
   ]
  },
  {
   "cell_type": "code",
   "execution_count": 10,
   "metadata": {},
   "outputs": [
    {
     "data": {
      "application/vnd.jupyter.widget-view+json": {
       "model_id": "32f588dca46b4fedbed2075a9443819f",
       "version_major": 2,
       "version_minor": 0
      },
      "text/plain": [
       "interactive(children=(Dropdown(description='Bilde: ', options={'Pollen Mørkt': 'magnified-pollen-dark.tif', 'P…"
      ]
     },
     "metadata": {},
     "output_type": "display_data"
    }
   ],
   "source": [
    "specificationOp = widgets.Dropdown(\n",
    "    options=[\n",
    "        'Linear Increase','Linear Decrease','Exponential Growth', 'Exponential Decay', 'Logarithmic','spec.txt'\n",
    "        ],\n",
    "    description='Specification: ',\n",
    "    disabled=False,\n",
    ")\n",
    "\n",
    "def inverseCumulative(cumulative):\n",
    "    ret = numpy.zeros(256)\n",
    "    \n",
    "    cumulative = numpy.floor(cumulative*255)\n",
    "    \n",
    "    for x in range(256):\n",
    "        ret[int(cumulative[x])] = x\n",
    "    \n",
    "    for x in range(1,256):\n",
    "        if(ret[x] == 0):\n",
    "            ret[x] = ret[x-1]\n",
    "    \n",
    "    return ret\n",
    "\n",
    "def histogramMatch(image, specification):\n",
    "    im = util.img_as_ubyte(color.rgb2gray(io.imread(image)))\n",
    "    \n",
    "    if(specification == 'Linear Increase'):\n",
    "        specification = numpy.arange(256)\n",
    "    elif(specification == 'Linear Decrease'):\n",
    "        specification = numpy.flip(numpy.arange(256))\n",
    "    elif(specification == 'Exponential Growth'):\n",
    "        specification = numpy.zeros(256)\n",
    "        for x in range(256):\n",
    "            specification[x] = x**2\n",
    "    elif(specification == 'Exponential Decay'):\n",
    "        specification = numpy.zeros(256)\n",
    "        for x in range(256):\n",
    "            specification[x] = 256/(0.5*(x+1))\n",
    "    elif(specification == 'Logarithmic'):\n",
    "        specification = numpy.zeros(256)\n",
    "        for x in range(256):\n",
    "            specification[x] = math.log(x+1)\n",
    "    elif(specification == 'spec.txt'):\n",
    "        specification = numpy.loadtxt('spec.txt')\n",
    "        \n",
    "    specification = specification / sum(specification)\n",
    "        \n",
    "    ind = numpy.arange(len(specification))  \n",
    "\n",
    "    fig, ax = plt.subplots()\n",
    "    rects1 = ax.bar(ind, specification)\n",
    "\n",
    "    plt.show()\n",
    "    \n",
    "    specification = inverseCumulative(cumulativeDistribution(specification))\n",
    "    \n",
    "    width, height = im.shape\n",
    "    \n",
    "    #Normalize before matching\n",
    "    im = histogramEqualization(im)\n",
    "    \n",
    "    for x in range(width):\n",
    "        for y in range(height):\n",
    "            im[x,y] = specification[im[x,y]]\n",
    "    \n",
    "    printHistogramBilde(im)\n",
    "    io.imshow(im, cmap='gray')\n",
    "    io.show()\n",
    "\n",
    "interactive(histogramMatch, image=inputImage2, specification=specificationOp)"
   ]
  },
  {
   "cell_type": "markdown",
   "metadata": {},
   "source": [
    "Denne var litt vanskeligere å se at fungerer, men som man kan se om man tar linjær increase, eller decrease,\n",
    "så ser man at bildene blir lysere og mørkere. Man kan også se om man velger exponential decay at histogrammet til bildet blir veldig nærme spesifikasjonen"
   ]
  },
  {
   "cell_type": "markdown",
   "metadata": {},
   "source": [
    "## Oppgave 3"
   ]
  },
  {
   "cell_type": "markdown",
   "metadata": {},
   "source": [
    "### Her kan du velge hvilket bilde som skal bli prosessert"
   ]
  },
  {
   "cell_type": "code",
   "execution_count": 11,
   "metadata": {},
   "outputs": [
    {
     "data": {
      "application/vnd.jupyter.widget-view+json": {
       "model_id": "90b0536a665d4ce09a01341a732ce47b",
       "version_major": 2,
       "version_minor": 0
      },
      "text/plain": [
       "interactive(children=(Dropdown(description='Bilde: ', options={'Barbara': 'barbara.png', 'Barbara Noise 1': 'b…"
      ]
     },
     "metadata": {},
     "output_type": "display_data"
    }
   ],
   "source": [
    "def readAndShowImage(image):\n",
    "    im = io.imread(image, as_gray=True)\n",
    "    io.imshow(im, cmap='gray')\n",
    "    io.show()\n",
    "\n",
    "inputImage3 = widgets.Dropdown(\n",
    "    options={\n",
    "        'Barbara':'barbara.png',\n",
    "        'Barbara Noise 1':'barbara_noise1.png',\n",
    "        'Barbara Noise 2':'barbara_noise2.png'\n",
    "    },\n",
    "    description='Bilde: ',\n",
    "    disabled=False,\n",
    ")\n",
    "\n",
    "interactive(readAndShowImage, image=inputImage3)"
   ]
  },
  {
   "cell_type": "markdown",
   "metadata": {},
   "source": [
    "### Valg av type filter samt størelsen på valgt filter"
   ]
  },
  {
   "cell_type": "code",
   "execution_count": 12,
   "metadata": {},
   "outputs": [
    {
     "data": {
      "application/vnd.jupyter.widget-view+json": {
       "model_id": "28dfc0e012c94b8fb72c4dda983cdc13",
       "version_major": 2,
       "version_minor": 0
      },
      "text/plain": [
       "interactive(children=(Dropdown(description='Bilde: ', options={'Barbara': 'barbara.png', 'Barbara Noise 1': 'b…"
      ]
     },
     "metadata": {},
     "output_type": "display_data"
    }
   ],
   "source": [
    "filterOptions = widgets.Dropdown(\n",
    "    options=[\n",
    "        'Box Blur','Gaussian Blur','UnSharpen','Median'\n",
    "    ],\n",
    "    description='Filter: ',\n",
    "    disabled=False,\n",
    ")\n",
    "\n",
    "sizeOption = widgets.IntSlider(\n",
    "    value = 5,\n",
    "    min = 1,\n",
    "    max = 30,\n",
    "    description='Size: ',\n",
    "    disabled=False,\n",
    "    continuous_update = False\n",
    ")\n",
    "\n",
    "\n",
    "def filtrer(image, size, method):\n",
    "    im = util.img_as_float(color.rgb2gray(io.imread(image)))\n",
    "    \n",
    "    if(method == 'Box Blur'):\n",
    "        sizeOption.description = 'Size: '\n",
    "        mask = numpy.ones((size,size))\n",
    "        mask = mask / numpy.sum(mask)\n",
    "        im = ndimage.convolve(im,mask,mode='constant', cval=0)\n",
    "    elif(method == 'Gaussian Blur'):\n",
    "        sizeOption.description = 'Sigma: '\n",
    "        im = ndimage.gaussian_filter(im,size)\n",
    "    elif(method == 'UnSharpen'):\n",
    "        sizeOption.description = 'Sigma: '\n",
    "        imBlurred = ndimage.gaussian_filter(im,size)\n",
    "        imMask = im - imBlurred\n",
    "        im = im + imMask\n",
    "    elif(method == 'Median'):\n",
    "        sizeOption.description = 'Size: '\n",
    "        im = ndimage.median_filter(im,(size,size))\n",
    "    \n",
    "    \n",
    "    io.imshow(numpy.clip(im,0,1), cmap='gray')\n",
    "    io.show()\n",
    "\n",
    "interactive(filtrer, image=inputImage3, size=sizeOption, method=filterOptions)"
   ]
  },
  {
   "cell_type": "markdown",
   "metadata": {},
   "source": [
    "Som konklusjon vil oppgave 3 vil jeg si at det filteret som fungerte best til å fjerne støy var medianfilteret, spesielt på bilde nummer 1 med støy. Salt og pepper støy fjernes ekstremt godt ved hjelp av median filtrering.\n",
    "\n",
    "På dette bildet som har mye tekstur spesielt i buksene og stolen bak fungerer unsharpening ganske dårlig, det genereres mye støy her. Unsharp fungerer også veldig dårlig på bilder med støy da støyen blir amplifisert av skarpingen"
   ]
  }
 ],
 "metadata": {
  "kernelspec": {
   "display_name": "Python 3",
   "language": "python",
   "name": "python3"
  },
  "language_info": {
   "codemirror_mode": {
    "name": "ipython",
    "version": 3
   },
   "file_extension": ".py",
   "mimetype": "text/x-python",
   "name": "python",
   "nbconvert_exporter": "python",
   "pygments_lexer": "ipython3",
   "version": "3.7.1"
  }
 },
 "nbformat": 4,
 "nbformat_minor": 2
}
