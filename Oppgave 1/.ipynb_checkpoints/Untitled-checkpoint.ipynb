{
 "cells": [
  {
   "cell_type": "markdown",
   "metadata": {},
   "source": [
    "# OBLIG 1"
   ]
  },
  {
   "cell_type": "markdown",
   "metadata": {},
   "source": [
    "Alle importeringene jeg trenger til oblig 1"
   ]
  },
  {
   "cell_type": "code",
   "execution_count": 1,
   "metadata": {},
   "outputs": [],
   "source": [
    "from scipy import ndimage\n",
    "from skimage import io,util,color\n",
    "from IPython import display\n",
    "import numpy\n",
    "import sys\n",
    "import math\n",
    "\n",
    "import ipywidgets as widgets\n",
    "from ipywidgets import interactive\n",
    "from IPython.display import display, clear_output\n",
    "\n",
    "import matplotlib.pyplot as plt"
   ]
  },
  {
   "cell_type": "markdown",
   "metadata": {},
   "source": [
    "## Oppgave 1"
   ]
  },
  {
   "cell_type": "code",
   "execution_count": 2,
   "metadata": {},
   "outputs": [],
   "source": [
    "def isOutside(x,y,width,height):\n",
    "    if(x < 0 or y < 0):\n",
    "        return True\n",
    "    if(x >= width or y >= height):\n",
    "        return True\n",
    "    return False\n",
    "\n",
    "def convolve(filtr, image, mode, value = 0):\n",
    "    \n",
    "    filtr = numpy.rot90(filtr, k=2)\n",
    "    \n",
    "    width, height = image.shape\n",
    "    Fwidth, Fheight = filtr.shape\n",
    "    \n",
    "    Mx = math.ceil(Fwidth/2)\n",
    "    My = math.ceil(Fheight/2)\n",
    "    \n",
    "    ret = numpy.zeros(image.shape, dtype=numpy.ubyte)\n",
    "\n",
    "    for x in range(width):\n",
    "        for y in range(height):\n",
    "            s = 0\n",
    "            \n",
    "            for x2 in range(Fwidth):\n",
    "                for y2 in range(Fheight):\n",
    "                    imX = x - (x2 + 1 - Mx)\n",
    "                    imY = y - (y2 + 1 - My)\n",
    "                    \n",
    "                    if(isOutside(imX, imY, width, height)):\n",
    "                        outValue = 0\n",
    "                        \n",
    "                        if(mode == 'constant'):\n",
    "                            outValue = value\n",
    "                        elif(mode == 'wrap'):\n",
    "                            outValue = image[imX % width, imY % height]\n",
    "                        else:\n",
    "                            outValue = 0\n",
    "                        \n",
    "                        s += value * filtr[x2,y2]\n",
    "                    else:\n",
    "                        s += image[imX, imY] * filtr[x2,y2]\n",
    "            \n",
    "            ret[x,y] = s\n",
    "    \n",
    "    return ret"
   ]
  },
  {
   "cell_type": "code",
   "execution_count": 3,
   "metadata": {},
   "outputs": [
    {
     "data": {
      "application/vnd.jupyter.widget-view+json": {
       "model_id": "28612522133d4d75a928dc70fe80e0ab",
       "version_major": 2,
       "version_minor": 0
      },
      "text/plain": [
       "interactive(children=(Dropdown(description='Bilde: ', options={'Trump': '../Bilder/trump1.jpg', 'Squares': '..…"
      ]
     },
     "metadata": {},
     "output_type": "display_data"
    }
   ],
   "source": [
    "def readAndShowImage(image):\n",
    "    im = io.imread(image, as_gray=True)\n",
    "    io.imshow(im)\n",
    "    io.show()\n",
    "\n",
    "inputImage = widgets.Dropdown(\n",
    "    options={\n",
    "        'Lena':'../Bilder/image_resources/lenna-gray.tif',\n",
    "        'Minecraft':'../Bilder/image.png',\n",
    "        'Rice':'../Bilder/image_resources/rice.tif',\n",
    "        'A':'../Bilder/image_resources/letterA.tif',\n",
    "        'Trump':'../Bilder/trump1.jpg',\n",
    "        'Squares':'../Bilder/image_resources/four-squares.tif'},\n",
    "    description='Bilde: ',\n",
    "    disabled=False,\n",
    ")\n",
    "\n",
    "interactive(readAndShowImage, image=inputImage)"
   ]
  },
  {
   "cell_type": "code",
   "execution_count": 4,
   "metadata": {},
   "outputs": [
    {
     "data": {
      "application/vnd.jupyter.widget-view+json": {
       "model_id": "0c19ea4008e7487fbf99736b1aaad38f",
       "version_major": 2,
       "version_minor": 0
      },
      "text/plain": [
       "interactive(children=(Dropdown(description='Bilde: ', options={'Trump': '../Bilder/trump1.jpg', 'Squares': '..…"
      ]
     },
     "metadata": {},
     "output_type": "display_data"
    }
   ],
   "source": [
    "def update(image):\n",
    "    im = util.img_as_ubyte(color.rgb2gray(io.imread(image)))\n",
    "    filtr = numpy.ones((5,5)) / (5*5)\n",
    "    #filtr = numpy.array([[1,2,3],[4,5,6],[7,8,9]]) / 45\n",
    "    \n",
    "    builtin = ndimage.convolve(im, filtr, mode='wrap', cval=0.0)\n",
    "    io.imshow(builtin, cmap='gray')\n",
    "    io.show()\n",
    "    \n",
    "    image = convolve(filtr, im, 'wrap', 0.0)\n",
    "    io.imshow(image, cmap='gray')\n",
    "    io.show()\n",
    "    \n",
    "    diffBuiltin = ndimage.sum(abs(builtin - image))\n",
    "    \n",
    "    diffImage = builtin - image\n",
    "    io.imshow(diffImage)\n",
    "    io.show()\n",
    "    \n",
    "    io.imsave(\"image.bmp\", diffImage)\n",
    "    \n",
    "    print(diffBuiltin)\n",
    "\n",
    "interactive(update, image = inputImage)"
   ]
  },
  {
   "cell_type": "markdown",
   "metadata": {},
   "source": [
    "# Oppgave 2"
   ]
  },
  {
   "cell_type": "code",
   "execution_count": 18,
   "metadata": {},
   "outputs": [
    {
     "data": {
      "application/vnd.jupyter.widget-view+json": {
       "model_id": "dc4fe8def2804fffb8c678ba25f128b6",
       "version_major": 2,
       "version_minor": 0
      },
      "text/plain": [
       "interactive(children=(Dropdown(description='Bilde: ', options={'Trump': '../Bilder/trump1.jpg', 'Squares': '..…"
      ]
     },
     "metadata": {},
     "output_type": "display_data"
    }
   ],
   "source": [
    "def printHistogramBilde(image):\n",
    "    hist,edge = numpy.histogram(image,256, density=True)\n",
    "    ind = numpy.arange(len(hist))  # the x locations for the groups\n",
    "\n",
    "    fig, ax = plt.subplots()\n",
    "    rects1 = ax.bar(ind, hist)\n",
    "\n",
    "    plt.show()\n",
    "\n",
    "def readAndShowImageWHistogram(image):\n",
    "    im = io.imread(image, as_gray=True)\n",
    "    \n",
    "    printHistogramBilde(im)\n",
    "    \n",
    "    io.imshow(im)\n",
    "    io.show()\n",
    "\n",
    "inputImage2 = widgets.Dropdown(\n",
    "    options={\n",
    "        'Lena':'../Bilder/image_resources/lenna-gray.tif',\n",
    "        'Minecraft':'../Bilder/image.png',\n",
    "        'Rice':'../Bilder/image_resources/rice.tif',\n",
    "        'A':'../Bilder/image_resources/letterA.tif',\n",
    "        'Trump':'../Bilder/trump1.jpg',\n",
    "        'Squares':'../Bilder/image_resources/four-squares.tif'},\n",
    "    description='Bilde: ',\n",
    "    disabled=False,\n",
    ")\n",
    "\n",
    "interactive(readAndShowImageWHistogram, image=inputImage2)"
   ]
  },
  {
   "cell_type": "code",
   "execution_count": 35,
   "metadata": {},
   "outputs": [
    {
     "data": {
      "application/vnd.jupyter.widget-view+json": {
       "model_id": "d3d7405450d74f6ab9721c6f1a61a98b",
       "version_major": 2,
       "version_minor": 0
      },
      "text/plain": [
       "interactive(children=(Dropdown(description='Bilde: ', index=3, options={'Trump': '../Bilder/trump1.jpg', 'Squa…"
      ]
     },
     "metadata": {},
     "output_type": "display_data"
    }
   ],
   "source": [
    "def cumulativeDistribution(im):\n",
    "    hist,edge = numpy.histogram(im,256)\n",
    "    \n",
    "    width, height = im.shape\n",
    "    \n",
    "    hist2 = numpy.zeros((256))\n",
    "    \n",
    "    for x in range(256):\n",
    "    \n",
    "    ret = numpy.zeros(256)\n",
    "    ret[0] = hist[0]\n",
    "    \n",
    "    for x in range(1,256):\n",
    "        ret[x] = ret[x-1] + hist[x]\n",
    "    \n",
    "    return ret\n",
    "    \n",
    "def plotCD(image):\n",
    "    im = io.imread(image, as_gray=True)\n",
    "    \n",
    "    CD = cumulativeDistribution(im)\n",
    "    \n",
    "    ind = numpy.arange(len(CD))  # the x locations for the groups\n",
    "\n",
    "    fig, ax = plt.subplots()\n",
    "    rects1 = ax.bar(ind, CD)\n",
    "\n",
    "    plt.show()\n",
    "        \n",
    "interactive(plotCD, image=inputImage2)"
   ]
  },
  {
   "cell_type": "code",
   "execution_count": 36,
   "metadata": {},
   "outputs": [
    {
     "data": {
      "application/vnd.jupyter.widget-view+json": {
       "model_id": "48e5afc9ed78463a9aa533a02a31f069",
       "version_major": 2,
       "version_minor": 0
      },
      "text/plain": [
       "interactive(children=(Dropdown(description='Bilde: ', index=3, options={'Trump': '../Bilder/trump1.jpg', 'Squa…"
      ]
     },
     "metadata": {},
     "output_type": "display_data"
    }
   ],
   "source": [
    "def normalizeImage(image):\n",
    "    im = util.img_as_ubyte(color.rgb2gray(io.imread(image)))\n",
    "    \n",
    "    width, height = im.shape\n",
    "    \n",
    "    CD = cumulativeDistribution(im)\n",
    "    \n",
    "    #for x in range(width):\n",
    "     #   for y in range(height):\n",
    "      #      im[x,y] = CD[im[x,y]]\n",
    "    \n",
    "    for x in range(256):\n",
    "        print(CD[x])\n",
    "    \n",
    "    printHistogramBilde(im)\n",
    "    \n",
    "    io.imshow(im, cmap='gray')\n",
    "    io.show()\n",
    "    \n",
    "interactive(normalizeImage, image=inputImage2)"
   ]
  }
 ],
 "metadata": {
  "kernelspec": {
   "display_name": "Python 3",
   "language": "python",
   "name": "python3"
  },
  "language_info": {
   "codemirror_mode": {
    "name": "ipython",
    "version": 3
   },
   "file_extension": ".py",
   "mimetype": "text/x-python",
   "name": "python",
   "nbconvert_exporter": "python",
   "pygments_lexer": "ipython3",
   "version": "3.5.2"
  }
 },
 "nbformat": 4,
 "nbformat_minor": 2
}
