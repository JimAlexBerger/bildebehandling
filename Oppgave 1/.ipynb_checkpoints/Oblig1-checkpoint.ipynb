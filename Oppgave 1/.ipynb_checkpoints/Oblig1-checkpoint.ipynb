{
 "cells": [
  {
   "cell_type": "markdown",
   "metadata": {},
   "source": [
    "# OBLIG 1"
   ]
  },
  {
   "cell_type": "markdown",
   "metadata": {},
   "source": [
    "Alle importeringene jeg trenger til oblig 1"
   ]
  },
  {
   "cell_type": "code",
   "execution_count": 2,
   "metadata": {},
   "outputs": [],
   "source": [
    "from scipy import ndimage\n",
    "from skimage import io,util,color\n",
    "from IPython import display\n",
    "import numpy\n",
    "import sys\n",
    "import math\n",
    "\n",
    "import ipywidgets as widgets\n",
    "from ipywidgets import interactive\n",
    "from IPython.display import display, clear_output\n",
    "\n",
    "import matplotlib.pyplot as plt\n",
    "\n",
    "%matplotlib inline"
   ]
  },
  {
   "cell_type": "markdown",
   "metadata": {},
   "source": [
    "## Oppgave 1"
   ]
  },
  {
   "cell_type": "code",
   "execution_count": 2,
   "metadata": {},
   "outputs": [],
   "source": [
    "def isOutside(x,y,width,height):\n",
    "    if(x < 0 or y < 0):\n",
    "        return True\n",
    "    if(x >= width or y >= height):\n",
    "        return True\n",
    "    return False\n",
    "\n",
    "def convolve(filtr, image, mode, value = 0):\n",
    "    \n",
    "    filtr = numpy.rot90(filtr, k=2)\n",
    "    \n",
    "    width, height = image.shape\n",
    "    Fwidth, Fheight = filtr.shape\n",
    "    \n",
    "    Mx = math.ceil(Fwidth/2)\n",
    "    My = math.ceil(Fheight/2)\n",
    "    \n",
    "    ret = numpy.zeros(image.shape, dtype=numpy.ubyte)\n",
    "\n",
    "    for x in range(width):\n",
    "        for y in range(height):\n",
    "            s = 0\n",
    "            \n",
    "            for x2 in range(Fwidth):\n",
    "                for y2 in range(Fheight):\n",
    "                    imX = x - (x2 + 1 - Mx)\n",
    "                    imY = y - (y2 + 1 - My)\n",
    "                    \n",
    "                    if(isOutside(imX, imY, width, height)):\n",
    "                        outValue = 0\n",
    "                        \n",
    "                        if(mode == 'constant'):\n",
    "                            outValue = value\n",
    "                        elif(mode == 'wrap'):\n",
    "                            outValue = image[imX % width, imY % height]\n",
    "                        else:\n",
    "                            outValue = 0\n",
    "                        \n",
    "                        s += value * filtr[x2,y2]\n",
    "                    else:\n",
    "                        s += image[imX, imY] * filtr[x2,y2]\n",
    "            \n",
    "            ret[x,y] = s\n",
    "    \n",
    "    return ret"
   ]
  },
  {
   "cell_type": "code",
   "execution_count": 3,
   "metadata": {},
   "outputs": [
    {
     "data": {
      "application/vnd.jupyter.widget-view+json": {
       "model_id": "f21750d04f264fbab330c2fc01189d21",
       "version_major": 2,
       "version_minor": 0
      },
      "text/plain": [
       "interactive(children=(Dropdown(description='Bilde: ', options={'Lena': '../Bilder/image_resources/lenna-gray.t…"
      ]
     },
     "metadata": {},
     "output_type": "display_data"
    }
   ],
   "source": [
    "def readAndShowImage(image):\n",
    "    im = io.imread(image, as_gray=True)\n",
    "    io.imshow(im)\n",
    "    io.show()\n",
    "\n",
    "inputImage = widgets.Dropdown(\n",
    "    options={\n",
    "        'Lena':'../Bilder/image_resources/lenna-gray.tif',\n",
    "        'Minecraft':'../Bilder/image.png',\n",
    "        'Rice':'../Bilder/image_resources/rice.tif',\n",
    "        'A':'../Bilder/image_resources/letterA.tif',\n",
    "        'Trump':'../Bilder/trump1.jpg',\n",
    "        'Squares':'../Bilder/image_resources/four-squares.tif'},\n",
    "    description='Bilde: ',\n",
    "    disabled=False,\n",
    ")\n",
    "\n",
    "interactive(readAndShowImage, image=inputImage)"
   ]
  },
  {
   "cell_type": "code",
   "execution_count": 4,
   "metadata": {},
   "outputs": [
    {
     "data": {
      "application/vnd.jupyter.widget-view+json": {
       "model_id": "0ef00980b777457d8da576f756b2f2a6",
       "version_major": 2,
       "version_minor": 0
      },
      "text/plain": [
       "interactive(children=(Dropdown(description='Bilde: ', options={'Lena': '../Bilder/image_resources/lenna-gray.t…"
      ]
     },
     "metadata": {},
     "output_type": "display_data"
    }
   ],
   "source": [
    "def update(image):\n",
    "    im = util.img_as_ubyte(color.rgb2gray(io.imread(image)))\n",
    "    filtr = numpy.ones((5,5)) / (5*5)\n",
    "    #filtr = numpy.array([[1,2,3],[4,5,6],[7,8,9]]) / 45\n",
    "    \n",
    "    builtin = ndimage.convolve(im, filtr, mode='wrap', cval=0.0)\n",
    "    io.imshow(builtin, cmap='gray')\n",
    "    io.show()\n",
    "    \n",
    "    image = convolve(filtr, im, 'wrap', 0.0)\n",
    "    io.imshow(image, cmap='gray')\n",
    "    io.show()\n",
    "    \n",
    "    diffBuiltin = ndimage.sum(abs(builtin - image))\n",
    "    \n",
    "    diffImage = builtin - image\n",
    "    io.imshow(diffImage)\n",
    "    io.show()\n",
    "    \n",
    "    io.imsave(\"image.bmp\", diffImage)\n",
    "    \n",
    "    print(diffBuiltin)\n",
    "\n",
    "interactive(update, image = inputImage)"
   ]
  },
  {
   "cell_type": "markdown",
   "metadata": {},
   "source": [
    "# Oppgave 2"
   ]
  },
  {
   "cell_type": "markdown",
   "metadata": {},
   "source": [
    "### Her kan du velge hvilket bilde som skal bli prossessert og se ett histogram over bildet"
   ]
  },
  {
   "cell_type": "code",
   "execution_count": 5,
   "metadata": {},
   "outputs": [
    {
     "data": {
      "application/vnd.jupyter.widget-view+json": {
       "model_id": "272caf28e81d43c6abadfde44ea3fa3c",
       "version_major": 2,
       "version_minor": 0
      },
      "text/plain": [
       "interactive(children=(Dropdown(description='Bilde: ', options={'Lena': '../Bilder/image_resources/lenna-gray.t…"
      ]
     },
     "metadata": {},
     "output_type": "display_data"
    }
   ],
   "source": [
    "def histogram(im):\n",
    "    ret = numpy.zeros(256, dtype=numpy.uint)\n",
    "\n",
    "    height, width = im.shape\n",
    "\n",
    "    for x in range(height):\n",
    "        for y in range (width):\n",
    "            ret[im[x][y]] += 1\n",
    "    \n",
    "    return ret\n",
    "\n",
    "def printHistogramBilde(image):\n",
    "    hist = histogram(image)\n",
    "    ind = numpy.arange(len(hist))  \n",
    "\n",
    "    fig, ax = plt.subplots()\n",
    "    rects1 = ax.bar(ind, hist)\n",
    "\n",
    "    plt.show()\n",
    "\n",
    "def readAndShowImageWHistogram(image):\n",
    "    im = util.img_as_ubyte(color.rgb2gray(io.imread(image)))\n",
    "    \n",
    "    printHistogramBilde(im)\n",
    "    \n",
    "    io.imshow(im)\n",
    "    io.show()\n",
    "\n",
    "inputImage2 = widgets.Dropdown(\n",
    "    options={\n",
    "        'Lena':'../Bilder/image_resources/lenna-gray.tif',\n",
    "        'Pollen Mørkt':'../Bilder/image_resources/magnified-pollen-dark.tif',\n",
    "        'Trump':'../Bilder/trump1.jpg',\n",
    "        'Pollen Lav Kontrast':'../Bilder/image_resources/pollen-lowcontrast.tif',\n",
    "        'Einstein Lav Kontrast':'../Bilder/image_resources/einstein-low-contrast.tif'},\n",
    "    description='Bilde: ',\n",
    "    disabled=False,\n",
    ")\n",
    "\n",
    "interactive(readAndShowImageWHistogram, image=inputImage2)"
   ]
  },
  {
   "cell_type": "markdown",
   "metadata": {},
   "source": [
    "### Her genereres den kumulative distibusjonen for bildet og vises"
   ]
  },
  {
   "cell_type": "code",
   "execution_count": 6,
   "metadata": {},
   "outputs": [
    {
     "data": {
      "application/vnd.jupyter.widget-view+json": {
       "model_id": "9c7fe7b5ebc84988b42fabe360f4ee4e",
       "version_major": 2,
       "version_minor": 0
      },
      "text/plain": [
       "interactive(children=(Dropdown(description='Bilde: ', options={'Lena': '../Bilder/image_resources/lenna-gray.t…"
      ]
     },
     "metadata": {},
     "output_type": "display_data"
    }
   ],
   "source": [
    "def cumulativeDistribution(hist):\n",
    "    ret = numpy.zeros(256)\n",
    "    ret[0] = hist[0]\n",
    "    \n",
    "    for x in range(1,256):\n",
    "        ret[x] = ret[x-1] + hist[x]\n",
    "    \n",
    "    return ret\n",
    "\n",
    "def cumulativeDistributionImage(im):\n",
    "    hist = histogram(im)\n",
    "    \n",
    "    width, height = im.shape\n",
    "    \n",
    "    hist2 = numpy.zeros(256)\n",
    "    \n",
    "    for x in range(256):\n",
    "        hist2[x] = hist[x] / (width*height)\n",
    "    \n",
    "    return cumulativeDistribution(hist2)\n",
    "\n",
    "def plotCD(image):\n",
    "    im = util.img_as_ubyte(color.rgb2gray(io.imread(image)))\n",
    "    \n",
    "    CD = cumulativeDistributionImage(im)\n",
    "    \n",
    "    ind = numpy.arange(len(CD))  # the x locations for the groups\n",
    "\n",
    "    fig, ax = plt.subplots()\n",
    "    rects1 = ax.bar(ind, CD)\n",
    "\n",
    "    plt.show()\n",
    "        \n",
    "interactive(plotCD, image=inputImage2)"
   ]
  },
  {
   "cell_type": "markdown",
   "metadata": {},
   "source": [
    "### Bildet etter histogramnormalisering"
   ]
  },
  {
   "cell_type": "code",
   "execution_count": 7,
   "metadata": {
    "scrolled": false
   },
   "outputs": [
    {
     "data": {
      "application/vnd.jupyter.widget-view+json": {
       "model_id": "f17cab1d21ac4c50bdb2b36c0f9391a1",
       "version_major": 2,
       "version_minor": 0
      },
      "text/plain": [
       "interactive(children=(Dropdown(description='Bilde: ', options={'Lena': '../Bilder/image_resources/lenna-gray.t…"
      ]
     },
     "metadata": {},
     "output_type": "display_data"
    }
   ],
   "source": [
    "def histogramEqualization(im):\n",
    "    width, height = im.shape\n",
    "    \n",
    "    CD = cumulativeDistributionImage(im)\n",
    "        \n",
    "    for x in range(width):\n",
    "        for y in range(height):\n",
    "            im[x,y] = numpy.floor(CD[im[x,y]] * 255)\n",
    "            \n",
    "    return im\n",
    "\n",
    "def histogramEq(image):\n",
    "    im = util.img_as_ubyte(color.rgb2gray(io.imread(image)))\n",
    "    \n",
    "    im = histogramEqualization(im)\n",
    "    \n",
    "    printHistogramBilde(im)\n",
    "\n",
    "    io.imshow(im, cmap='gray')\n",
    "    io.show()\n",
    "    \n",
    "interactive(histogramEq, image=inputImage2)"
   ]
  },
  {
   "cell_type": "markdown",
   "metadata": {},
   "source": [
    "### Histogramspesifikasjon"
   ]
  },
  {
   "cell_type": "code",
   "execution_count": 9,
   "metadata": {},
   "outputs": [
    {
     "data": {
      "application/vnd.jupyter.widget-view+json": {
       "model_id": "5477cc6deef6453aae020cd8edded180",
       "version_major": 2,
       "version_minor": 0
      },
      "text/plain": [
       "interactive(children=(Dropdown(description='Bilde: ', index=2, options={'Lena': '../Bilder/image_resources/len…"
      ]
     },
     "metadata": {},
     "output_type": "display_data"
    }
   ],
   "source": [
    "specificationOp = widgets.Dropdown(\n",
    "    options=[\n",
    "        'Linear Increase','Linear Decrease','Exponential Growth', 'Exponential Decay', 'Logarithmic','spec.txt'\n",
    "        ],\n",
    "    description='Specification: ',\n",
    "    disabled=False,\n",
    ")\n",
    "\n",
    "def inverseCumulative(cumulative):\n",
    "    ret = numpy.zeros(256)\n",
    "    \n",
    "    cumulative = numpy.floor(cumulative*255)\n",
    "    \n",
    "    for x in range(256):\n",
    "        ret[int(cumulative[x])] = x\n",
    "    \n",
    "    for x in range(1,256):\n",
    "        if(ret[x] == 0):\n",
    "            ret[x] = ret[x-1]\n",
    "    \n",
    "    return ret\n",
    "\n",
    "def histogramMatch(image, specification):\n",
    "    im = util.img_as_ubyte(color.rgb2gray(io.imread(image)))\n",
    "    \n",
    "    if(specification == 'Linear Increase'):\n",
    "        specification = numpy.arange(256)\n",
    "    elif(specification == 'Linear Decrease'):\n",
    "        specification = numpy.flip(numpy.arange(256))\n",
    "    elif(specification == 'Exponential Growth'):\n",
    "        specification = numpy.zeros(256)\n",
    "        for x in range(256):\n",
    "            specification[x] = x**2\n",
    "    elif(specification == 'Exponential Decay'):\n",
    "        specification = numpy.zeros(256)\n",
    "        for x in range(256):\n",
    "            specification[x] = 256/(0.5*(x+1))\n",
    "    elif(specification == 'Logarithmic'):\n",
    "        specification = numpy.zeros(256)\n",
    "        for x in range(256):\n",
    "            specification[x] = math.log(x+1)\n",
    "    elif(specification == 'spec.txt'):\n",
    "        specification = numpy.loadtxt('spec.txt')\n",
    "        \n",
    "    specification = specification / sum(specification)\n",
    "        \n",
    "    ind = numpy.arange(len(specification))  \n",
    "\n",
    "    fig, ax = plt.subplots()\n",
    "    rects1 = ax.bar(ind, specification)\n",
    "\n",
    "    plt.show()\n",
    "    \n",
    "    specification = inverseCumulative(cumulativeDistribution(specification))\n",
    "    \n",
    "    width, height = im.shape\n",
    "    \n",
    "    #Normalize before matching\n",
    "    im = histogramEqualization(im)\n",
    "    \n",
    "    for x in range(width):\n",
    "        for y in range(height):\n",
    "            im[x,y] = specification[im[x,y]]\n",
    "    \n",
    "    printHistogramBilde(im)\n",
    "    io.imshow(im, cmap='gray')\n",
    "    io.show()\n",
    "\n",
    "interactive(histogramMatch, image=inputImage2, specification=specificationOp)"
   ]
  },
  {
   "cell_type": "markdown",
   "metadata": {},
   "source": [
    "## Oppgave 3"
   ]
  },
  {
   "cell_type": "markdown",
   "metadata": {},
   "source": [
    "### Her kan du velge hvilket bilde som skal bli prosessert"
   ]
  },
  {
   "cell_type": "code",
   "execution_count": 3,
   "metadata": {},
   "outputs": [
    {
     "data": {
      "application/vnd.jupyter.widget-view+json": {
       "model_id": "39c612dea047417099518c1ba6c2bdde",
       "version_major": 2,
       "version_minor": 0
      },
      "text/plain": [
       "interactive(children=(Dropdown(description='Bilde: ', options={'Barbara': 'barbara.png', 'Barbara Noise 1': 'b…"
      ]
     },
     "metadata": {},
     "output_type": "display_data"
    }
   ],
   "source": [
    "def readAndShowImage(image):\n",
    "    im = io.imread(image, as_gray=True)\n",
    "    io.imshow(im, cmap='gray')\n",
    "    io.show()\n",
    "\n",
    "inputImage3 = widgets.Dropdown(\n",
    "    options={\n",
    "        'Barbara':'barbara.png',\n",
    "        'Barbara Noise 1':'barbara_noise1.png',\n",
    "        'Barbara Noise 2':'barbara_noise2.png'\n",
    "    },\n",
    "    description='Bilde: ',\n",
    "    disabled=False,\n",
    ")\n",
    "\n",
    "interactive(readAndShowImage, image=inputImage3)"
   ]
  },
  {
   "cell_type": "code",
   "execution_count": 31,
   "metadata": {},
   "outputs": [
    {
     "data": {
      "application/vnd.jupyter.widget-view+json": {
       "model_id": "613aebea956c49dbb8c894af98e8a1c2",
       "version_major": 2,
       "version_minor": 0
      },
      "text/plain": [
       "interactive(children=(Dropdown(description='Bilde: ', index=2, options={'Barbara': 'barbara.png', 'Barbara Noi…"
      ]
     },
     "metadata": {},
     "output_type": "display_data"
    }
   ],
   "source": [
    "filterOptions = widgets.Dropdown(\n",
    "    options=[\n",
    "        'Box Blur','Gaussian Blur','UnSharpen','Median'\n",
    "    ],\n",
    "    description='Filter: ',\n",
    "    disabled=False,\n",
    ")\n",
    "\n",
    "sizeOption = widgets.IntSlider(\n",
    "    value = 5,\n",
    "    min = 1,\n",
    "    max = 30,\n",
    "    description='Size: ',\n",
    "    disabled=False,\n",
    "    continuous_update = False\n",
    ")\n",
    "\n",
    "\n",
    "def filtrer(image, size, method):\n",
    "    im = util.img_as_float(color.rgb2gray(io.imread(image)))\n",
    "    \n",
    "    if(method == 'Box Blur'):\n",
    "        sizeOption.description = 'Size: '\n",
    "        mask = numpy.ones((size,size))\n",
    "        mask = mask / numpy.sum(mask)\n",
    "        im = ndimage.convolve(im,mask,mode='constant', cval=0)\n",
    "    elif(method == 'Gaussian Blur'):\n",
    "        sizeOption.description = 'Sigma: '\n",
    "        im = ndimage.gaussian_filter(im,size)\n",
    "    elif(method == 'UnSharpen'):\n",
    "        sizeOption.description = 'Sigma: '\n",
    "        imBlurred = ndimage.gaussian_filter(im,size)\n",
    "        imMask = im - imBlurred\n",
    "        im = im + imMask\n",
    "    elif(method == 'Median'):\n",
    "        sizeOption.description = 'Size: '\n",
    "        im = ndimage.median_filter(im,(size,size))\n",
    "    \n",
    "    \n",
    "    io.imshow(numpy.clip(im,0,1), cmap='gray')\n",
    "    io.show()\n",
    "\n",
    "interactive(filtrer, image=inputImage3, size=sizeOption, method=filterOptions)"
   ]
  },
  {
   "cell_type": "code",
   "execution_count": null,
   "metadata": {},
   "outputs": [],
   "source": []
  }
 ],
 "metadata": {
  "kernelspec": {
   "display_name": "Python 3",
   "language": "python",
   "name": "python3"
  },
  "language_info": {
   "codemirror_mode": {
    "name": "ipython",
    "version": 3
   },
   "file_extension": ".py",
   "mimetype": "text/x-python",
   "name": "python",
   "nbconvert_exporter": "python",
   "pygments_lexer": "ipython3",
   "version": "3.7.1"
  }
 },
 "nbformat": 4,
 "nbformat_minor": 2
}
