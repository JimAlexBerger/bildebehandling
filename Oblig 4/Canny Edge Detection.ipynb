{
 "cells": [
  {
   "cell_type": "code",
   "execution_count": 1,
   "metadata": {},
   "outputs": [],
   "source": [
    "from scipy import ndimage\n",
    "from skimage import io,util,color\n",
    "from IPython import display\n",
    "import numpy\n",
    "import sys\n",
    "import math\n",
    "import random\n",
    "\n",
    "import ipywidgets as widgets\n",
    "from ipywidgets import interactive\n",
    "from IPython.display import display, clear_output\n",
    "\n",
    "import matplotlib.pyplot as plt"
   ]
  },
  {
   "cell_type": "code",
   "execution_count": 7,
   "metadata": {},
   "outputs": [
    {
     "data": {
      "application/vnd.jupyter.widget-view+json": {
       "model_id": "89d66261c274479e8ee60ae95bca07c5",
       "version_major": 2,
       "version_minor": 0
      },
      "text/plain": [
       "interactive(children=(Dropdown(description='Bilde: ', options={'Strand': 'strand.jpeg', 'Mandrill': 'mandrill.…"
      ]
     },
     "metadata": {},
     "output_type": "display_data"
    }
   ],
   "source": [
    "def readAndShowImage(image):\n",
    "    im = io.imread(image)\n",
    "    io.imshow(im)\n",
    "    io.show()\n",
    "\n",
    "inputImage = widgets.Dropdown(\n",
    "    options={\n",
    "        'Strand':'strand.jpeg',\n",
    "        'Mandrill':'mandrill.png',\n",
    "        'Trump':'trump.jpg',\n",
    "        'Gruppe':'gruppe.jpg',\n",
    "        'RGB':\"rgb.png\",\n",
    "        'Dress':'TheDress.png',\n",
    "        'wikipedia eksempel':'wiki.png',\n",
    "        'Ulrikke':'ulrikke.jpg'\n",
    "        },\n",
    "    description='Bilde: ',\n",
    "    disabled=False,\n",
    ")\n",
    "\n",
    "interactive(readAndShowImage, image=inputImage)"
   ]
  },
  {
   "cell_type": "code",
   "execution_count": 3,
   "metadata": {},
   "outputs": [],
   "source": [
    "def gaussian(im, sigma):\n",
    "    return ndimage.gaussian_filter(im,sigma)\n",
    "\n",
    "def nonMax(M,alpha):\n",
    "    gN = numpy.zeros(M.shape)\n",
    "    height, width = gN.shape\n",
    "        \n",
    "    for i in range(height):\n",
    "        for j in range(width):\n",
    "            #finn retningen D som passer best med kanten i alpha\n",
    "            d = alpha[i,j]\n",
    "            \n",
    "            if(d < 0):\n",
    "                d += 360\n",
    "                \n",
    "            if ((j+1) < width) and ((j-1) >= 0) and ((i+1) < height) and ((i-1) >= 0):\n",
    "                # 0 degrees\n",
    "                if (d >= 337.5 or d < 22.5) or (d >= 157.5 and d < 202.5):\n",
    "                    if M[i,j] >= M[i,j+1] and M[i,j] >= M[i,j-1]:\n",
    "                        gN[i,j] = M[i,j]\n",
    "                # 45 degrees\n",
    "                if (d >= 22.5 and d < 67.5) or (d >= 202.5 and d < 247.5):\n",
    "                    if M[i,j] >= M[i-1,j+1] and M[i,j] >= M[i+1,j-1]:\n",
    "                        gN[i,j] = M[i,j]\n",
    "                # 90 degrees\n",
    "                if (d >= 67.5 and d < 112.5) or (d >= 247.5 and d < 292.5):\n",
    "                    if M[i,j] >= M[i-1,j] and M[i,j] >= M[i+1,j]:\n",
    "                        gN[i,j] = M[i,j]\n",
    "                # 135 degrees\n",
    "                if (d >= 112.5 and d < 157.5) or (d >= 292.5 and d < 337.5):\n",
    "                    if M[i,j] >= M[i-1,j-1] and M[i,j] >= M[i+1,j+1]:\n",
    "                        gN[i,j] = M[i,j]\n",
    "            \n",
    "                             \n",
    "                             \n",
    "    return gN\n",
    "    \n",
    "\n",
    "def hysterisisTresh(im, low, high):\n",
    "    gNh = im >= high\n",
    "    gNl = numpy.logical_and(im <= high, im >= low)\n",
    "    \n",
    "    retArr = numpy.zeros(im.shape)\n",
    "    \n",
    "    height, width = im.shape\n",
    "    \n",
    "    strongEdgesSet = set(())\n",
    "    \n",
    "    for i in range(height):\n",
    "        for j in range(width):\n",
    "            if(gNh[i,j]):\n",
    "                strongEdgesSet.add((i,j))                \n",
    "    \n",
    "    while(len(strongEdgesSet) > 0):\n",
    "        item = strongEdgesSet.pop()\n",
    "        #adding this item to the final image since it was connected to the strong edges\n",
    "        retArr[item[0],item[1]]  = True\n",
    "        \n",
    "        #finding weak edges connected to this pixel and adding to the set\n",
    "        for i in range(-1,2):\n",
    "            for j in range(-1,2):\n",
    "                if(item[0] + i > 0 and item[0] + i < height and item[1] + j > 0 and item[1] + j < width):\n",
    "                    if(gNl[item[0] + i, item[1] + j]):\n",
    "                        #legger til i settet da det er en svak kant som er koble til en sterk\n",
    "                        strongEdgesSet.add((item[0] + i, item[1] + j))\n",
    "                        #Fjerner fra weak edges for å forhindre å sjekke 2 ganger\n",
    "                        gNl[item[0] + i, item[1] + j] = False\n",
    "    \n",
    "    return retArr\n",
    "    \n",
    "def cannyEdge(im,sigma,low,high):\n",
    "    #Finn et utjevnet gradientbilde ved  ̊a bruke førstederiverte av en Gaussian\n",
    "    \n",
    "    smooth = gaussian(im, sigma)\n",
    "    \n",
    "    sobelX, sobelY = (numpy.asarray([[-1,0,1],[-2,0,2],[-1,0,1]]),numpy.asarray([[-1,-2,-1],[0,0,0],[1,2,1]]))\n",
    "    sobelX, sobelY = (ndimage.convolve(smooth,sobelX),ndimage.convolve(smooth,sobelY))\n",
    "    \n",
    "    M = (sobelX**2 + sobelY**2)**0.5\n",
    "    alpha = numpy.arctan2(sobelY,sobelX)\n",
    "    \n",
    "    alpha *= 180/math.pi\n",
    "    \n",
    "    #Utfør nonmax suppression (ikkemax-fjerning)\n",
    "    \n",
    "    gN = nonMax(M,alpha)\n",
    "    \n",
    "    #Bruk hysteresis thresholding (dual threshold oppsett) for  ̊a finne\n",
    "    canny = hysterisisTresh(gN, low, high)\n",
    "    \n",
    "    return canny"
   ]
  },
  {
   "cell_type": "code",
   "execution_count": 8,
   "metadata": {},
   "outputs": [
    {
     "data": {
      "application/vnd.jupyter.widget-view+json": {
       "model_id": "3b54850aa55b41c2a9d791f91c392dee",
       "version_major": 2,
       "version_minor": 0
      },
      "text/plain": [
       "interactive(children=(Dropdown(description='Bilde: ', index=7, options={'Strand': 'strand.jpeg', 'Mandrill': '…"
      ]
     },
     "metadata": {},
     "output_type": "display_data"
    }
   ],
   "source": [
    "def update(image,sigma, highLow):\n",
    "    im = io.imread(image,as_gray=True)\n",
    "    cannyEdgeIm = cannyEdge(im,sigma, highLow[0], highLow[1])\n",
    "    io.imsave('edge.png',cannyEdgeIm)\n",
    "    io.imshow(cannyEdgeIm, cmap='gray')\n",
    "    io.show()\n",
    "    \n",
    "    \n",
    "highLowSlider = widgets.FloatRangeSlider(\n",
    "    value=[0.1, 0.3],\n",
    "    min=0,\n",
    "    max=0.7,\n",
    "    step=0.01,\n",
    "    description='Low High Hysterisis:',\n",
    "    continuous_update=False,\n",
    "    orientation='horizontal'\n",
    ")\n",
    "    \n",
    "interactive(update, image=inputImage, sigma=(1.0,2.0), highLow=highLowSlider)"
   ]
  },
  {
   "cell_type": "code",
   "execution_count": null,
   "metadata": {},
   "outputs": [],
   "source": []
  }
 ],
 "metadata": {
  "kernelspec": {
   "display_name": "Python 3",
   "language": "python",
   "name": "python3"
  },
  "language_info": {
   "codemirror_mode": {
    "name": "ipython",
    "version": 3
   },
   "file_extension": ".py",
   "mimetype": "text/x-python",
   "name": "python",
   "nbconvert_exporter": "python",
   "pygments_lexer": "ipython3",
   "version": "3.7.1"
  }
 },
 "nbformat": 4,
 "nbformat_minor": 2
}
