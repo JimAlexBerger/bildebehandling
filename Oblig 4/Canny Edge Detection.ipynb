{
 "cells": [
  {
   "cell_type": "code",
   "execution_count": 1,
   "metadata": {},
   "outputs": [],
   "source": [
    "from scipy import ndimage\n",
    "from skimage import io,util,color\n",
    "from IPython import display\n",
    "import numpy\n",
    "import sys\n",
    "import math\n",
    "import random\n",
    "\n",
    "import ipywidgets as widgets\n",
    "from ipywidgets import interactive\n",
    "from IPython.display import display, clear_output\n",
    "\n",
    "import matplotlib.pyplot as plt"
   ]
  },
  {
   "cell_type": "code",
   "execution_count": 2,
   "metadata": {},
   "outputs": [
    {
     "data": {
      "application/vnd.jupyter.widget-view+json": {
       "model_id": "ce0527933b414e92969df1076b7f5350",
       "version_major": 2,
       "version_minor": 0
      },
      "text/plain": [
       "interactive(children=(Dropdown(description='Bilde: ', options={'Strand': 'strand.jpeg', 'Mandrill': 'mandrill.…"
      ]
     },
     "metadata": {},
     "output_type": "display_data"
    }
   ],
   "source": [
    "def readAndShowImage(image):\n",
    "    im = io.imread(image)\n",
    "    io.imshow(im)\n",
    "    io.show()\n",
    "\n",
    "inputImage = widgets.Dropdown(\n",
    "    options={\n",
    "        'Strand':'strand.jpeg',\n",
    "        'Mandrill':'mandrill.png',\n",
    "        'Trump':'trump.jpg',\n",
    "        'Gruppe':'gruppe.jpg',\n",
    "        'RGB':\"rgb.png\",\n",
    "        'Dress':'TheDress.png'\n",
    "        },\n",
    "    description='Bilde: ',\n",
    "    disabled=False,\n",
    ")\n",
    "\n",
    "interactive(readAndShowImage, image=inputImage)"
   ]
  },
  {
   "cell_type": "code",
   "execution_count": 3,
   "metadata": {},
   "outputs": [],
   "source": [
    "def gaussian(im, sigma):\n",
    "    return ndimage.gaussian_filter(im,sigma)\n",
    "\n",
    "def nonMax(M,alpha):\n",
    "    gN = numpy.zeros(M.shape)\n",
    "    height, width = gN.shape\n",
    "    \n",
    "    convertRatio = math.pi/180\n",
    "    \n",
    "    for i in range(height):\n",
    "        for j in range(width):\n",
    "            #finn retningen D som passer best med kanten i alpha\n",
    "            d = alpha[i,j]\n",
    "            \n",
    "            if(d < 0):\n",
    "                d += 360\n",
    "                \n",
    "            if ((j+1) < width) and ((j-1) >= 0) and ((i+1) < height) and ((i-1) >= 0):\n",
    "                # 0 degrees\n",
    "                if (alpha[i,j] >= 337.5 or alpha[i,j] < 22.5) or (alpha[i,j] >= 157.5 and alpha[i,j] < 202.5):\n",
    "                    if M[i,j] >= M[i,j+1] and M[i,j] >= M[i,j-1]:\n",
    "                        gN[i,j] = M[i,j]\n",
    "                # 45 degrees\n",
    "                if (alpha[i,j] >= 22.5 and alpha[i,j] < 67.5) or (alpha[i,j] >= 202.5 and alpha[i,j] < 247.5):\n",
    "                    if M[i,j] >= M[i-1,j+1] and M[i,j] >= M[i+1,j-1]:\n",
    "                        gN[i,j] = M[i,j]\n",
    "                # 90 degrees\n",
    "                if (alpha[i,j] >= 67.5 and alpha[i,j] < 112.5) or (alpha[i,j] >= 247.5 and alpha[i,j] < 292.5):\n",
    "                    if M[i,j] >= M[i-1,j] and M[i,j] >= M[i+1,j]:\n",
    "                        gN[i,j] = M[i,j]\n",
    "                # 135 degrees\n",
    "                if (alpha[i,j] >= 112.5 and alpha[i,j] < 157.5) or (alpha[i,j] >= 292.5 and alpha[i,j] < 337.5):\n",
    "                    if M[i,j] >= M[i-1,j-1] and M[i,j] >= M[i+1,j+1]:\n",
    "                        gN[i,j] = M[i,j]\n",
    "            \n",
    "                             \n",
    "                             \n",
    "    return gN\n",
    "    \n",
    "def cannyEdge(im,sigma):\n",
    "    #Finn et utjevnet gradientbilde ved  ̊a bruke førstederiverte av en Gaussian\n",
    "    \n",
    "    smooth = gaussian(im, sigma)\n",
    "    \n",
    "    sobelX, sobelY = (numpy.asarray([[-1,0,1],[-2,0,2],[-1,0,1]]),numpy.asarray([[-1,-2,-1],[0,0,0],[1,2,1]]))\n",
    "    sobelX, sobelY = (ndimage.convolve(smooth,sobelX),ndimage.convolve(smooth,sobelY))\n",
    "    \n",
    "    M = (sobelX**2 + sobelY**2)**0.5\n",
    "    alpha = numpy.arctan2(sobelY,sobelX)\n",
    "    \n",
    "    alpha *= 180/math.pi\n",
    "    \n",
    "    #Utfør nonmax suppression (ikkemax-fjerning)\n",
    "    \n",
    "    gN = nonMax(M,alpha)\n",
    "    \n",
    "    #Bruk hysteresis thresholding (dual threshold oppsett) for  ̊a finne\n",
    "    \n",
    "    return gN"
   ]
  },
  {
   "cell_type": "code",
   "execution_count": 6,
   "metadata": {},
   "outputs": [
    {
     "data": {
      "application/vnd.jupyter.widget-view+json": {
       "model_id": "257d1a0d96034e96b93ca60c4a694218",
       "version_major": 2,
       "version_minor": 0
      },
      "text/plain": [
       "interactive(children=(Dropdown(description='Bilde: ', index=5, options={'Strand': 'strand.jpeg', 'Mandrill': '…"
      ]
     },
     "metadata": {},
     "output_type": "display_data"
    }
   ],
   "source": [
    "def update(image,sigma):\n",
    "    im = io.imread(image,as_gray=True)\n",
    "    io.imshow(cannyEdge(im,sigma) > 0, cmap='gray')\n",
    "    io.show()\n",
    "    \n",
    "interactive(update, image=inputImage, sigma=(1.0,5.0))"
   ]
  },
  {
   "cell_type": "code",
   "execution_count": null,
   "metadata": {},
   "outputs": [],
   "source": []
  }
 ],
 "metadata": {
  "kernelspec": {
   "display_name": "Python 3",
   "language": "python",
   "name": "python3"
  },
  "language_info": {
   "codemirror_mode": {
    "name": "ipython",
    "version": 3
   },
   "file_extension": ".py",
   "mimetype": "text/x-python",
   "name": "python",
   "nbconvert_exporter": "python",
   "pygments_lexer": "ipython3",
   "version": "3.6.7"
  }
 },
 "nbformat": 4,
 "nbformat_minor": 2
}
