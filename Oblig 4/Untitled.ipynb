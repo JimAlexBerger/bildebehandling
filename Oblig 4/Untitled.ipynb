{
 "cells": [
  {
   "cell_type": "markdown",
   "metadata": {},
   "source": [
    "## Oppgave 2"
   ]
  },
  {
   "cell_type": "code",
   "execution_count": 18,
   "metadata": {},
   "outputs": [],
   "source": [
    "import ipywidgets as widgets\n",
    "from ipywidgets import interactive\n",
    "\n",
    "from scipy import ndimage\n",
    "from skimage import io,util,color\n",
    "\n",
    "from skimage import feature\n",
    "from skimage.filters import sobel\n",
    "\n",
    "import numpy\n"
   ]
  },
  {
   "cell_type": "code",
   "execution_count": 2,
   "metadata": {},
   "outputs": [
    {
     "data": {
      "application/vnd.jupyter.widget-view+json": {
       "model_id": "10f956214beb44fbb1c05893f07a6c69",
       "version_major": 2,
       "version_minor": 0
      },
      "text/plain": [
       "interactive(children=(Dropdown(description='Bilde: ', options={'Strand': 'strand.jpeg', 'Mandrill': 'mandrill.…"
      ]
     },
     "metadata": {},
     "output_type": "display_data"
    }
   ],
   "source": [
    "def readAndShowImage(image):\n",
    "    im = io.imread(image)\n",
    "    io.imshow(im)\n",
    "    io.show()\n",
    "\n",
    "inputImage = widgets.Dropdown(\n",
    "    options={\n",
    "        'Strand':'strand.jpeg',\n",
    "        'Mandrill':'mandrill.png',\n",
    "        'Trump':'trump.jpg',\n",
    "        'Gruppe':'gruppe.jpg',\n",
    "        'RGB':\"rgb.png\",\n",
    "        'Dress':'TheDress.png'\n",
    "        },\n",
    "    description='Bilde: ',\n",
    "    disabled=False,\n",
    ")\n",
    "\n",
    "interactive(readAndShowImage, image=inputImage)"
   ]
  },
  {
   "cell_type": "markdown",
   "metadata": {},
   "source": [
    "Kode for marr-hildreth kantdeteksjon"
   ]
  },
  {
   "cell_type": "code",
   "execution_count": 15,
   "metadata": {},
   "outputs": [],
   "source": [
    "def smooth(image, sigma):\n",
    "    # Read in image and convert to appropriate format\n",
    "    #image = util.img_as_float(color.rgb2gray(io.imread(image)))\n",
    "\n",
    "    # Read in sigma \n",
    "    sigma = float(sigma)\n",
    "\n",
    "    # Calculate size of filter mask\n",
    "    size = int(6*sigma)-1\n",
    "\n",
    "    # A function for converting top-left aligned coordinates to center aligned \n",
    "    # coordinates\n",
    "    def dist(i,j):\n",
    "      # Find the center index\n",
    "      center = size//2\n",
    "      # Return the converted coordinates\n",
    "      return (i-center,j-center) \n",
    "\n",
    "    # A function for creating a Gaussian smoothing filter\n",
    "    def gaussian():\n",
    "      # Create the filter image\n",
    "      mask = numpy.ndarray((size,size), dtype=numpy.float) \n",
    "\n",
    "      # Calculate the constant factor of the Gaussian equation. Not needed if we\n",
    "      # are normalizing the filter after calculations\n",
    "      constant = 1/(2*numpy.pi*sigma**2)\n",
    "\n",
    "      # Loop through all the pixels of the mask\n",
    "      for i in range(0,size):\n",
    "        for j in range(0,size):\n",
    "          # Find the center-aligned coordinates for the current pixel\n",
    "          x,y = dist(i,j)\n",
    "          # Calculate the pixel value \n",
    "          mask[i,j] = constant * numpy.exp(-(x**2 + y**2)/(2*sigma**2))\n",
    "\n",
    "\n",
    "      return mask\n",
    "\n",
    "    # Create the Gaussian filter\n",
    "    gaussian_filter = gaussian()\n",
    "\n",
    "    # Smooth the image using built-in convolution operator and our filter\n",
    "    smooth = ndimage.convolve(image, gaussian_filter, mode=\"nearest\")\n",
    "\n",
    "    return smooth\n",
    "\n",
    "def laplacian(image):\n",
    "    laplacian_filter = numpy.asarray([[-1,-1,-1],[-1,8,-1],[-1,-1,-1]])\n",
    "    return ndimage.convolve(image, laplacian_filter, mode=\"nearest\")\n",
    "\n",
    "def zeroCrossPair(pixel1,pixel2):\n",
    "    if(pixel1*pixel2 < 0):\n",
    "        return abs(pixel1 - pixel2)\n",
    "    else:\n",
    "        return 0\n",
    "\n",
    "def zeroCrossing3x3(subim, tresh):\n",
    "    ret = 0\n",
    "    for x in range(3):\n",
    "        ret += zeroCrossPair(subim[0,x],subim[2,2-x]) \n",
    "    ret += zeroCrossPair(subim[1,0],subim[1,2]) \n",
    "    return ret\n",
    "\n",
    "def zeroCrossing(image,tresh):\n",
    "    height,width = image.shape\n",
    "    ret = numpy.zeros(image.shape, dtype=bool)\n",
    "    for i in range(1,height-1):\n",
    "        for j in range(1,width-1):\n",
    "            subim = image[i-1:i+2,j-1:j+2]\n",
    "            ret[i,j] = zeroCrossing3x3(subim,tresh)\n",
    "    return ret > tresh\n",
    "\n",
    "def marr_hildreth(im,sigma,tresh):\n",
    "    return zeroCrossing(laplacian(smooth(im,sigma)),tresh)"
   ]
  },
  {
   "cell_type": "markdown",
   "metadata": {},
   "source": [
    "Dette er koden for å sammenligne canny kantdeteksjon med sobel og marr hildreth."
   ]
  },
  {
   "cell_type": "code",
   "execution_count": 38,
   "metadata": {},
   "outputs": [
    {
     "data": {
      "application/vnd.jupyter.widget-view+json": {
       "model_id": "77c5ebe5f3de43049c795a281eb77238",
       "version_major": 2,
       "version_minor": 0
      },
      "text/plain": [
       "interactive(children=(Dropdown(description='Bilde: ', index=3, options={'Strand': 'strand.jpeg', 'Mandrill': '…"
      ]
     },
     "metadata": {},
     "output_type": "display_data"
    }
   ],
   "source": [
    "def update(image,tresh,sigma,lowHigh):\n",
    "    im = io.imread(image, as_gray=True)\n",
    "\n",
    "    edge_canny = feature.canny(im,sigma=sigma,low_threshold=lowHigh[0], high_threshold=lowHigh[1])\n",
    "    io.imshow(edge_canny)\n",
    "    io.show()\n",
    "\n",
    "    edge_sobel = sobel(im)\n",
    "    io.imshow(edge_sobel > tresh, cmap='gray')\n",
    "    io.show()\n",
    "\n",
    "    edge_marr = marr_hildreth(im,sigma,tresh)\n",
    "    io.imshow(edge_marr, cmap='gray')\n",
    "    io.show()\n",
    "   \n",
    "highLowSlider = widgets.FloatRangeSlider(\n",
    "    value=[0.1, 0.3],\n",
    "    min=0,\n",
    "    max=0.7,\n",
    "    step=0.01,\n",
    "    description='Low High Hysterisis:',\n",
    "    continuous_update=False,\n",
    "    orientation='horizontal'\n",
    ")\n",
    "\n",
    "interactive(update, image=inputImage, tresh=0.05, sigma=1.5, lowHigh=highLowSlider)"
   ]
  },
  {
   "cell_type": "markdown",
   "metadata": {},
   "source": [
    "Som man kan se får man med sobel filteret med mesteparten av kantene i bildet, men kantene blir ganske tykke. med marr-hildreth får man for mange kanter, men kantene har en fast tykkelse. med canny kantdeteksjon vil jeg si at noen av kantene forsvinner, men dette er mulig å fikse med bedre parametre, kantene er også 1 pixel tykke noe som gjør de enkle å jobbe med."
   ]
  }
 ],
 "metadata": {
  "kernelspec": {
   "display_name": "Python 3",
   "language": "python",
   "name": "python3"
  },
  "language_info": {
   "codemirror_mode": {
    "name": "ipython",
    "version": 3
   },
   "file_extension": ".py",
   "mimetype": "text/x-python",
   "name": "python",
   "nbconvert_exporter": "python",
   "pygments_lexer": "ipython3",
   "version": "3.7.1"
  }
 },
 "nbformat": 4,
 "nbformat_minor": 2
}
