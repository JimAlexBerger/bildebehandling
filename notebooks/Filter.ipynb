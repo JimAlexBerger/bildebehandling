{
 "cells": [
  {
   "cell_type": "markdown",
   "metadata": {},
   "source": [
    "# Filter Bilde"
   ]
  },
  {
   "cell_type": "markdown",
   "metadata": {},
   "source": [
    "## Import"
   ]
  },
  {
   "cell_type": "code",
   "execution_count": 1,
   "metadata": {},
   "outputs": [],
   "source": [
    "from scipy import ndimage\n",
    "from skimage import io\n",
    "from IPython import display\n",
    "import numpy\n",
    "import sys\n",
    "import math\n",
    "\n",
    "import ipywidgets as widgets\n",
    "from ipywidgets import interactive\n",
    "from IPython.display import display"
   ]
  },
  {
   "cell_type": "markdown",
   "metadata": {},
   "source": [
    "## Funksjoner for å generere filter"
   ]
  },
  {
   "cell_type": "code",
   "execution_count": 2,
   "metadata": {},
   "outputs": [],
   "source": [
    "def gaussian(a,b):\n",
    "\n",
    "    m = 2*a + 1\n",
    "    n = 2*b + 1\n",
    "    \n",
    "    sigma = (m+1)/6\n",
    "\n",
    "    ret = numpy.zeros((m,n))\n",
    "\n",
    "    for x in range(m):\n",
    "        for y in range(n):\n",
    "            dx = abs(a - x)\n",
    "            dy = abs(b - y)\n",
    "            ret[x][y] = (1/(2*math.pi*sigma**2))*math.e**(-(dx**2+dy**2)/(2*sigma**2))\n",
    "\n",
    "    return ret\n",
    "\n",
    "def avg(a,b):\n",
    "    m = 2*a + 1\n",
    "    n = 2*b + 1\n",
    "    ret = numpy.ones((m,n))\n",
    "    ret = ret / (m*n)\n",
    "    return ret\n",
    "\n",
    "def weight(a,b):\n",
    "    m = 2*a + 1\n",
    "    n = 2*b + 1\n",
    "\n",
    "    ret = numpy.zeros((m,n))\n",
    "\n",
    "    s = 0\n",
    "\n",
    "    for x in range(m):\n",
    "        for y in range(n):\n",
    "            dx = abs(a - x)\n",
    "            dy = abs(b - y)\n",
    "            num = 1/((dx + dy + 1)**2)\n",
    "            s += num\n",
    "            ret[x][y] = num\n",
    "\n",
    "    return ret / s"
   ]
  },
  {
   "cell_type": "markdown",
   "metadata": {},
   "source": [
    "## Velg bilde"
   ]
  },
  {
   "cell_type": "code",
   "execution_count": 12,
   "metadata": {},
   "outputs": [
    {
     "data": {
      "application/vnd.jupyter.widget-view+json": {
       "model_id": "a9161e7126904dea90648a07a8935587",
       "version_major": 2,
       "version_minor": 0
      },
      "text/plain": [
       "interactive(children=(Dropdown(description='Bilde:', options={'Minecraft': '../Bilder/image.png', 'Rice': '../…"
      ]
     },
     "metadata": {},
     "output_type": "display_data"
    }
   ],
   "source": [
    "def readAndShowImage(image):\n",
    "    im = io.imread(image, as_gray=True)\n",
    "    io.imshow(im)\n",
    "    io.show()\n",
    "\n",
    "inputImage = widgets.Dropdown(\n",
    "    options={\n",
    "        'Lena':'../Bilder/bilde.jpg',\n",
    "        'Minecraft':'../Bilder/image.png',\n",
    "        'Rice':'../Bilder/image_resources/rice.tif'},\n",
    "    description='Bilde: ',\n",
    "    disabled=False,\n",
    ")\n",
    "\n",
    "interactive(readAndShowImage, image=inputImage)"
   ]
  },
  {
   "cell_type": "markdown",
   "metadata": {},
   "source": [
    "## Velg filter"
   ]
  },
  {
   "cell_type": "code",
   "execution_count": 29,
   "metadata": {
    "scrolled": false
   },
   "outputs": [
    {
     "data": {
      "application/vnd.jupyter.widget-view+json": {
       "model_id": "8bce44e9cb5c422397f4046b0bd1f0cf",
       "version_major": 2,
       "version_minor": 0
      },
      "text/plain": [
       "interactive(children=(Dropdown(description='Bilde:', index=2, options={'Minecraft': '../Bilder/image.png', 'Ri…"
      ]
     },
     "metadata": {},
     "output_type": "display_data"
    }
   ],
   "source": [
    "sharpen =  numpy.array([[0,-1,0],[-1,5,-1],[0,-1,0]])\n",
    "edge =  numpy.array([[-1,-1,-1],[-1,8,-1],[-1,-1,-1]])                                                                                                                       \n",
    "\n",
    "\n",
    "switcher = {\n",
    "       'Average': avg(5,5),\n",
    "       'Approximated Gauss': weight(5,5),\n",
    "       'Gauss': gaussian(5,5),\n",
    "}\n",
    "\n",
    "\n",
    "def updateFiltred(image, filt):\n",
    "    im = io.imread(image, as_gray=True)\n",
    "    filtred = ndimage.convolve(im,switcher[filt],mode='constant',cval=0) \n",
    "    io.imshow(filtred)\n",
    "    io.show()\n",
    "\n",
    "\n",
    "filtr = widgets.Dropdown(\n",
    "    options=['Average','Approximated Gauss','Gauss'],\n",
    "    description='Filter: ',\n",
    "    disabled=False,\n",
    ")\n",
    "\n",
    "interactive(updateFiltred, image=inputImage, filt=filtr)"
   ]
  }
 ],
 "metadata": {
  "kernelspec": {
   "display_name": "Python 3",
   "language": "python",
   "name": "python3"
  },
  "language_info": {
   "codemirror_mode": {
    "name": "ipython",
    "version": 3
   },
   "file_extension": ".py",
   "mimetype": "text/x-python",
   "name": "python",
   "nbconvert_exporter": "python",
   "pygments_lexer": "ipython3",
   "version": "3.5.2"
  }
 },
 "nbformat": 4,
 "nbformat_minor": 2
}
