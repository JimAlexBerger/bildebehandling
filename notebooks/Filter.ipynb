{
 "cells": [
  {
   "cell_type": "markdown",
   "metadata": {},
   "source": [
    "# Filter Bilde"
   ]
  },
  {
   "cell_type": "markdown",
   "metadata": {},
   "source": [
    "## Import"
   ]
  },
  {
   "cell_type": "code",
   "execution_count": 1,
   "metadata": {},
   "outputs": [],
   "source": [
    "from scipy import ndimage\n",
    "from skimage import io\n",
    "from IPython import display\n",
    "import numpy\n",
    "import sys\n",
    "import math\n",
    "\n",
    "import ipywidgets as widgets\n",
    "from ipywidgets import interactive\n",
    "from IPython.display import display"
   ]
  },
  {
   "cell_type": "markdown",
   "metadata": {},
   "source": [
    "## Funksjoner for å generere filter"
   ]
  },
  {
   "cell_type": "code",
   "execution_count": 2,
   "metadata": {},
   "outputs": [],
   "source": [
    "def gaussian(a,b):\n",
    "\n",
    "    m = 2*a + 1\n",
    "    n = 2*b + 1\n",
    "    \n",
    "    sigma = (m+1)/6\n",
    "\n",
    "    ret = numpy.zeros((m,n))\n",
    "\n",
    "    for x in range(m):\n",
    "        for y in range(n):\n",
    "            dx = abs(a - x)\n",
    "            dy = abs(b - y)\n",
    "            ret[x][y] = (1/(2*math.pi*sigma**2))*math.e**(-(dx**2+dy**2)/(2*sigma**2))\n",
    "\n",
    "    return ret\n",
    "\n",
    "def avg(a,b):\n",
    "    m = 2*a + 1\n",
    "    n = 2*b + 1\n",
    "    ret = numpy.ones((m,n))\n",
    "    ret = ret / (m*n)\n",
    "    return ret\n",
    "\n",
    "def weight(a,b):\n",
    "    m = 2*a + 1\n",
    "    n = 2*b + 1\n",
    "\n",
    "    ret = numpy.zeros((m,n))\n",
    "\n",
    "    s = 0\n",
    "\n",
    "    for x in range(m):\n",
    "        for y in range(n):\n",
    "            dx = abs(a - x)\n",
    "            dy = abs(b - y)\n",
    "            num = 1/((dx + dy + 1)**2)\n",
    "            s += num\n",
    "            ret[x][y] = num\n",
    "\n",
    "    return ret / s"
   ]
  },
  {
   "cell_type": "markdown",
   "metadata": {},
   "source": [
    "## Velg bilde"
   ]
  },
  {
   "cell_type": "code",
   "execution_count": 3,
   "metadata": {},
   "outputs": [
    {
     "data": {
      "application/vnd.jupyter.widget-view+json": {
       "model_id": "0bc78a0734b441a9a3a36cb225bdedd9",
       "version_major": 2,
       "version_minor": 0
      },
      "text/plain": [
       "interactive(children=(Dropdown(description='Bilde: ', options={'A': '../Bilder/image_resources/letterA.tif', '…"
      ]
     },
     "metadata": {},
     "output_type": "display_data"
    }
   ],
   "source": [
    "def readAndShowImage(image):\n",
    "    im = io.imread(image, as_gray=True)\n",
    "    io.imshow(im)\n",
    "    io.show()\n",
    "\n",
    "inputImage = widgets.Dropdown(\n",
    "    options={\n",
    "        'Lena':'../Bilder/image_resources/lenna-gray.tif',\n",
    "        'Minecraft':'../Bilder/image.png',\n",
    "        'Rice':'../Bilder/image_resources/rice.tif',\n",
    "        'A':'../Bilder/image_resources/letterA.tif'},\n",
    "    description='Bilde: ',\n",
    "    disabled=False,\n",
    ")\n",
    "\n",
    "interactive(readAndShowImage, image=inputImage)"
   ]
  },
  {
   "cell_type": "markdown",
   "metadata": {},
   "source": [
    "## Velg filter"
   ]
  },
  {
   "cell_type": "code",
   "execution_count": 4,
   "metadata": {
    "scrolled": false
   },
   "outputs": [
    {
     "data": {
      "application/vnd.jupyter.widget-view+json": {
       "model_id": "264a3b5f1ed647a5bd5f5f36af743f64",
       "version_major": 2,
       "version_minor": 0
      },
      "text/plain": [
       "interactive(children=(Dropdown(description='Bilde: ', options={'A': '../Bilder/image_resources/letterA.tif', '…"
      ]
     },
     "metadata": {},
     "output_type": "display_data"
    }
   ],
   "source": [
    "sharpen =  numpy.array([[0,-1,0],[-1,5,-1],[0,-1,0]])\n",
    "edge =  numpy.array([[-1,-1,-1],[-1,8,-1],[-1,-1,-1]])                                                                                                                       \n",
    "\n",
    "\n",
    "switcher = {\n",
    "       'Average': avg,\n",
    "       'Approximated Gauss': weight,\n",
    "       'Gauss': gaussian,\n",
    "}\n",
    "\n",
    "\n",
    "def updateFiltred(image, filt, size):\n",
    "    im = io.imread(image, as_gray=True)\n",
    "    filtred = ndimage.convolve(im,switcher[filt](size,size),mode='constant',cval=0) \n",
    "    io.imshow(filtred)\n",
    "    io.show()\n",
    "\n",
    "\n",
    "filtr = widgets.Dropdown(\n",
    "    options=list(switcher.keys()),\n",
    "    description='Filter: ',\n",
    "    disabled=False,\n",
    ")\n",
    "\n",
    "filtrSize = widgets.IntSlider(min=1, max=25, value=10, description='Filter size: ', continuous_update=False)\n",
    "\n",
    "interactive(updateFiltred, image=inputImage, filt=filtr, size=filtrSize)"
   ]
  }
 ],
 "metadata": {
  "celltoolbar": "Raw Cell Format",
  "kernelspec": {
   "display_name": "Python 3",
   "language": "python",
   "name": "python3"
  },
  "language_info": {
   "codemirror_mode": {
    "name": "ipython",
    "version": 3
   },
   "file_extension": ".py",
   "mimetype": "text/x-python",
   "name": "python",
   "nbconvert_exporter": "python",
   "pygments_lexer": "ipython3",
   "version": "3.5.2"
  }
 },
 "nbformat": 4,
 "nbformat_minor": 2
}
