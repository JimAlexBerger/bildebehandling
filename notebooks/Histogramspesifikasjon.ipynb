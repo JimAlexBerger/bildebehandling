{
 "cells": [
  {
   "cell_type": "code",
   "execution_count": 2,
   "metadata": {},
   "outputs": [],
   "source": [
    "from scipy import ndimage\n",
    "from skimage import io,util,color\n",
    "from IPython import display\n",
    "import numpy\n",
    "import sys\n",
    "import math\n",
    "\n",
    "import ipywidgets as widgets\n",
    "from ipywidgets import interactive\n",
    "from IPython.display import display\n",
    "\n",
    "import matplotlib.pyplot as plt"
   ]
  },
  {
   "cell_type": "code",
   "execution_count": 3,
   "metadata": {},
   "outputs": [
    {
     "data": {
      "application/vnd.jupyter.widget-view+json": {
       "model_id": "948cc98459874a8fb93b7d53f2db977a",
       "version_major": 2,
       "version_minor": 0
      },
      "text/plain": [
       "interactive(children=(Dropdown(description='Bilde: ', options={'Rice': '../Bilder/image_resources/rice.tif', '…"
      ]
     },
     "metadata": {},
     "output_type": "display_data"
    }
   ],
   "source": [
    "def readAndShowImage(image):\n",
    "    im = io.imread(image, as_gray=True)\n",
    "    io.imshow(im)\n",
    "    io.show()\n",
    "    im\n",
    "\n",
    "inputImage = widgets.Dropdown(\n",
    "    options={\n",
    "        'Lena':'../Bilder/image_resources/lenna-gray.tif',\n",
    "        'Minecraft':'../Bilder/image.png',\n",
    "        'Rice':'../Bilder/image_resources/rice.tif',\n",
    "        'A':'../Bilder/image_resources/letterA.tif',\n",
    "        'Trump':'../Bilder/trump1.jpg'},\n",
    "    description='Bilde: ',\n",
    "    disabled=False,\n",
    ")\n",
    "\n",
    "interactive(readAndShowImage, image=inputImage)"
   ]
  },
  {
   "cell_type": "code",
   "execution_count": 4,
   "metadata": {},
   "outputs": [],
   "source": [
    "def histogram(image):\n",
    "    histogram = numpy.zeros((256,1), dtype=numpy.uint)\n",
    "\n",
    "    height, width = image.shape\n",
    "\n",
    "    for x in range(height):\n",
    "        for y in range (width):\n",
    "            histogram[image[x][y]] += 1\n",
    "    \n",
    "    return histogram"
   ]
  },
  {
   "cell_type": "code",
   "execution_count": 5,
   "metadata": {},
   "outputs": [
    {
     "data": {
      "application/vnd.jupyter.widget-view+json": {
       "model_id": "ef665c68bb164b9383140160bc969574",
       "version_major": 2,
       "version_minor": 0
      },
      "text/plain": [
       "interactive(children=(Dropdown(description='Bilde: ', options={'Rice': '../Bilder/image_resources/rice.tif', '…"
      ]
     },
     "metadata": {},
     "output_type": "display_data"
    }
   ],
   "source": [
    "def showHistogram(image):\n",
    "    im = util.img_as_ubyte(color.rgb2gray(io.imread(image)))\n",
    "    \n",
    "    height, width = im.shape\n",
    "    \n",
    "    histo = histogram(im)\n",
    "    \n",
    "    prob = histo / (height*width)\n",
    "        \n",
    "    accum = numpy.zeros(prob.shape)\n",
    "    accum[0][0] = prob[0][0]\n",
    "    for num in range(1,256):\n",
    "        accum[num][0] = accum[num-1][0] + prob[num][0]\n",
    "    \n",
    "    ret = numpy.zeros(im.shape, dtype=numpy.ubyte)\n",
    "    \n",
    "    for x in range(height):\n",
    "        for y in range (width):\n",
    "            ret[x][y] = numpy.ubyte(255 * accum[im[x][y]])\n",
    "    \n",
    "    io.imshow(ret)\n",
    "    io.show()\n",
    "\n",
    "    \n",
    "interactive(showHistogram, image=inputImage)"
   ]
  }
 ],
 "metadata": {
  "kernelspec": {
   "display_name": "Python 3",
   "language": "python",
   "name": "python3"
  },
  "language_info": {
   "codemirror_mode": {
    "name": "ipython",
    "version": 3
   },
   "file_extension": ".py",
   "mimetype": "text/x-python",
   "name": "python",
   "nbconvert_exporter": "python",
   "pygments_lexer": "ipython3",
   "version": "3.5.2"
  }
 },
 "nbformat": 4,
 "nbformat_minor": 2
}
