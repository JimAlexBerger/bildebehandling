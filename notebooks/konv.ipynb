{
 "cells": [
  {
   "cell_type": "code",
   "execution_count": 2,
   "metadata": {},
   "outputs": [],
   "source": [
    "import numpy\n",
    "from scipy import ndimage"
   ]
  },
  {
   "cell_type": "code",
   "execution_count": 4,
   "metadata": {},
   "outputs": [],
   "source": [
    "m = numpy.array([[1,2,3],[4,5,6],[7,8,9]])\n",
    "w = numpy.array([[0,1,0],[1,1,1],[0,1,0]])"
   ]
  },
  {
   "cell_type": "code",
   "execution_count": 5,
   "metadata": {},
   "outputs": [
    {
     "name": "stdout",
     "output_type": "stream",
     "text": [
      "[[ 7 11 11]\n",
      " [17 25 23]\n",
      " [19 29 23]]\n",
      "[[ 7 11 11]\n",
      " [17 25 23]\n",
      " [19 29 23]]\n",
      "True\n"
     ]
    }
   ],
   "source": [
    "conv = ndimage.convolve(m,w,mode='constant', cval=0)\n",
    "corr = ndimage.correlate(m,w,mode='constant', cval=0)\n",
    "\n",
    "print(conv)\n",
    "print(corr)\n",
    "print(numpy.array_equal(conv, corr))"
   ]
  },
  {
   "cell_type": "code",
   "execution_count": null,
   "metadata": {},
   "outputs": [],
   "source": []
  }
 ],
 "metadata": {
  "kernelspec": {
   "display_name": "Python 3",
   "language": "python",
   "name": "python3"
  },
  "language_info": {
   "codemirror_mode": {
    "name": "ipython",
    "version": 3
   },
   "file_extension": ".py",
   "mimetype": "text/x-python",
   "name": "python",
   "nbconvert_exporter": "python",
   "pygments_lexer": "ipython3",
   "version": "3.5.2"
  }
 },
 "nbformat": 4,
 "nbformat_minor": 2
}
