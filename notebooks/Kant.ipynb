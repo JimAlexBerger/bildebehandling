{
 "cells": [
  {
   "cell_type": "code",
   "execution_count": 1,
   "metadata": {},
   "outputs": [],
   "source": [
    "from scipy import ndimage\n",
    "from skimage import io,util,color\n",
    "from IPython import display\n",
    "import numpy\n",
    "import sys\n",
    "import math\n",
    "\n",
    "import ipywidgets as widgets\n",
    "from ipywidgets import interactive\n",
    "from IPython.display import display"
   ]
  },
  {
   "cell_type": "code",
   "execution_count": 2,
   "metadata": {},
   "outputs": [
    {
     "data": {
      "application/vnd.jupyter.widget-view+json": {
       "model_id": "ad4e2a476e7d4e1283120a2ef023a166",
       "version_major": 2,
       "version_minor": 0
      },
      "text/plain": [
       "interactive(children=(Dropdown(description='Bilde: ', options={'Trump': '../Bilder/trump1.jpg', 'Rice': '../Bi…"
      ]
     },
     "metadata": {},
     "output_type": "display_data"
    }
   ],
   "source": [
    "def readAndShowImage(image):\n",
    "    im = io.imread(image, as_gray=True)\n",
    "    io.imshow(im)\n",
    "    io.show()\n",
    "    im\n",
    "\n",
    "inputImage = widgets.Dropdown(\n",
    "    options={\n",
    "        'Lena':'../Bilder/image_resources/lenna-gray.tif',\n",
    "        'Minecraft':'../Bilder/image.png',\n",
    "        'Rice':'../Bilder/image_resources/rice.tif',\n",
    "        'A':'../Bilder/image_resources/letterA.tif',\n",
    "        'Trump':'../Bilder/trump1.jpg'},\n",
    "    description='Bilde: ',\n",
    "    disabled=False,\n",
    ")\n",
    "\n",
    "interactive(readAndShowImage, image=inputImage)"
   ]
  },
  {
   "cell_type": "code",
   "execution_count": 5,
   "metadata": {},
   "outputs": [
    {
     "data": {
      "application/vnd.jupyter.widget-view+json": {
       "model_id": "ecb0de6733d3493f91904a5f06cf11e1",
       "version_major": 2,
       "version_minor": 0
      },
      "text/plain": [
       "interactive(children=(Dropdown(description='Bilde: ', options={'Trump': '../Bilder/trump1.jpg', 'Rice': '../Bi…"
      ]
     },
     "metadata": {},
     "output_type": "display_data"
    }
   ],
   "source": [
    "def edge(image, cutoff):\n",
    "    im = util.img_as_float64(io.imread(image, as_gray=True))\n",
    "    \n",
    "    sobel_x = numpy.array([[-1,0,1],[-2,0,2],[-1,0,1]])\n",
    "    sobel_y = numpy.array([[-1,-2,-1],[0,0,0],[1,2,1]])\n",
    "    \n",
    "    grad_x = ndimage.convolve(im,sobel_x,mode='constant',cval=0)\n",
    "    grad_y = ndimage.convolve(im,sobel_y,mode='constant',cval=0) \n",
    "    \n",
    "    #io.imshow(grad_x, cmap='gray')\n",
    "    #io.show()\n",
    "    #io.imshow(grad_y, cmap='gray')\n",
    "    #io.show()\n",
    "    \n",
    "    mag = (grad_x**2 + grad_y**2)**0.5\n",
    "    #mag /= mag.max()\n",
    "    #mag = numpy.clip(mag,0,1)\n",
    "    mag = numpy.interp(mag,(mag.min(),mag.max()), (0,1))\n",
    "    io.imshow(numpy.interp(numpy.clip(mag,cutoff,1),(cutoff,1),(0,1)), cmap='gray')\n",
    "    io.show()\n",
    "    \n",
    "def laplacian(image, sharpness):\n",
    "    im = util.img_as_float64(io.imread(image, as_gray=True))\n",
    "    \n",
    "    mask = numpy.array([[-1,-1,-1],[-1,8,-1],[-1,-1,-1]])\n",
    "    laplace = ndimage.convolve(im,mask,mode='constant',cval=0)\n",
    "    \n",
    "    im += sharpness*laplace\n",
    "    #im = numpy.interp(im,(im.min(),im.max()), (0,1))\n",
    "    io.imshow(numpy.clip(im,0,1), cmap='gray')\n",
    "    #io.imshow(im,cmap='gray')\n",
    "    io.show()\n",
    "    \n",
    "interactive(laplacian, image=inputImage, sharpness=widgets.FloatSlider(min=0.0,max=2.0,step=0.05,value=0.3,continuous_update=True))    \n",
    "#interactive(edge, image=inputImage, cutoff=widgets.FloatSlider(min=0.0,max=0.5,step=0.05,continuous_update=True))"
   ]
  }
 ],
 "metadata": {
  "kernelspec": {
   "display_name": "Python 3",
   "language": "python",
   "name": "python3"
  },
  "language_info": {
   "codemirror_mode": {
    "name": "ipython",
    "version": 3
   },
   "file_extension": ".py",
   "mimetype": "text/x-python",
   "name": "python",
   "nbconvert_exporter": "python",
   "pygments_lexer": "ipython3",
   "version": "3.5.2"
  }
 },
 "nbformat": 4,
 "nbformat_minor": 2
}
