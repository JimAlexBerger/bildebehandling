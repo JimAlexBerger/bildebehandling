{
 "cells": [
  {
   "cell_type": "code",
   "execution_count": 1,
   "metadata": {},
   "outputs": [],
   "source": [
    "from scipy import ndimage\n",
    "from skimage import io,util,color\n",
    "from IPython import display\n",
    "import numpy\n",
    "import sys\n",
    "import math\n",
    "import random\n",
    "\n",
    "import ipywidgets as widgets\n",
    "from ipywidgets import interactive\n",
    "from IPython.display import display, clear_output\n",
    "\n",
    "import matplotlib.pyplot as plt"
   ]
  },
  {
   "cell_type": "code",
   "execution_count": 4,
   "metadata": {},
   "outputs": [
    {
     "data": {
      "application/vnd.jupyter.widget-view+json": {
       "model_id": "42fbde52bcdf4c968555c3aa73cfc271",
       "version_major": 2,
       "version_minor": 0
      },
      "text/plain": [
       "interactive(children=(Dropdown(description='Bilde: ', options={'Strand': 'strand.jpeg', 'Mandrill': 'mandrill.…"
      ]
     },
     "metadata": {},
     "output_type": "display_data"
    }
   ],
   "source": [
    "def readAndShowImage(image):\n",
    "    im = io.imread(image)\n",
    "    io.imshow(im)\n",
    "    io.show()\n",
    "\n",
    "inputImage = widgets.Dropdown(\n",
    "    options={\n",
    "        'Strand':'strand.jpeg',\n",
    "        'Mandrill':'mandrill.png',\n",
    "        'Trump':'trump.jpg'\n",
    "        },\n",
    "    description='Bilde: ',\n",
    "    disabled=False,\n",
    ")\n",
    "\n",
    "interactive(readAndShowImage, image=inputImage)"
   ]
  },
  {
   "cell_type": "code",
   "execution_count": 11,
   "metadata": {},
   "outputs": [
    {
     "data": {
      "application/vnd.jupyter.widget-view+json": {
       "model_id": "080d10fd85ab47d09c606910de5833d1",
       "version_major": 2,
       "version_minor": 0
      },
      "text/plain": [
       "interactive(children=(Dropdown(description='Bilde: ', index=2, options={'Strand': 'strand.jpeg', 'Mandrill': '…"
      ]
     },
     "metadata": {},
     "output_type": "display_data"
    }
   ],
   "source": [
    "def distance(pixel1, pixel2):\n",
    "    return ((pixel1[0] - pixel2[0])**2 + (pixel1[1] - pixel2[1])**2 + (pixel1[2] - pixel2[2])**2)**0.5\n",
    "\n",
    "def segment(im, numSegments):  \n",
    "    im = util.img_as_float64(im)\n",
    "    width, height, depth = im.shape\n",
    "    \n",
    "    segments = []\n",
    "    \n",
    "    for x in range(numSegments):\n",
    "        segment = {}\n",
    "        segment[\"pixel\"] = im[random.randint(0,width-1),random.randint(0,height-1)]\n",
    "        segment[\"data\"] = {\"sum\":[0,0,0],\"num\":0}\n",
    "        segments.append(segment)\n",
    "\n",
    "#     numSegments = 3\n",
    "#     segment = {}\n",
    "#     segment[\"pixel\"] = [0,0,1]\n",
    "#     segment[\"data\"] = {\"sum\":[0,0,0],\"num\":0}\n",
    "#     segments.append(segment)\n",
    "#     segment2 = {}\n",
    "#     segment2[\"pixel\"] = [0,1,0]\n",
    "#     segment2[\"data\"] = {\"sum\":[0,0,0],\"num\":0}\n",
    "#     segments.append(segment2)\n",
    "#     segment3 = {}\n",
    "#     segment3[\"pixel\"] = [1,0,0]\n",
    "#     segment3[\"data\"] = {\"sum\":[0,0,0],\"num\":0}\n",
    "#     segments.append(segment3)\n",
    "        \n",
    "    for x in range(width):\n",
    "        for y in range(height):\n",
    "            closest = 0\n",
    "            closestDistance = math.inf\n",
    "            for segment in segments:\n",
    "                dist = distance(im[x,y],segment[\"pixel\"])\n",
    "                if( dist < closestDistance):\n",
    "                    closestDistance = dist\n",
    "                    closest = segment\n",
    "            closest[\"data\"][\"sum\"] += im[x,y]\n",
    "            closest[\"data\"][\"num\"] += 1\n",
    "    \n",
    "    for segment in segments:\n",
    "        segment[\"data\"][\"average\"] = segment[\"data\"][\"sum\"] / segment[\"data\"][\"num\"]\n",
    "#         segment[\"data\"][\"average\"] = segment[\"pixel\"]\n",
    "        \n",
    "    for x in range(width):\n",
    "        for y in range(height):\n",
    "            closest = 0\n",
    "            closestDistance = math.inf\n",
    "            for segment in segments:\n",
    "                dist = distance(im[x,y],segment[\"pixel\"])\n",
    "                if( dist < closestDistance):\n",
    "                    closestDistance = dist\n",
    "                    closest = segment\n",
    "            im[x,y] = closest[\"data\"][\"average\"]\n",
    "            \n",
    "    \n",
    "    return im\n",
    "\n",
    "def update(image, numSegments):\n",
    "    im = io.imread(image)\n",
    "    segmented = segment(im,numSegments)\n",
    "    io.imshow(segmented)\n",
    "    io.show()\n",
    "    \n",
    "interactive(update, image=inputImage, numSegments=(1,32)) "
   ]
  }
 ],
 "metadata": {
  "kernelspec": {
   "display_name": "Python 3",
   "language": "python",
   "name": "python3"
  },
  "language_info": {
   "codemirror_mode": {
    "name": "ipython",
    "version": 3
   },
   "file_extension": ".py",
   "mimetype": "text/x-python",
   "name": "python",
   "nbconvert_exporter": "python",
   "pygments_lexer": "ipython3",
   "version": "3.7.1"
  }
 },
 "nbformat": 4,
 "nbformat_minor": 2
}
