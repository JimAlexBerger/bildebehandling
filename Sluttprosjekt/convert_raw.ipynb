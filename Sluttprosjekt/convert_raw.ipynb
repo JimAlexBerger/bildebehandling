{
 "cells": [
  {
   "cell_type": "code",
   "execution_count": 3,
   "metadata": {
    "scrolled": true
   },
   "outputs": [
    {
     "name": "stdout",
     "output_type": "stream",
     "text": [
      "100.0\n"
     ]
    }
   ],
   "source": [
    "from skimage import io, transform\n",
    "import numpy\n",
    "import pdb\n",
    "import math\n",
    "from IPython.display import clear_output, display\n",
    "\n",
    "counterMin, counterMax = (9003,9481)\n",
    "\n",
    "counter = 1\n",
    "\n",
    "io.use_plugin('matplotlib')\n",
    "\n",
    "outWidth, outHeight = 256,256\n",
    "\n",
    "for num in range(counterMin, counterMax + 1):\n",
    "    \n",
    "    clear_output(wait=True)\n",
    "    print(((num - counterMin)/(counterMax - counterMin)) * 100)\n",
    "    \n",
    "    im = io.imread(\"raw_images/DSC0\" + str(num) +\".JPG\")\n",
    "\n",
    "    height, width, debth = im.shape\n",
    "\n",
    "    numWidth, numHeight = math.floor(width / outWidth) , math.floor(height / outHeight)\n",
    "\n",
    "    for x in range(numHeight):\n",
    "        for y in range(numWidth):\n",
    "            cropped = im[x*outWidth:(x+1)*outWidth,y*outHeight:(y+1)*outHeight]\n",
    "            if(numpy.var(cropped) > 1500):\n",
    "                cropped = transform.resize(cropped,(32,32))\n",
    "                io.imsave(\"croppedImages/\" + str(counter) + \".png\", cropped)\n",
    "                counter += 1"
   ]
  },
  {
   "cell_type": "code",
   "execution_count": 6,
   "metadata": {},
   "outputs": [
    {
     "name": "stdout",
     "output_type": "stream",
     "text": [
      "use plugin pil, img size is (2,)\n",
      "use plugin qt, img size is (2760, 4912, 3)\n",
      "use plugin matplotlib, img size is (2760, 4912, 3)\n",
      "use plugin imageio, img size is (2760, 4912, 3)\n"
     ]
    }
   ],
   "source": [
    "from skimage import io\n",
    "img_path = \"raw_images/DSC09003.JPG\"\n",
    "\n",
    "plugin_list = io.available_plugins\n",
    "valid_plugin = []\n",
    "\n",
    "for key in plugin_list.keys():\n",
    "    if 'imread' in plugin_list[key]:\n",
    "        valid_plugin.append(key)\n",
    "\n",
    "for plugin in valid_plugin:\n",
    "    try:\n",
    "        io.use_plugin(name=plugin, kind='imread')\n",
    "        img = io.imread(img_path)\n",
    "        print(\"use plugin {}, img size is {}\".format(plugin, img.shape))\n",
    "    except:\n",
    "        continue"
   ]
  }
 ],
 "metadata": {
  "kernelspec": {
   "display_name": "Python 3",
   "language": "python",
   "name": "python3"
  },
  "language_info": {
   "codemirror_mode": {
    "name": "ipython",
    "version": 3
   },
   "file_extension": ".py",
   "mimetype": "text/x-python",
   "name": "python",
   "nbconvert_exporter": "python",
   "pygments_lexer": "ipython3",
   "version": "3.6.7"
  }
 },
 "nbformat": 4,
 "nbformat_minor": 2
}
