{
 "cells": [
  {
   "cell_type": "code",
   "execution_count": 8,
   "metadata": {
    "scrolled": false
   },
   "outputs": [
    {
     "name": "stdout",
     "output_type": "stream",
     "text": [
      "100.0\n"
     ]
    }
   ],
   "source": [
    "from skimage import io, transform\n",
    "import numpy\n",
    "import pdb\n",
    "import math\n",
    "from IPython.display import clear_output, display\n",
    "\n",
    "counterMin, counterMax = (9003,9481)\n",
    "\n",
    "counter = 1\n",
    "\n",
    "io.use_plugin('matplotlib')\n",
    "\n",
    "outWidth, outHeight = 512,512\n",
    "maxVar = 0;\n",
    "\n",
    "for num in range(counterMin, counterMax + 1):\n",
    "    \n",
    "    clear_output(wait=True)\n",
    "    print(((num - counterMin)/(counterMax - counterMin)) * 100)\n",
    "    \n",
    "    im = io.imread(\"raw_images/DSC0\" + str(num) +\".JPG\")\n",
    "\n",
    "    height, width, debth = im.shape\n",
    "\n",
    "    numWidth, numHeight = math.floor(width / outWidth) , math.floor(height / outHeight)\n",
    "    \n",
    "    for x in range(numHeight):\n",
    "        for y in range(numWidth):\n",
    "            cropped = im[x*outWidth:(x+1)*outWidth,y*outHeight:(y+1)*outHeight]\n",
    "            var = numpy.var(cropped)\n",
    "            if(var > 1500):\n",
    "                cropped = transform.resize(cropped,(128,128))\n",
    "                io.imsave(\"croppedImages/\" + str(counter) + \".png\", cropped)\n",
    "                counter += 1"
   ]
  },
  {
   "cell_type": "code",
   "execution_count": 1,
   "metadata": {},
   "outputs": [
    {
     "name": "stderr",
     "output_type": "stream",
     "text": [
      "WARNING: non-ASCII characters are present in the FITS file header and have been replaced by \"?\" characters [astropy.io.fits.util]\n"
     ]
    },
    {
     "name": "stdout",
     "output_type": "stream",
     "text": [
      "use plugin imageio, img size is (2760, 4912, 3)\n",
      "use plugin matplotlib, img size is (2760, 4912, 3)\n",
      "use plugin pil, img size is (2,)\n"
     ]
    }
   ],
   "source": [
    "from skimage import io\n",
    "img_path = \"raw_images/DSC09003.JPG\"\n",
    "\n",
    "plugin_list = io.available_plugins\n",
    "valid_plugin = []\n",
    "\n",
    "for key in plugin_list.keys():\n",
    "    if 'imread' in plugin_list[key]:\n",
    "        valid_plugin.append(key)\n",
    "\n",
    "for plugin in valid_plugin:\n",
    "    try:\n",
    "        io.use_plugin(name=plugin, kind='imread')\n",
    "        img = io.imread(img_path)\n",
    "        print(\"use plugin {}, img size is {}\".format(plugin, img.shape))\n",
    "    except:\n",
    "        continue"
   ]
  }
 ],
 "metadata": {
  "kernelspec": {
   "display_name": "Python 3",
   "language": "python",
   "name": "python3"
  },
  "language_info": {
   "codemirror_mode": {
    "name": "ipython",
    "version": 3
   },
   "file_extension": ".py",
   "mimetype": "text/x-python",
   "name": "python",
   "nbconvert_exporter": "python",
   "pygments_lexer": "ipython3",
   "version": "3.7.1"
  }
 },
 "nbformat": 4,
 "nbformat_minor": 2
}
