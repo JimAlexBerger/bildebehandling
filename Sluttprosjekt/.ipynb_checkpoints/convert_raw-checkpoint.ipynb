{
 "cells": [
  {
   "cell_type": "code",
   "execution_count": 2,
   "metadata": {
    "scrolled": true
   },
   "outputs": [
    {
     "name": "stdout",
     "output_type": "stream",
     "text": [
      "0.0\n",
      "0.005618963985600402\n"
     ]
    },
    {
     "ename": "NameError",
     "evalue": "name 'croppped' is not defined",
     "output_type": "error",
     "traceback": [
      "\u001b[1;31m---------------------------------------------------------------------------\u001b[0m",
      "\u001b[1;31mNameError\u001b[0m                                 Traceback (most recent call last)",
      "\u001b[1;32m<ipython-input-2-cecab78746b6>\u001b[0m in \u001b[0;36m<module>\u001b[1;34m\u001b[0m\n\u001b[0;32m     34\u001b[0m                 \u001b[0mprint\u001b[0m\u001b[1;33m(\u001b[0m\u001b[0mvar\u001b[0m\u001b[1;33m)\u001b[0m\u001b[1;33m\u001b[0m\u001b[1;33m\u001b[0m\u001b[0m\n\u001b[0;32m     35\u001b[0m                 \u001b[0mmaxVar\u001b[0m \u001b[1;33m=\u001b[0m \u001b[0mvar\u001b[0m\u001b[1;33m\u001b[0m\u001b[1;33m\u001b[0m\u001b[0m\n\u001b[1;32m---> 36\u001b[1;33m                 \u001b[0mio\u001b[0m\u001b[1;33m.\u001b[0m\u001b[0mimshow\u001b[0m\u001b[1;33m(\u001b[0m\u001b[0mcroppped\u001b[0m\u001b[1;33m)\u001b[0m\u001b[1;33m\u001b[0m\u001b[1;33m\u001b[0m\u001b[0m\n\u001b[0m",
      "\u001b[1;31mNameError\u001b[0m: name 'croppped' is not defined"
     ]
    }
   ],
   "source": [
    "from skimage import io\n",
    "import numpy\n",
    "import pdb\n",
    "import math\n",
    "from IPython.display import clear_output, display\n",
    "\n",
    "counterMin, counterMax = (9003,9481)\n",
    "\n",
    "counter = 1\n",
    "\n",
    "io.use_plugin('matplotlib')\n",
    "\n",
    "outWidth, outHeight = 256,256\n",
    "\n",
    "for num in range(counterMin, counterMin + 100):\n",
    "    \n",
    "    clear_output(wait=True)\n",
    "    print(((num - counterMin)/(counterMax - counterMin)) * 100)\n",
    "    \n",
    "    im = io.imread(\"raw_images/DSC0\" + str(num) +\".JPG\")\n",
    "\n",
    "    height, width, debth = im.shape\n",
    "\n",
    "    numWidth, numHeight = math.floor(width / outWidth) , math.floor(height / outHeight)\n",
    "\n",
    "    for x in range(numHeight):\n",
    "        for y in range(numWidth):\n",
    "            cropped = im[x*outWidth:(x+1)*outWidth,y*outHeight:(y+1)*outHeight]\n",
    "            var = numpy.var(cropped)\n",
    "            maxVar = 0;\n",
    "            if(var > maxVar):\n",
    "#                 io.imsave(\"croppedImages/\" + str(counter) + \".png\", cropped)\n",
    "#                 counter += 1\n",
    "                print(var)\n",
    "                maxVar = var\n",
    "                io.imshow(croppped)\n",
    "                io.show()"
   ]
  },
  {
   "cell_type": "code",
   "execution_count": 1,
   "metadata": {},
   "outputs": [
    {
     "name": "stderr",
     "output_type": "stream",
     "text": [
      "WARNING: non-ASCII characters are present in the FITS file header and have been replaced by \"?\" characters [astropy.io.fits.util]\n"
     ]
    },
    {
     "name": "stdout",
     "output_type": "stream",
     "text": [
      "use plugin imageio, img size is (2760, 4912, 3)\n",
      "use plugin matplotlib, img size is (2760, 4912, 3)\n",
      "use plugin pil, img size is (2,)\n"
     ]
    }
   ],
   "source": [
    "from skimage import io\n",
    "img_path = \"raw_images/DSC09003.JPG\"\n",
    "\n",
    "plugin_list = io.available_plugins\n",
    "valid_plugin = []\n",
    "\n",
    "for key in plugin_list.keys():\n",
    "    if 'imread' in plugin_list[key]:\n",
    "        valid_plugin.append(key)\n",
    "\n",
    "for plugin in valid_plugin:\n",
    "    try:\n",
    "        io.use_plugin(name=plugin, kind='imread')\n",
    "        img = io.imread(img_path)\n",
    "        print(\"use plugin {}, img size is {}\".format(plugin, img.shape))\n",
    "    except:\n",
    "        continue"
   ]
  }
 ],
 "metadata": {
  "kernelspec": {
   "display_name": "Python 3",
   "language": "python",
   "name": "python3"
  },
  "language_info": {
   "codemirror_mode": {
    "name": "ipython",
    "version": 3
   },
   "file_extension": ".py",
   "mimetype": "text/x-python",
   "name": "python",
   "nbconvert_exporter": "python",
   "pygments_lexer": "ipython3",
   "version": "3.7.1"
  }
 },
 "nbformat": 4,
 "nbformat_minor": 2
}
