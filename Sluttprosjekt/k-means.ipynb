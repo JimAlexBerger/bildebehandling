{
 "cells": [
  {
   "cell_type": "code",
   "execution_count": 1,
   "metadata": {},
   "outputs": [],
   "source": [
    "from scipy import ndimage\n",
    "from skimage import io,util,color\n",
    "from IPython import display\n",
    "import numpy\n",
    "import sys\n",
    "import math\n",
    "import random\n",
    "\n",
    "import ipywidgets as widgets\n",
    "from ipywidgets import interactive\n",
    "from IPython.display import display, clear_output\n",
    "\n",
    "import matplotlib.pyplot as plt"
   ]
  },
  {
   "cell_type": "code",
   "execution_count": 2,
   "metadata": {},
   "outputs": [
    {
     "data": {
      "application/vnd.jupyter.widget-view+json": {
       "model_id": "83cf8ae792a14d209d0da1a5e6140295",
       "version_major": 2,
       "version_minor": 0
      },
      "text/plain": [
       "interactive(children=(Dropdown(description='Bilde: ', options={'Strand': 'strand.jpeg', 'Mandrill': 'mandrill.…"
      ]
     },
     "metadata": {},
     "output_type": "display_data"
    }
   ],
   "source": [
    "def readAndShowImage(image):\n",
    "    im = io.imread(image)\n",
    "    io.imshow(im)\n",
    "    io.show()\n",
    "\n",
    "inputImage = widgets.Dropdown(\n",
    "    options={\n",
    "        'Strand':'strand.jpeg',\n",
    "        'Mandrill':'mandrill.png',\n",
    "        'Trump':'trump.jpg',\n",
    "        'Gruppe':'gruppe.jpg',\n",
    "        'RGB':\"rgb.png\",\n",
    "        'Dress':'TheDress.png'\n",
    "        },\n",
    "    description='Bilde: ',\n",
    "    disabled=False,\n",
    ")\n",
    "\n",
    "interactive(readAndShowImage, image=inputImage)"
   ]
  },
  {
   "cell_type": "code",
   "execution_count": 3,
   "metadata": {
    "scrolled": false
   },
   "outputs": [
    {
     "data": {
      "application/vnd.jupyter.widget-view+json": {
       "model_id": "6da4c88fd5054c648d5516b6abb012e3",
       "version_major": 2,
       "version_minor": 0
      },
      "text/plain": [
       "interactive(children=(Dropdown(description='Bilde: ', options={'Strand': 'strand.jpeg', 'Mandrill': 'mandrill.…"
      ]
     },
     "metadata": {},
     "output_type": "display_data"
    }
   ],
   "source": [
    "def distance(pixel1, pixel2):\n",
    "    return ((pixel1[0] - pixel2[0])**2 + (pixel1[1] - pixel2[1])**2 + (pixel1[2] - pixel2[2])**2)**0.5\n",
    "\n",
    "def segment(im, numSegments):  \n",
    "    im = util.img_as_float64(im)\n",
    "    im = im[:,:,:3]\n",
    "    width, height, depth = im.shape\n",
    "    \n",
    "    segments = []\n",
    "    \n",
    "    #Plukke ut N tilfeldige pixler som skal brukes som start punkter\n",
    "    for x in range(numSegments):\n",
    "        segment = {}\n",
    "        segment[\"pixel\"] = im[random.randint(0,width-1),random.randint(0,height-1)]\n",
    "        segment[\"data\"] = {\"sum\":[0,0,0],\"num\":0}\n",
    "        segments.append(segment)\n",
    "    \n",
    "    while(True):\n",
    "        #Finne gjennomsnittsfargen for hvert punkt\n",
    "        for x in range(width):\n",
    "            for y in range(height):\n",
    "                closest = 0\n",
    "                closestDistance = math.inf\n",
    "                for segment in segments:\n",
    "                    dist = distance(im[x,y],segment[\"pixel\"])\n",
    "                    if( dist < closestDistance):\n",
    "                        closestDistance = dist\n",
    "                        closest = segment\n",
    "                closest[\"data\"][\"sum\"] += im[x,y]\n",
    "                closest[\"data\"][\"num\"] += 1\n",
    "\n",
    "        #Flytter punktet til gjennomsnittetsfargen til de nærmeste pixlene\n",
    "        movement = 0\n",
    "        for segment in segments:\n",
    "            segment[\"data\"][\"prevPixel\"] = segment[\"pixel\"]\n",
    "            if(segment[\"data\"][\"num\"] != 0):\n",
    "                segment[\"pixel\"] = segment[\"data\"][\"sum\"] / segment[\"data\"][\"num\"]\n",
    "            else:\n",
    "                segment[\"pixel\"] = [0,0,0]\n",
    "            movement += distance(segment[\"data\"][\"prevPixel\"],segment[\"pixel\"])\n",
    "            segment[\"data\"][\"sum\"] = [0,0,0]\n",
    "            segment[\"data\"][\"num\"] = 0\n",
    "        \n",
    "        print(movement/numSegments)\n",
    "        if (movement/numSegments < 0.001):\n",
    "            break\n",
    "    \n",
    "    #Sette hver pixel til gjennomsnittet til det nærmeste punktet\n",
    "    for x in range(width):\n",
    "        for y in range(height):\n",
    "            closest = 0\n",
    "            closestDistance = math.inf\n",
    "            for segment in segments:\n",
    "                dist = distance(im[x,y],segment[\"pixel\"])\n",
    "                if( dist < closestDistance):\n",
    "                    closestDistance = dist\n",
    "                    closest = segment\n",
    "            im[x,y] = closest[\"pixel\"]\n",
    "            \n",
    "    \n",
    "    return im\n",
    "\n",
    "def update(image, numSegments):\n",
    "    im = io.imread(image)\n",
    "    \n",
    "    try:\n",
    "        segmented = io.imread(\"Generated/\" + image.split(\".\")[0] + str(numSegments) + \".png\")\n",
    "    except:\n",
    "        print(\"Image not generated, calculating new\")\n",
    "        segmented = segment(im,numSegments)\n",
    "        \n",
    "    io.imsave(\"Generated/\" + image.split(\".\")[0] + str(numSegments) + \".png\",segmented)\n",
    "    io.imshow(segmented)\n",
    "    io.show()\n",
    "    \n",
    "    \n",
    "interactive(update, image=inputImage, numSegments=widgets.IntSlider(value = 4,min = 2,max = 32,description='Number of segments: ',continuous_update = False)) "
   ]
  },
  {
   "cell_type": "code",
   "execution_count": null,
   "metadata": {},
   "outputs": [],
   "source": []
  }
 ],
 "metadata": {
  "kernelspec": {
   "display_name": "Python 3",
   "language": "python",
   "name": "python3"
  },
  "language_info": {
   "codemirror_mode": {
    "name": "ipython",
    "version": 3
   },
   "file_extension": ".py",
   "mimetype": "text/x-python",
   "name": "python",
   "nbconvert_exporter": "python",
   "pygments_lexer": "ipython3",
   "version": "3.7.1"
  }
 },
 "nbformat": 4,
 "nbformat_minor": 2
}
