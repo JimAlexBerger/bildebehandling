{
 "cells": [
  {
   "cell_type": "code",
   "execution_count": 1,
   "metadata": {},
   "outputs": [],
   "source": [
    "from scipy import ndimage\n",
    "from skimage import io,util,color\n",
    "from IPython import display\n",
    "import numpy\n",
    "import sys\n",
    "import math\n",
    "import random\n",
    "\n",
    "import ipywidgets as widgets\n",
    "from ipywidgets import interactive\n",
    "from IPython.display import display, clear_output\n",
    "\n",
    "import matplotlib.pyplot as plt"
   ]
  },
  {
   "cell_type": "code",
   "execution_count": 2,
   "metadata": {},
   "outputs": [
    {
     "data": {
      "application/vnd.jupyter.widget-view+json": {
       "model_id": "9e4c98d054584c72ba2592f5bca4ab62",
       "version_major": 2,
       "version_minor": 0
      },
      "text/plain": [
       "interactive(children=(Dropdown(description='Bilde: ', options={'Strand': 'strand.jpeg', 'Mandrill': 'mandrill.…"
      ]
     },
     "metadata": {},
     "output_type": "display_data"
    }
   ],
   "source": [
    "def readAndShowImage(image):\n",
    "    im = io.imread(image)\n",
    "    io.imshow(im)\n",
    "    io.show()\n",
    "\n",
    "inputImage = widgets.Dropdown(\n",
    "    options={\n",
    "        'Strand':'strand.jpeg',\n",
    "        'Mandrill':'mandrill.png',\n",
    "        'Trump':'trump.jpg',\n",
    "        'Gruppe':'gruppe.jpg',\n",
    "        'RGB':\"rgb.png\",\n",
    "        'Dress':'TheDress.png'\n",
    "        },\n",
    "    description='Bilde: ',\n",
    "    disabled=False,\n",
    ")\n",
    "\n",
    "interactive(readAndShowImage, image=inputImage)"
   ]
  },
  {
   "cell_type": "code",
   "execution_count": 11,
   "metadata": {
    "scrolled": false
   },
   "outputs": [],
   "source": [
    "def distance(pixel1, pixel2):\n",
    "    return ((pixel1[0] - pixel2[0])**2 + (pixel1[1] - pixel2[1])**2 + (pixel1[2] - pixel2[2])**2)**0.5\n",
    "\n",
    "def getKmeansPalette(im, numSegments, tresh):\n",
    "    width, height, depth = im.shape\n",
    "    \n",
    "    segments = []\n",
    "    \n",
    "    #Plukke ut N tilfeldige pixler som skal brukes som start punkter\n",
    "    for x in range(numSegments):\n",
    "        segment = {}\n",
    "        segment[\"pixel\"] = im[random.randint(0,width-1),random.randint(0,height-1)]\n",
    "        segment[\"data\"] = {\"sum\":[0,0,0],\"num\":0}\n",
    "        segments.append(segment)\n",
    "    \n",
    "    while(True):\n",
    "        #Finne gjennomsnittsfargen for hvert punkt\n",
    "        for x in range(width):\n",
    "            for y in range(height):\n",
    "                closest = 0\n",
    "                closestDistance = math.inf\n",
    "                for segment in segments:\n",
    "                    dist = distance(im[x,y],segment[\"pixel\"])\n",
    "                    if( dist < closestDistance):\n",
    "                        closestDistance = dist\n",
    "                        closest = segment\n",
    "                closest[\"data\"][\"sum\"] += im[x,y]\n",
    "                closest[\"data\"][\"num\"] += 1\n",
    "\n",
    "        #Flytter punktet til gjennomsnittetsfargen til de nærmeste pixlene\n",
    "        movement = 0\n",
    "        for segment in segments:\n",
    "            segment[\"data\"][\"prevPixel\"] = segment[\"pixel\"]\n",
    "            if(segment[\"data\"][\"num\"] != 0):\n",
    "                segment[\"pixel\"] = segment[\"data\"][\"sum\"] / segment[\"data\"][\"num\"]\n",
    "            else:\n",
    "                segment[\"pixel\"] = [0,0,0]\n",
    "            movement += distance(segment[\"data\"][\"prevPixel\"],segment[\"pixel\"])\n",
    "            segment[\"data\"][\"sum\"] = [0,0,0]\n",
    "            segment[\"data\"][\"num\"] = 0\n",
    "        \n",
    "        print(movement/numSegments)\n",
    "        if (movement/numSegments < tresh):\n",
    "            break\n",
    "            \n",
    "    return [segment[\"pixel\"] for segment in segments]\n",
    "\n",
    "def getClosestFromPallette(pixel,palette):\n",
    "    closest = 0\n",
    "    closestDistance = math.inf\n",
    "    for segment in palette:\n",
    "        dist = distance(pixel,segment)\n",
    "        if( dist < closestDistance):\n",
    "            closestDistance = dist\n",
    "            closest = segment\n",
    "    return closest\n",
    "\n",
    "def segment(im,palette):\n",
    "    im = numpy.array(im, copy=True)    \n",
    "    return numpy.apply_along_axis(getClosestFromPallette,2,im,palette)"
   ]
  },
  {
   "cell_type": "code",
   "execution_count": 4,
   "metadata": {},
   "outputs": [],
   "source": [
    "def segmentDithering(im, palette):\n",
    "    width, height, depth = im.shape\n",
    "    \n",
    "    ret = numpy.array(im, copy=True)  \n",
    "    \n",
    "    for y in range(0,height):\n",
    "        for x in range(0,width):\n",
    "            closest = 0\n",
    "            closestDistance = math.inf\n",
    "            for segment in palette:\n",
    "                dist = distance(ret[x,y],segment)\n",
    "                if( dist < closestDistance):\n",
    "                    closestDistance = dist\n",
    "                    closest = segment\n",
    "                        \n",
    "            oldpixel  = ret[x,y]\n",
    "            newpixel  = closest   \n",
    "            \n",
    "            quant_error  = oldpixel - newpixel\n",
    "            \n",
    "            ret[x,y]  = newpixel\n",
    "                        \n",
    "            if(x < width - 1):\n",
    "                ret[x + 1,y    ] = numpy.clip(ret[x + 1,y    ] + quant_error * (7 / 16),0.0,1.0)\n",
    "            \n",
    "            if(y < height - 1):\n",
    "                ret[x    ,y + 1] = numpy.clip(im[x    ,y + 1] + quant_error * (5 / 16),0.0,1.0)\n",
    "                \n",
    "            if(x != 0 and y < height - 1):\n",
    "                ret[x - 1,y + 1] = numpy.clip(ret[x - 1,y + 1] + quant_error * (3 / 16),0.0,1.0)\n",
    "            \n",
    "            if(x < width - 1 and y < height - 1):\n",
    "                ret[x + 1,y + 1] = numpy.clip(ret[x + 1,y + 1] + quant_error * (1 / 16),0.0,1.0)\n",
    "            \n",
    "    \n",
    "    return ret"
   ]
  },
  {
   "cell_type": "code",
   "execution_count": 5,
   "metadata": {},
   "outputs": [],
   "source": [
    "def getGrayscalePalette(numSegments):\n",
    "    segments = []\n",
    "    for x in range(numSegments):\n",
    "        c = x / (numSegments - 1)\n",
    "        segment = [c,c,c]  \n",
    "        segments.append(segment)\n",
    "    return segments"
   ]
  },
  {
   "cell_type": "code",
   "execution_count": 6,
   "metadata": {},
   "outputs": [],
   "source": [
    "def getUniformColorPattern(numSegments):\n",
    "    segments = []\n",
    "    for r in range(numSegments):\n",
    "        for g in range(numSegments):\n",
    "            for b in range(numSegments):\n",
    "                cR = r / (numSegments - 1)\n",
    "                cG = g / (numSegments - 1)\n",
    "                cB = b / (numSegments - 1)\n",
    "                segment = [cR,cG,cB]  \n",
    "                segments.append(segment)\n",
    "    return segments"
   ]
  },
  {
   "cell_type": "code",
   "execution_count": 7,
   "metadata": {},
   "outputs": [],
   "source": [
    "import math\n",
    "\n",
    "def displayPalette(palette):\n",
    "    length = len(palette)\n",
    "    \n",
    "    maxHeight = 1\n",
    "    for x in range(2,math.floor(length**0.5)):\n",
    "        if length % x == 0:\n",
    "            maxHeight = x\n",
    "            \n",
    "    width, height = (length//maxHeight,maxHeight)\n",
    "    img = numpy.zeros((height,width,3))\n",
    "    \n",
    "    i = 0\n",
    "    \n",
    "    for y in range(width):\n",
    "        for x in range(height):\n",
    "            img[x,y] = palette[i]\n",
    "            i += 1\n",
    "            \n",
    "    io.imshow(img)\n",
    "    io.show()"
   ]
  },
  {
   "cell_type": "code",
   "execution_count": 20,
   "metadata": {},
   "outputs": [
    {
     "data": {
      "application/vnd.jupyter.widget-view+json": {
       "model_id": "cedd90779caf46a7b4ace63dd5c87437",
       "version_major": 2,
       "version_minor": 0
      },
      "text/plain": [
       "interactive(children=(Dropdown(description='Bilde: ', options={'Strand': 'strand.jpeg', 'Mandrill': 'mandrill.…"
      ]
     },
     "metadata": {},
     "output_type": "display_data"
    }
   ],
   "source": [
    "def update2(image, numSegments, paletteOption):\n",
    "    im = io.imread(image)\n",
    "    \n",
    "    im = util.img_as_float64(im)\n",
    "    im = im[:,:,:3]\n",
    "    \n",
    "    if paletteOption == \"K-Means\":\n",
    "        palette = getKmeansPalette(im,numSegments, 0.001)\n",
    "    elif paletteOption == \"Greyscale\":\n",
    "        palette = getGrayscalePalette(numSegments)\n",
    "    elif paletteOption == \"Uniform\":\n",
    "        numSegments = min(numSegments,6)\n",
    "        palette = getUniformColorPattern(numSegments)\n",
    "    \n",
    "    displayPalette(palette)    \n",
    "      \n",
    "    io.imshow(im)\n",
    "    io.show()\n",
    "    \n",
    "    segmented = segment(im,palette)\n",
    "    io.imshow(segmented)\n",
    "    io.show()\n",
    "    \n",
    "    segmentedDithering = segmentDithering(im,palette)\n",
    "    io.imshow(segmentedDithering)\n",
    "    io.show()\n",
    "    \n",
    "    #io.imsave(\"dith.png\",segmentedDithering)\n",
    "    \n",
    "\n",
    "numSegs = widgets.IntSlider(value = 2,min = 2,max = 32,description='Number of segments: ',continuous_update = False)\n",
    "\n",
    "paletteOption = widgets.Dropdown(\n",
    "    options=[\"Greyscale\",\"Uniform\",\"K-Means\"],\n",
    "    description='Palette: ',\n",
    "    disabled=False,\n",
    ")\n",
    "\n",
    "interactive(update2, image=inputImage, numSegments=numSegs, paletteOption=paletteOption) \n",
    "\n",
    "#     try:\n",
    "#         segmented = io.imread(\"Generated/\" + image.split(\".\")[0] + str(numSegments) + \".png\")\n",
    "#     except:\n",
    "#         print(\"Image not generated, calculating new\")"
   ]
  },
  {
   "cell_type": "code",
   "execution_count": null,
   "metadata": {},
   "outputs": [],
   "source": []
  }
 ],
 "metadata": {
  "kernelspec": {
   "display_name": "Python 3",
   "language": "python",
   "name": "python3"
  },
  "language_info": {
   "codemirror_mode": {
    "name": "ipython",
    "version": 3
   },
   "file_extension": ".py",
   "mimetype": "text/x-python",
   "name": "python",
   "nbconvert_exporter": "python",
   "pygments_lexer": "ipython3",
   "version": "3.7.1"
  }
 },
 "nbformat": 4,
 "nbformat_minor": 2
}
