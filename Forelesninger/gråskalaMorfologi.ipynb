{
 "cells": [
  {
   "cell_type": "code",
   "execution_count": 1,
   "metadata": {},
   "outputs": [],
   "source": [
    "from scipy import ndimage\n",
    "from skimage import io,util,color\n",
    "from IPython import display\n",
    "import numpy\n",
    "import sys\n",
    "import math\n",
    "\n",
    "import ipywidgets as widgets\n",
    "from ipywidgets import interactive\n",
    "from IPython.display import display, clear_output\n",
    "\n",
    "import matplotlib.pyplot as plt\n",
    "\n",
    "%matplotlib inline"
   ]
  },
  {
   "cell_type": "code",
   "execution_count": 6,
   "metadata": {},
   "outputs": [
    {
     "data": {
      "application/vnd.jupyter.widget-view+json": {
       "model_id": "5c8ba574af0849c191c060beadeb79a6",
       "version_major": 2,
       "version_minor": 0
      },
      "text/plain": [
       "interactive(children=(Dropdown(description='Bilde: ', options={'Wireboard': '/home/jim-alexander/Dokumenter/bi…"
      ]
     },
     "metadata": {},
     "output_type": "display_data"
    }
   ],
   "source": [
    "def readAndShowImageAndFilter(image,filtr):\n",
    "    im = util.img_as_float(io.imread(image, as_gray=True))\n",
    "    im_filtr = util.img_as_float(io.imread(filtr, as_gray=True))\n",
    "    io.imshow_collection([im,im_filtr], cmap='gray')\n",
    "    io.show()\n",
    "\n",
    "inputImage = widgets.Dropdown(\n",
    "    options={\n",
    "        'Wireboard':'/home/jim-alexander/Dokumenter/bildebehandling/Bilder/image_resources/crabpulsar-optical.tif'\n",
    "    },\n",
    "    description='Bilde: ',\n",
    "    disabled=False,\n",
    ")\n",
    "\n",
    "inputFilter = widgets.Dropdown(\n",
    "    options={\n",
    "        'Cross':'se_cross.pbm',\n",
    "        'Box':'boxSE.png'\n",
    "    },\n",
    "    description='Filter: ',\n",
    "    disabled=False,\n",
    ")\n",
    "\n",
    "interactive(readAndShowImageAndFilter, image=inputImage, filtr=inputFilter)"
   ]
  },
  {
   "cell_type": "code",
   "execution_count": 31,
   "metadata": {},
   "outputs": [],
   "source": [
    "def filter(image,se,func):\n",
    "    se_height,se_width = se.shape\n",
    "\n",
    "    pad_v = se_height//2\n",
    "    pad_h = se_width//2\n",
    "\n",
    "    padded = util.pad(image,(pad_v,pad_h),mode=\"constant\")\n",
    "\n",
    "    out = numpy.zeros(image.shape)\n",
    "    \n",
    "    for i in range(image.shape[0]):\n",
    "        for j in range(image.shape[1]):\n",
    "            subimage = padded[i:i+se_height,j:j+se_width]\n",
    "            s_w, s_h = subimage.shape\n",
    "\n",
    "            found = False\n",
    "            cur = 0\n",
    "            for x in range(s_w):\n",
    "                for y in range(s_h):\n",
    "                    if(se[x,y] != 0):\n",
    "                        if(found != True):\n",
    "                            cur = subimage[x,y]\n",
    "                            found = True\n",
    "                        else:\n",
    "                            cur = func(cur,subimage[x,y])\n",
    "                \n",
    "            out[i,j] = cur\n",
    "    return out\n",
    "    \n",
    "    \n",
    "\n",
    "def dilation(im,se):\n",
    "    return filter(im,se,max)\n",
    "\n",
    "def erode(im,se):\n",
    "    return filter(im,se,min)\n",
    "\n",
    "def opening(image, se):\n",
    "    return dilation(erode(image,se),se)\n",
    "\n",
    "def closing(image, se):\n",
    "    return erode(dilation(image,se),se)"
   ]
  },
  {
   "cell_type": "code",
   "execution_count": 32,
   "metadata": {},
   "outputs": [
    {
     "data": {
      "application/vnd.jupyter.widget-view+json": {
       "model_id": "3bcb264483f344beb920f36fa5fcc49c",
       "version_major": 2,
       "version_minor": 0
      },
      "text/plain": [
       "interactive(children=(Dropdown(description='Bilde: ', options={'Wireboard': '/home/jim-alexander/Dokumenter/bi…"
      ]
     },
     "metadata": {},
     "output_type": "display_data"
    }
   ],
   "source": [
    "inputMethod = widgets.Dropdown(\n",
    "    options={'erode':erode,\n",
    "             'dilation':dilation,\n",
    "             'opening':opening,\n",
    "             'closing':closing\n",
    "            },\n",
    "    description='Filter: ',\n",
    "    disabled=False,\n",
    ")\n",
    "\n",
    "def update(image, filtr, method):\n",
    "    im = io.imread(image, as_gray=True)\n",
    "    se = io.imread(filtr, as_gray=True)\n",
    "    \n",
    "    im_prosessed = method(im,se)\n",
    "    \n",
    "    io.imshow_collection([im,im_prosessed], cmap='gray')\n",
    "    io.show()\n",
    "    \n",
    "interactive(update, image=inputImage, filtr=inputFilter, method=inputMethod)"
   ]
  }
 ],
 "metadata": {
  "kernelspec": {
   "display_name": "Python 3",
   "language": "python",
   "name": "python3"
  },
  "language_info": {
   "codemirror_mode": {
    "name": "ipython",
    "version": 3
   },
   "file_extension": ".py",
   "mimetype": "text/x-python",
   "name": "python",
   "nbconvert_exporter": "python",
   "pygments_lexer": "ipython3",
   "version": "3.6.7"
  }
 },
 "nbformat": 4,
 "nbformat_minor": 2
}
