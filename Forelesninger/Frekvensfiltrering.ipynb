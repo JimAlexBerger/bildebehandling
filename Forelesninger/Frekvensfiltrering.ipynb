{
 "cells": [
  {
   "cell_type": "code",
   "execution_count": 1,
   "metadata": {},
   "outputs": [],
   "source": [
    "from scipy import ndimage\n",
    "from skimage import io,util,color\n",
    "from IPython import display\n",
    "import numpy\n",
    "import sys\n",
    "import math\n",
    "\n",
    "import ipywidgets as widgets\n",
    "from ipywidgets import interactive\n",
    "from IPython.display import display, clear_output\n",
    "\n",
    "import matplotlib.pyplot as plt\n",
    "\n",
    "# Our imports\n",
    "import skimage\n",
    "import scipy\n",
    "from skimage import util,color,exposure,io\n",
    "from scipy import fftpack\n",
    "\n",
    "%matplotlib inline"
   ]
  },
  {
   "cell_type": "code",
   "execution_count": 2,
   "metadata": {},
   "outputs": [
    {
     "data": {
      "application/vnd.jupyter.widget-view+json": {
       "model_id": "731149a91c7c4f86b120caa8745d2bda",
       "version_major": 2,
       "version_minor": 0
      },
      "text/plain": [
       "interactive(children=(Dropdown(description='Bilde: ', options={'Saturn': '../Bilder/image_resources/suaturn-ri…"
      ]
     },
     "metadata": {},
     "output_type": "display_data"
    }
   ],
   "source": [
    "def readAndShowImage(image):\n",
    "    im = io.imread(image, as_gray=True)\n",
    "    io.imshow(im, cmap='gray')\n",
    "    io.show()\n",
    "\n",
    "inputImage = widgets.Dropdown(\n",
    "    options={\n",
    "        'Saturn':'../Bilder/image_resources/suaturn-rings-sinusoidal-interf.tif',\n",
    "        'White bar':'../Bilder/white_bar.png',\n",
    "        'White bar translate':'../Bilder/white_bar_translated.png',\n",
    "        'white bar rotated':'../Bilder/white_bar_rotated.png',\n",
    "        'test pattern':'../Bilder/test_pattern.pgm'\n",
    "        },\n",
    "    description='Bilde: ',\n",
    "    disabled=False,\n",
    ")\n",
    "\n",
    "interactive(readAndShowImage, image=inputImage)"
   ]
  },
  {
   "cell_type": "code",
   "execution_count": 3,
   "metadata": {},
   "outputs": [
    {
     "data": {
      "application/vnd.jupyter.widget-view+json": {
       "model_id": "1369a55f50b3430baa8d17aa2aafa947",
       "version_major": 2,
       "version_minor": 0
      },
      "text/plain": [
       "interactive(children=(Dropdown(description='Bilde: ', options={'Saturn': '../Bilder/image_resources/suaturn-ri…"
      ]
     },
     "metadata": {},
     "output_type": "display_data"
    }
   ],
   "source": [
    "def dist(i,j,width,height):\n",
    "    center_i, center_j = (height/2,width/2)\n",
    "    return ((i-center_i)**2 + (j-center_j)**2)**0.5\n",
    "\n",
    "def fourrier(image,cutoff):\n",
    "    # Read image, convert to gray, convert to float\n",
    "    im = util.img_as_float(color.rgb2gray(io.imread(image)))\n",
    "\n",
    "    # Retrieve the image dimensions\n",
    "    height,width = im.shape\n",
    "    \n",
    "    #finding P and Q\n",
    "    padded_height = height*2\n",
    "    padded_width = width*2\n",
    "    \n",
    "    #Padding image width 0s\n",
    "    padded = numpy.zeros((padded_height,padded_width))\n",
    "    padded[0:height,0:width] = im\n",
    "\n",
    "    # Create an image to store the transformed image\n",
    "    image_trans = numpy.zeros(padded.shape)\n",
    "    # Transform each pixel in the image by multiplying with -1**(i+j) (see \n",
    "    # slides/book) to translate the fourier transformed image to height/2 width/2 \n",
    "    # i.e. the center of the image\n",
    "    for i in range(padded_height):\n",
    "      for j in range(padded_width):\n",
    "        image_trans[i,j] = padded[i,j]*((-1)**(i+j))\n",
    "\n",
    "    # Perform the fourier transformation\n",
    "    fourier_transform = fftpack.fft2(image_trans)\n",
    "\n",
    "\n",
    "\n",
    "    #lage filter \n",
    "    filtr = numpy.zeros(padded.shape)\n",
    "    for x in range(padded_width):\n",
    "        for y in range(padded_height):\n",
    "            filtr[x,y] = 0 if dist(x,y,padded_width,padded_height) < cutoff else 1\n",
    "    \n",
    "    #filtrerer den fourier transformerte\n",
    "    filtered = filtr*fourier_transform    \n",
    "    \n",
    "    #transformerer med invers fourier\n",
    "    filtered = fftpack.ifft2(filtered)\n",
    "    \n",
    "    #translerer tilbake\n",
    "    filtered_translated = numpy.zeros(padded.shape)\n",
    "\n",
    "    for i in range(padded_height):\n",
    "        for j in range(padded_width):\n",
    "            filtered_translated[i,j] = filtered[i,j]*((-1)**(i+j))\n",
    "    \n",
    "    #fjerner padding\n",
    "    filtered_cropped = filtered_translated[0:width,0:height]\n",
    "    \n",
    "    # Show the result\n",
    "    io.imshow(numpy.clip(filtered_cropped,0,1), cmap='gray')\n",
    "    io.show()\n",
    "    \n",
    "interactive(fourrier,image=inputImage,cutoff=widgets.IntSlider(min=1,max=300,step=1,value=50,continuous_update=False,))"
   ]
  },
  {
   "cell_type": "code",
   "execution_count": null,
   "metadata": {},
   "outputs": [],
   "source": []
  }
 ],
 "metadata": {
  "kernelspec": {
   "display_name": "Python 3",
   "language": "python",
   "name": "python3"
  },
  "language_info": {
   "codemirror_mode": {
    "name": "ipython",
    "version": 3
   },
   "file_extension": ".py",
   "mimetype": "text/x-python",
   "name": "python",
   "nbconvert_exporter": "python",
   "pygments_lexer": "ipython3",
   "version": "3.7.1"
  }
 },
 "nbformat": 4,
 "nbformat_minor": 2
}
