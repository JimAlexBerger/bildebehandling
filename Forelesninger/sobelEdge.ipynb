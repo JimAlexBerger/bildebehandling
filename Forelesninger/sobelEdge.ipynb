{
 "cells": [
  {
   "cell_type": "code",
   "execution_count": 4,
   "metadata": {},
   "outputs": [],
   "source": [
    "# imports needed for skimage and pyplot\n",
    "import skimage\n",
    "import numpy\n",
    "import sys\n",
    "import scipy\n",
    "from skimage import io,util,color\n",
    "from scipy import ndimage\n",
    "\n",
    "import ipywidgets as widgets\n",
    "from ipywidgets import interactive\n",
    "from IPython.display import display, clear_output"
   ]
  },
  {
   "cell_type": "code",
   "execution_count": 33,
   "metadata": {},
   "outputs": [
    {
     "data": {
      "application/vnd.jupyter.widget-view+json": {
       "model_id": "c749fd02a45f46f188bffda636e07428",
       "version_major": 2,
       "version_minor": 0
      },
      "text/plain": [
       "interactive(children=(Dropdown(description='Bilde: ', options={'Saturn': '../Bilder/image_resources/suaturn-ri…"
      ]
     },
     "metadata": {},
     "output_type": "display_data"
    }
   ],
   "source": [
    "def readAndShowImage(image):\n",
    "    im = io.imread(image, as_gray=True)\n",
    "    io.imshow(im, cmap='gray')\n",
    "    io.show()\n",
    "\n",
    "inputImage = widgets.Dropdown(\n",
    "    options={\n",
    "        'Saturn':'../Bilder/image_resources/suaturn-rings-sinusoidal-interf.tif',\n",
    "        'dental':'../Bilder/image_resources/dentalXray.tif',\n",
    "        'test pattern':'../Bilder/test_pattern.pgm',\n",
    "        'lena':'../Bilder/bilde.jpg'\n",
    "        },\n",
    "    description='Bilde: ',\n",
    "    disabled=False,\n",
    ")\n",
    "\n",
    "interactive(readAndShowImage, image=inputImage)"
   ]
  },
  {
   "cell_type": "code",
   "execution_count": 48,
   "metadata": {},
   "outputs": [
    {
     "data": {
      "application/vnd.jupyter.widget-view+json": {
       "model_id": "7962755708224266954718ac535d3fe1",
       "version_major": 2,
       "version_minor": 0
      },
      "text/plain": [
       "interactive(children=(Dropdown(description='Bilde: ', index=2, options={'Saturn': '../Bilder/image_resources/s…"
      ]
     },
     "metadata": {},
     "output_type": "display_data"
    }
   ],
   "source": [
    "def update(image, sigma, tresh):\n",
    "    # Read in image and convert to appropriate format\n",
    "    image = util.img_as_float(color.rgb2gray(io.imread(image)))\n",
    "\n",
    "    # Read in sigma \n",
    "    sigma = float(sigma)\n",
    "\n",
    "    # Calculate size of filter mask\n",
    "    size = int(6*sigma)-1\n",
    "\n",
    "    # A function for converting top-left aligned coordinates to center aligned \n",
    "    # coordinates\n",
    "    def dist(i,j):\n",
    "      # Find the center index\n",
    "      center = size//2\n",
    "      # Return the converted coordinates\n",
    "      return (i-center,j-center) \n",
    "\n",
    "    # A function for creating a Gaussian smoothing filter\n",
    "    def gaussian():\n",
    "      # Create the filter image\n",
    "      mask = numpy.ndarray((size,size), dtype=numpy.float) \n",
    "\n",
    "      # Calculate the constant factor of the Gaussian equation. Not needed if we\n",
    "      # are normalizing the filter after calculations\n",
    "      constant = 1/(2*numpy.pi*sigma**2)\n",
    "\n",
    "      # Loop through all the pixels of the mask\n",
    "      for i in range(0,size):\n",
    "        for j in range(0,size):\n",
    "          # Find the center-aligned coordinates for the current pixel\n",
    "          x,y = dist(i,j)\n",
    "          # Calculate the pixel value \n",
    "          mask[i,j] = constant * numpy.exp(-(x**2 + y**2)/(2*sigma**2))\n",
    "\n",
    "\n",
    "      return mask\n",
    "\n",
    "    # Create the Gaussian filter\n",
    "    filt = gaussian()\n",
    "\n",
    "    # Smooth the image using built-in convolution operator and our filter\n",
    "    smooth = ndimage.convolve(image, filt, mode=\"nearest\")\n",
    "\n",
    "    # Create the two filter maskis\n",
    "    sobel_x = numpy.asarray([[-1,0,1],[-2, 0, 2],[-1,0,1]])\n",
    "    sobel_y = numpy.asarray([[-1,-2,-1],[0, 0, 0],[1,2,1]])\n",
    "    \n",
    "    # Concolve the image with both filters\n",
    "    grad_x = ndimage.convolve(smooth, sobel_x, mode=\"nearest\")\n",
    "    grad_y = ndimage.convolve(smooth, sobel_y, mode=\"nearest\")\n",
    "    \n",
    "    #grad = (grad_x**2+grad_y**2)**0.5\n",
    "    \n",
    "    angle = numpy.arctan2(grad_y,grad_x)\n",
    "    \n",
    "    #tresholding    \n",
    "    #final = grad > tresh\n",
    "\n",
    "    \n",
    "    io.imshow(angle)\n",
    "    io.show()\n",
    "\n",
    "interactive(update, image = inputImage, sigma=(1,5), tresh=widgets.FloatSlider(min=0,max=1,value=0.1,step=0.01))"
   ]
  }
 ],
 "metadata": {
  "kernelspec": {
   "display_name": "Python 3",
   "language": "python",
   "name": "python3"
  },
  "language_info": {
   "codemirror_mode": {
    "name": "ipython",
    "version": 3
   },
   "file_extension": ".py",
   "mimetype": "text/x-python",
   "name": "python",
   "nbconvert_exporter": "python",
   "pygments_lexer": "ipython3",
   "version": "3.7.1"
  }
 },
 "nbformat": 4,
 "nbformat_minor": 2
}
