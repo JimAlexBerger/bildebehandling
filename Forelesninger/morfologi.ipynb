{
 "cells": [
  {
   "cell_type": "code",
   "execution_count": 1,
   "metadata": {},
   "outputs": [],
   "source": [
    "from scipy import ndimage\n",
    "from skimage import io,util,color\n",
    "from IPython import display\n",
    "import numpy\n",
    "import sys\n",
    "import math\n",
    "\n",
    "import ipywidgets as widgets\n",
    "from ipywidgets import interactive\n",
    "from IPython.display import display, clear_output\n",
    "\n",
    "import matplotlib.pyplot as plt\n",
    "\n",
    "%matplotlib inline"
   ]
  },
  {
   "cell_type": "code",
   "execution_count": 9,
   "metadata": {},
   "outputs": [
    {
     "data": {
      "application/vnd.jupyter.widget-view+json": {
       "model_id": "3d2f3a430b544c8ab01a88a9e5fcb2bc",
       "version_major": 2,
       "version_minor": 0
      },
      "text/plain": [
       "interactive(children=(Dropdown(description='Bilde: ', options={'Wireboard': '/home/jim-alexander/Dokumenter/bi…"
      ]
     },
     "metadata": {},
     "output_type": "display_data"
    }
   ],
   "source": [
    "def readAndShowImageAndFilter(image,filtr):\n",
    "    im = util.img_as_bool(io.imread(image, as_gray=True))\n",
    "    im_filtr = util.img_as_bool(io.imread(filtr, as_gray=True))\n",
    "    io.imshow_collection([im,im_filtr], cmap='gray')\n",
    "    io.show()\n",
    "\n",
    "inputImage = widgets.Dropdown(\n",
    "    options={\n",
    "        'Wireboard':'/home/jim-alexander/Dokumenter/bildebehandling/Bilder/image_resources/circuitmask.tif',\n",
    "        'Balls With Reflection':'/home/jim-alexander/Dokumenter/bildebehandling/Bilder/image_resources/balls-with-reflections.tif',\n",
    "        'binary2':'binary2.pbm'\n",
    "    },\n",
    "    description='Bilde: ',\n",
    "    disabled=False,\n",
    ")\n",
    "\n",
    "inputFilter = widgets.Dropdown(\n",
    "    options={\n",
    "        'Cross':'se_cross.pbm',\n",
    "        'Box':'boxSE.png'\n",
    "    },\n",
    "    description='Filter: ',\n",
    "    disabled=False,\n",
    ")\n",
    "\n",
    "interactive(readAndShowImageAndFilter, image=inputImage, filtr=inputFilter)"
   ]
  },
  {
   "cell_type": "code",
   "execution_count": 17,
   "metadata": {},
   "outputs": [],
   "source": [
    "def erode(image,se):\n",
    "    se_height,se_width = se.shape\n",
    "\n",
    "    pad_v = se_height//2\n",
    "    pad_h = se_width//2\n",
    "\n",
    "    padded = util.pad(image,(pad_v,pad_h),mode=\"constant\")\n",
    "\n",
    "    out = numpy.zeros(image.shape,dtype=bool)\n",
    "    for i in range(image.shape[0]):\n",
    "      for j in range(image.shape[1]):\n",
    "        subimage = padded[i:i+se_height,j:j+se_width]\n",
    "        out[i,j] = numpy.array_equal(subimage*se,se)\n",
    "    \n",
    "    return out\n",
    "\n",
    "def dilation(image, se):\n",
    "    se_height,se_width = se.shape\n",
    "\n",
    "    pad_v = se_height//2\n",
    "    pad_h = se_width//2\n",
    "\n",
    "    padded = util.pad(image,(pad_v,pad_h),mode=\"constant\")\n",
    "\n",
    "    out = numpy.zeros(image.shape,dtype=bool)\n",
    "    for i in range(image.shape[0]):\n",
    "      for j in range(image.shape[1]):\n",
    "        subimage = padded[i:i+se_height,j:j+se_width]\n",
    "        out[i,j] = numpy.sum(subimage*se)>0 \n",
    "    return out\n",
    "\n",
    "def opening(image, se):\n",
    "    return dilation(erode(image,se),se)\n",
    "\n",
    "def closing(image, se):\n",
    "    return erode(dilation(image,se),se)\n",
    "\n",
    "def boundryExtract(image, se):\n",
    "    return image ^ erode(image,se)\n",
    "\n",
    "def holeFilling(image, se):\n",
    "    image_iter = numpy.zeros(image.shape)\n",
    "    image_iter[260,150] = True\n",
    "    \n",
    "    while True: \n",
    "        image_next = dilation(image_iter,se) & (~image)\n",
    "        \n",
    "        if(numpy.array_equal(image_iter,image_next)):\n",
    "            break\n",
    "        \n",
    "        image_iter = image_next\n",
    "    \n",
    "    return image_next | image"
   ]
  },
  {
   "cell_type": "code",
   "execution_count": 18,
   "metadata": {},
   "outputs": [
    {
     "data": {
      "application/vnd.jupyter.widget-view+json": {
       "model_id": "f01073c5b4e544fc8eb0c4c77789de32",
       "version_major": 2,
       "version_minor": 0
      },
      "text/plain": [
       "interactive(children=(Dropdown(description='Bilde: ', index=1, options={'Wireboard': '/home/jim-alexander/Doku…"
      ]
     },
     "metadata": {},
     "output_type": "display_data"
    }
   ],
   "source": [
    "inputMethod = widgets.Dropdown(\n",
    "    options={'erode':erode,\n",
    "             'dilation':dilation,\n",
    "             'opening':opening,\n",
    "             'closing':closing,\n",
    "             'Boundry Extract':boundryExtract,\n",
    "             'Hole filling': holeFilling\n",
    "            },\n",
    "    description='Filter: ',\n",
    "    disabled=False,\n",
    ")\n",
    "\n",
    "def update(image, filtr, method):\n",
    "    im = util.img_as_bool(io.imread(image, as_gray=True))\n",
    "    se = util.img_as_bool(io.imread(filtr, as_gray=True))\n",
    "    \n",
    "    im_prosessed = method(im,se)\n",
    "    \n",
    "    io.imshow_collection([im,im_prosessed], cmap='gray')\n",
    "    io.show()\n",
    "    \n",
    "interactive(update, image=inputImage, filtr=inputFilter, method=inputMethod)"
   ]
  }
 ],
 "metadata": {
  "kernelspec": {
   "display_name": "Python 3",
   "language": "python",
   "name": "python3"
  },
  "language_info": {
   "codemirror_mode": {
    "name": "ipython",
    "version": 3
   },
   "file_extension": ".py",
   "mimetype": "text/x-python",
   "name": "python",
   "nbconvert_exporter": "python",
   "pygments_lexer": "ipython3",
   "version": "3.7.1"
  }
 },
 "nbformat": 4,
 "nbformat_minor": 2
}
