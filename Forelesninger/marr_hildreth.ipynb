{
 "cells": [
  {
   "cell_type": "code",
   "execution_count": 1,
   "metadata": {},
   "outputs": [],
   "source": [
    "import skimage\n",
    "import numpy\n",
    "import sys\n",
    "import scipy\n",
    "from skimage import io,util,color\n",
    "from scipy import ndimage\n",
    "\n",
    "import ipywidgets as widgets\n",
    "from ipywidgets import interactive\n",
    "from IPython.display import display, clear_output\n",
    "\n",
    "import matplotlib.pyplot as plt\n",
    "\n",
    "%matplotlib inline"
   ]
  },
  {
   "cell_type": "code",
   "execution_count": 2,
   "metadata": {},
   "outputs": [
    {
     "ename": "FileNotFoundError",
     "evalue": "[Errno 2] No such file or directory: '/home/jim-alexander/Dokumenter/bildebehandling/Bilder/image_resources/lenna-RGB.tif'",
     "output_type": "error",
     "traceback": [
      "\u001b[1;31m---------------------------------------------------------------------------\u001b[0m",
      "\u001b[1;31mFileNotFoundError\u001b[0m                         Traceback (most recent call last)",
      "\u001b[1;32m<ipython-input-2-022c7dc5b9c4>\u001b[0m in \u001b[0;36m<module>\u001b[1;34m\u001b[0m\n\u001b[1;32m----> 1\u001b[1;33m \u001b[0mim\u001b[0m \u001b[1;33m=\u001b[0m \u001b[0mutil\u001b[0m\u001b[1;33m.\u001b[0m\u001b[0mimg_as_float\u001b[0m\u001b[1;33m(\u001b[0m\u001b[0mio\u001b[0m\u001b[1;33m.\u001b[0m\u001b[0mimread\u001b[0m\u001b[1;33m(\u001b[0m\u001b[1;34m\"/home/jim-alexander/Dokumenter/bildebehandling/Bilder/image_resources/lenna-RGB.tif\"\u001b[0m\u001b[1;33m,\u001b[0m\u001b[0mas_gray\u001b[0m\u001b[1;33m=\u001b[0m\u001b[1;32mTrue\u001b[0m\u001b[1;33m)\u001b[0m\u001b[1;33m)\u001b[0m\u001b[1;33m\u001b[0m\u001b[1;33m\u001b[0m\u001b[0m\n\u001b[0m\u001b[0;32m      2\u001b[0m \u001b[0mio\u001b[0m\u001b[1;33m.\u001b[0m\u001b[0mimshow\u001b[0m\u001b[1;33m(\u001b[0m\u001b[0mim\u001b[0m\u001b[1;33m,\u001b[0m \u001b[0mcmap\u001b[0m\u001b[1;33m=\u001b[0m\u001b[1;34m'gray'\u001b[0m\u001b[1;33m)\u001b[0m\u001b[1;33m\u001b[0m\u001b[1;33m\u001b[0m\u001b[0m\n\u001b[0;32m      3\u001b[0m \u001b[0mio\u001b[0m\u001b[1;33m.\u001b[0m\u001b[0mshow\u001b[0m\u001b[1;33m(\u001b[0m\u001b[1;33m)\u001b[0m\u001b[1;33m\u001b[0m\u001b[1;33m\u001b[0m\u001b[0m\n",
      "\u001b[1;32m~\\Anaconda3\\lib\\site-packages\\skimage\\io\\_io.py\u001b[0m in \u001b[0;36mimread\u001b[1;34m(fname, as_gray, plugin, flatten, **plugin_args)\u001b[0m\n\u001b[0;32m     60\u001b[0m \u001b[1;33m\u001b[0m\u001b[0m\n\u001b[0;32m     61\u001b[0m     \u001b[1;32mwith\u001b[0m \u001b[0mfile_or_url_context\u001b[0m\u001b[1;33m(\u001b[0m\u001b[0mfname\u001b[0m\u001b[1;33m)\u001b[0m \u001b[1;32mas\u001b[0m \u001b[0mfname\u001b[0m\u001b[1;33m:\u001b[0m\u001b[1;33m\u001b[0m\u001b[1;33m\u001b[0m\u001b[0m\n\u001b[1;32m---> 62\u001b[1;33m         \u001b[0mimg\u001b[0m \u001b[1;33m=\u001b[0m \u001b[0mcall_plugin\u001b[0m\u001b[1;33m(\u001b[0m\u001b[1;34m'imread'\u001b[0m\u001b[1;33m,\u001b[0m \u001b[0mfname\u001b[0m\u001b[1;33m,\u001b[0m \u001b[0mplugin\u001b[0m\u001b[1;33m=\u001b[0m\u001b[0mplugin\u001b[0m\u001b[1;33m,\u001b[0m \u001b[1;33m**\u001b[0m\u001b[0mplugin_args\u001b[0m\u001b[1;33m)\u001b[0m\u001b[1;33m\u001b[0m\u001b[1;33m\u001b[0m\u001b[0m\n\u001b[0m\u001b[0;32m     63\u001b[0m \u001b[1;33m\u001b[0m\u001b[0m\n\u001b[0;32m     64\u001b[0m     \u001b[1;32mif\u001b[0m \u001b[1;32mnot\u001b[0m \u001b[0mhasattr\u001b[0m\u001b[1;33m(\u001b[0m\u001b[0mimg\u001b[0m\u001b[1;33m,\u001b[0m \u001b[1;34m'ndim'\u001b[0m\u001b[1;33m)\u001b[0m\u001b[1;33m:\u001b[0m\u001b[1;33m\u001b[0m\u001b[1;33m\u001b[0m\u001b[0m\n",
      "\u001b[1;32m~\\Anaconda3\\lib\\site-packages\\skimage\\io\\manage_plugins.py\u001b[0m in \u001b[0;36mcall_plugin\u001b[1;34m(kind, *args, **kwargs)\u001b[0m\n\u001b[0;32m    212\u001b[0m                                (plugin, kind))\n\u001b[0;32m    213\u001b[0m \u001b[1;33m\u001b[0m\u001b[0m\n\u001b[1;32m--> 214\u001b[1;33m     \u001b[1;32mreturn\u001b[0m \u001b[0mfunc\u001b[0m\u001b[1;33m(\u001b[0m\u001b[1;33m*\u001b[0m\u001b[0margs\u001b[0m\u001b[1;33m,\u001b[0m \u001b[1;33m**\u001b[0m\u001b[0mkwargs\u001b[0m\u001b[1;33m)\u001b[0m\u001b[1;33m\u001b[0m\u001b[1;33m\u001b[0m\u001b[0m\n\u001b[0m\u001b[0;32m    215\u001b[0m \u001b[1;33m\u001b[0m\u001b[0m\n\u001b[0;32m    216\u001b[0m \u001b[1;33m\u001b[0m\u001b[0m\n",
      "\u001b[1;32m~\\Anaconda3\\lib\\site-packages\\skimage\\io\\_plugins\\tifffile_plugin.py\u001b[0m in \u001b[0;36mimread\u001b[1;34m(fname, dtype, **kwargs)\u001b[0m\n\u001b[0;32m     27\u001b[0m     \u001b[1;32mif\u001b[0m \u001b[1;34m'img_num'\u001b[0m \u001b[1;32min\u001b[0m \u001b[0mkwargs\u001b[0m\u001b[1;33m:\u001b[0m\u001b[1;33m\u001b[0m\u001b[1;33m\u001b[0m\u001b[0m\n\u001b[0;32m     28\u001b[0m         \u001b[0mkwargs\u001b[0m\u001b[1;33m[\u001b[0m\u001b[1;34m'key'\u001b[0m\u001b[1;33m]\u001b[0m \u001b[1;33m=\u001b[0m \u001b[0mkwargs\u001b[0m\u001b[1;33m.\u001b[0m\u001b[0mpop\u001b[0m\u001b[1;33m(\u001b[0m\u001b[1;34m'img_num'\u001b[0m\u001b[1;33m)\u001b[0m\u001b[1;33m\u001b[0m\u001b[1;33m\u001b[0m\u001b[0m\n\u001b[1;32m---> 29\u001b[1;33m     \u001b[1;32mwith\u001b[0m \u001b[0mopen\u001b[0m\u001b[1;33m(\u001b[0m\u001b[0mfname\u001b[0m\u001b[1;33m,\u001b[0m \u001b[1;34m'rb'\u001b[0m\u001b[1;33m)\u001b[0m \u001b[1;32mas\u001b[0m \u001b[0mf\u001b[0m\u001b[1;33m:\u001b[0m\u001b[1;33m\u001b[0m\u001b[1;33m\u001b[0m\u001b[0m\n\u001b[0m\u001b[0;32m     30\u001b[0m         \u001b[0mtif\u001b[0m \u001b[1;33m=\u001b[0m \u001b[0mTiffFile\u001b[0m\u001b[1;33m(\u001b[0m\u001b[0mf\u001b[0m\u001b[1;33m)\u001b[0m\u001b[1;33m\u001b[0m\u001b[1;33m\u001b[0m\u001b[0m\n\u001b[0;32m     31\u001b[0m         \u001b[1;32mreturn\u001b[0m \u001b[0mtif\u001b[0m\u001b[1;33m.\u001b[0m\u001b[0masarray\u001b[0m\u001b[1;33m(\u001b[0m\u001b[1;33m**\u001b[0m\u001b[0mkwargs\u001b[0m\u001b[1;33m)\u001b[0m\u001b[1;33m\u001b[0m\u001b[1;33m\u001b[0m\u001b[0m\n",
      "\u001b[1;31mFileNotFoundError\u001b[0m: [Errno 2] No such file or directory: '/home/jim-alexander/Dokumenter/bildebehandling/Bilder/image_resources/lenna-RGB.tif'"
     ]
    }
   ],
   "source": [
    "im = util.img_as_float(io.imread(\"/home/jim-alexander/Dokumenter/bildebehandling/Bilder/image_resources/lenna-RGB.tif\",as_gray=True))\n",
    "io.imshow(im, cmap='gray')\n",
    "io.show()"
   ]
  },
  {
   "cell_type": "code",
   "execution_count": null,
   "metadata": {},
   "outputs": [],
   "source": [
    "def smooth(image, sigma):\n",
    "    # Read in image and convert to appropriate format\n",
    "    #image = util.img_as_float(color.rgb2gray(io.imread(image)))\n",
    "\n",
    "    # Read in sigma \n",
    "    sigma = float(sigma)\n",
    "\n",
    "    # Calculate size of filter mask\n",
    "    size = int(6*sigma)-1\n",
    "\n",
    "    # A function for converting top-left aligned coordinates to center aligned \n",
    "    # coordinates\n",
    "    def dist(i,j):\n",
    "      # Find the center index\n",
    "      center = size//2\n",
    "      # Return the converted coordinates\n",
    "      return (i-center,j-center) \n",
    "\n",
    "    # A function for creating a Gaussian smoothing filter\n",
    "    def gaussian():\n",
    "      # Create the filter image\n",
    "      mask = numpy.ndarray((size,size), dtype=numpy.float) \n",
    "\n",
    "      # Calculate the constant factor of the Gaussian equation. Not needed if we\n",
    "      # are normalizing the filter after calculations\n",
    "      constant = 1/(2*numpy.pi*sigma**2)\n",
    "\n",
    "      # Loop through all the pixels of the mask\n",
    "      for i in range(0,size):\n",
    "        for j in range(0,size):\n",
    "          # Find the center-aligned coordinates for the current pixel\n",
    "          x,y = dist(i,j)\n",
    "          # Calculate the pixel value \n",
    "          mask[i,j] = constant * numpy.exp(-(x**2 + y**2)/(2*sigma**2))\n",
    "\n",
    "\n",
    "      return mask\n",
    "\n",
    "    # Create the Gaussian filter\n",
    "    gaussian_filter = gaussian()\n",
    "\n",
    "    # Smooth the image using built-in convolution operator and our filter\n",
    "    smooth = ndimage.convolve(image, gaussian_filter, mode=\"nearest\")\n",
    "\n",
    "    return smooth\n",
    "\n",
    "def laplacian(image):\n",
    "    laplacian_filter = numpy.asarray([[-1,-1,-1],[-1,8,-1],[-1,-1,-1]])\n",
    "    return ndimage.convolve(image, laplacian_filter, mode=\"nearest\")\n",
    "\n",
    "def zeroCrossPair(pixel1,pixel2):\n",
    "    if(pixel1*pixel2 < 0):\n",
    "        return abs(pixel1 - pixel2)\n",
    "    else:\n",
    "        return 0\n",
    "\n",
    "def zeroCrossing3x3(subim, tresh):\n",
    "    ret = 0\n",
    "    for x in range(3):\n",
    "        ret += zeroCrossPair(subim[0,x],subim[2,2-x]) \n",
    "    ret += zeroCrossPair(subim[1,0],subim[1,2]) \n",
    "    return ret\n",
    "\n",
    "def zeroCrossing(image,tresh):\n",
    "    height,width = image.shape\n",
    "    ret = numpy.zeros(image.shape, dtype=bool)\n",
    "    for i in range(1,height-1):\n",
    "        for j in range(1,width-1):\n",
    "            subim = image[i-1:i+2,j-1:j+2]\n",
    "            ret[i,j] = zeroCrossing3x3(subim,tresh)\n",
    "    return ret > tresh\n",
    "\n",
    "def update(sigma,tresh):\n",
    "    im = util.img_as_float(io.imread(\"/home/jim-alexander/Dokumenter/bildebehandling/Bilder/image_resources/lenna-gray.tif\",as_gray=True))\n",
    "    io.imshow(zeroCrossing(laplacian(smooth(im,sigma)),tresh),cmap='gray')\n",
    "    io.show()\n",
    "    \n",
    "interactive(update, sigma=(1.0,5.0), tresh=widgets.FloatSlider(min=0,max=1,value=0.025,step=0.001))"
   ]
  },
  {
   "cell_type": "code",
   "execution_count": null,
   "metadata": {},
   "outputs": [],
   "source": []
  }
 ],
 "metadata": {
  "kernelspec": {
   "display_name": "Python 3",
   "language": "python",
   "name": "python3"
  },
  "language_info": {
   "codemirror_mode": {
    "name": "ipython",
    "version": 3
   },
   "file_extension": ".py",
   "mimetype": "text/x-python",
   "name": "python",
   "nbconvert_exporter": "python",
   "pygments_lexer": "ipython3",
   "version": "3.7.1"
  }
 },
 "nbformat": 4,
 "nbformat_minor": 2
}
