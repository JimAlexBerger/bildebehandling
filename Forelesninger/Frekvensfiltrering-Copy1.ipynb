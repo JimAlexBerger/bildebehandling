{
 "cells": [
  {
   "cell_type": "code",
   "execution_count": 1,
   "metadata": {},
   "outputs": [],
   "source": [
    "from scipy import ndimage\n",
    "from skimage import io,util,color\n",
    "from IPython import display\n",
    "import numpy\n",
    "import sys\n",
    "import math\n",
    "\n",
    "import ipywidgets as widgets\n",
    "from ipywidgets import interactive\n",
    "from IPython.display import display, clear_output\n",
    "\n",
    "import matplotlib.pyplot as plt\n",
    "\n",
    "# Our imports\n",
    "import skimage\n",
    "import scipy\n",
    "from skimage import util,color,exposure,io\n",
    "from scipy import fftpack\n",
    "\n",
    "%matplotlib inline"
   ]
  },
  {
   "cell_type": "code",
   "execution_count": 2,
   "metadata": {},
   "outputs": [
    {
     "data": {
      "application/vnd.jupyter.widget-view+json": {
       "model_id": "5f5be378bdce4583a88ff5d2097ceb6f",
       "version_major": 2,
       "version_minor": 0
      },
      "text/plain": [
       "interactive(children=(Dropdown(description='Bilde: ', options={'Saturn': '../Bilder/image_resources/suaturn-ri…"
      ]
     },
     "metadata": {},
     "output_type": "display_data"
    }
   ],
   "source": [
    "def readAndShowImage(image):\n",
    "    im = io.imread(image, as_gray=True)\n",
    "    io.imshow(im, cmap='gray')\n",
    "    io.show()\n",
    "\n",
    "inputImage = widgets.Dropdown(\n",
    "    options={\n",
    "        'Saturn':'../Bilder/image_resources/suaturn-rings-sinusoidal-interf.tif',\n",
    "        'White bar':'../Bilder/white_bar.png',\n",
    "        'White bar translate':'../Bilder/white_bar_translated.png',\n",
    "        'white bar rotated':'../Bilder/white_bar_rotated.png',\n",
    "        'test pattern':'../Bilder/test_pattern.pgm'\n",
    "        },\n",
    "    description='Bilde: ',\n",
    "    disabled=False,\n",
    ")\n",
    "\n",
    "interactive(readAndShowImage, image=inputImage)"
   ]
  },
  {
   "cell_type": "code",
   "execution_count": 3,
   "metadata": {},
   "outputs": [
    {
     "data": {
      "application/vnd.jupyter.widget-view+json": {
       "model_id": "b0adae8258e84ceca6a781ae5f9afaab",
       "version_major": 2,
       "version_minor": 0
      },
      "text/plain": [
       "interactive(children=(Dropdown(description='Bilde: ', options={'Saturn': '../Bilder/image_resources/suaturn-ri…"
      ]
     },
     "metadata": {},
     "output_type": "display_data"
    }
   ],
   "source": [
    "def fourrier(image):\n",
    "    # Read image, convert to gray, convert to float\n",
    "    im = util.img_as_float(color.rgb2gray(io.imread(image)))\n",
    "\n",
    "    # Retrieve the image dimensions\n",
    "    height,width = im.shape\n",
    "\n",
    "    # Create an image to store the transformed image\n",
    "    image_trans = numpy.zeros(im.shape)\n",
    "    # Transform each pixel in the image by multiplying with -1**(i+j) (see \n",
    "    # slides/book) to translate the fourier transformed image to height/2 width/2 \n",
    "    # i.e. the center of the image\n",
    "    for i in range(height):\n",
    "      for j in range(width):\n",
    "        image_trans[i,j] = im[i,j]*((-1)**(i+j))\n",
    "\n",
    "    # Perform the fourier transformation\n",
    "    ft = fftpack.fft2(image_trans)\n",
    "\n",
    "    # Get the fourier spectrum by finding the length of the complex number vectors\n",
    "    ft = numpy.absolute(ft)\n",
    "\n",
    "    # Log transformation (see own lecture)\n",
    "    out = numpy.zeros(im.shape)\n",
    "    for i in range(0, im.shape[0]):\n",
    "      for j in range(0, im.shape[1]):\n",
    "        out[i,j] = numpy.log(1+ft[i,j])\n",
    "\n",
    "    # Show the result\n",
    "    io.imshow(out, cmap='gray')\n",
    "    io.show()\n",
    "    \n",
    "interactive(fourrier,image=inputImage)"
   ]
  }
 ],
 "metadata": {
  "kernelspec": {
   "display_name": "Python 3",
   "language": "python",
   "name": "python3"
  },
  "language_info": {
   "codemirror_mode": {
    "name": "ipython",
    "version": 3
   },
   "file_extension": ".py",
   "mimetype": "text/x-python",
   "name": "python",
   "nbconvert_exporter": "python",
   "pygments_lexer": "ipython3",
   "version": "3.7.1"
  }
 },
 "nbformat": 4,
 "nbformat_minor": 2
}
