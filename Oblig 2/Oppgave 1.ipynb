{
 "cells": [
  {
   "cell_type": "code",
   "execution_count": 27,
   "metadata": {},
   "outputs": [],
   "source": [
    "from scipy import ndimage\n",
    "from skimage import io,util,color\n",
    "from IPython import display\n",
    "import numpy\n",
    "import sys\n",
    "import math\n",
    "import cmath\n",
    "\n",
    "import ipywidgets as widgets\n",
    "from ipywidgets import interactive\n",
    "from IPython.display import display, clear_output\n",
    "\n",
    "import matplotlib.pyplot as plt\n",
    "\n",
    "# Our imports\n",
    "import skimage\n",
    "import scipy\n",
    "from skimage import util,color,exposure,io\n",
    "from scipy import fftpack\n",
    "\n",
    "%matplotlib inline"
   ]
  },
  {
   "cell_type": "code",
   "execution_count": 98,
   "metadata": {},
   "outputs": [],
   "source": [
    "def FT(im,u,v,imaginary):\n",
    "    s = complex(0,0)\n",
    "    \n",
    "    M,N = im.shape\n",
    "    \n",
    "    for x in range(M):\n",
    "        for y in range(N):\n",
    "            s += im[x,y] * cmath.exp(imaginary * 2 * cmath.pi * (((u*x) / M) + ((v*y) / N)))\n",
    "    return s\n",
    "\n",
    "\n",
    "def DFT(im):\n",
    "    height, width = im.shape\n",
    "    \n",
    "    out = numpy.zeros(im.shape,dtype=numpy.complex)\n",
    "    \n",
    "    for u in range(height):\n",
    "        for v in range(width):\n",
    "            out[u,v] = FT(im,u,v,-1j)\n",
    "    \n",
    "    return out\n",
    "\n",
    "def IDFT(im):\n",
    "    height, width = im.shape\n",
    "    \n",
    "    out = numpy.zeros(im.shape,dtype=numpy.complex)\n",
    "    \n",
    "    for u in range(height):\n",
    "        for v in range(width):\n",
    "            out[u,v] = 1/(height*width) * FT(im,u,v,1j)\n",
    "    \n",
    "    return out"
   ]
  },
  {
   "cell_type": "code",
   "execution_count": 112,
   "metadata": {},
   "outputs": [
    {
     "data": {
      "application/vnd.jupyter.widget-view+json": {
       "model_id": "b53fb73903e341cf9b7524188163a088",
       "version_major": 2,
       "version_minor": 0
      },
      "text/plain": [
       "interactive(children=(Dropdown(description='Bilde: ', options={'hurricane': '../Bilder/image_resources/hurrica…"
      ]
     },
     "metadata": {},
     "output_type": "display_data"
    }
   ],
   "source": [
    "def fourrier(image):\n",
    "    # Read image, convert to gray, convert to float\n",
    "    im = numpy.asarray([[0.7, 1, 0, 0.5], [0, 0, 1, 0], [0.3, 1, 0, 0.5], [0, 0, 1, 0]], dtype=numpy.float)\n",
    "\n",
    "    # Retrieve the image dimensions\n",
    "    height,width = im.shape\n",
    "\n",
    "    # Create an image to store the transformed image\n",
    "    image_trans = numpy.zeros(im.shape)\n",
    "    # Transform each pixel in the image by multiplying with -1**(i+j) (see \n",
    "    # slides/book) to translate the fourier transformed image to height/2 width/2 \n",
    "    # i.e. the center of the image\n",
    "    for i in range(height):\n",
    "      for j in range(width):\n",
    "        image_trans[i,j] = im[i,j]*((-1)**(i+j))\n",
    "\n",
    "    # Perform the fourier transformation\n",
    "    ft_builtin = fftpack.fft2(image_trans)\n",
    "    ft = DFT(image_trans)\n",
    "\n",
    "    # Get the fourier spectrum by finding the length of the complex number vectors\n",
    "    ft_abs = numpy.absolute(ft)\n",
    "    ft_builtin_abs = numpy.absolute(ft_builtin)\n",
    "\n",
    "    # Log transformation (see own lecture)\n",
    "    out = numpy.zeros(im.shape)\n",
    "    out2 = numpy.zeros(im.shape)\n",
    "    for i in range(0, im.shape[0]):\n",
    "      for j in range(0, im.shape[1]):\n",
    "        out[i,j] = numpy.log(1+ft_abs[i,j])\n",
    "        out2[i,j] = numpy.log(1+ft_builtin_abs[i,j])\n",
    "        \n",
    "     #transformerer med invers fourier\n",
    "    filtered = fftpack.ifft2(ft_builtin)\n",
    "    \n",
    "    #translerer tilbake\n",
    "    filtered_translated = numpy.zeros(im.shape)\n",
    "\n",
    "    for i in range(height):\n",
    "        for j in range(width):\n",
    "            filtered_translated[i,j] = filtered[i,j]*((-1)**(i+j))\n",
    "\n",
    "\n",
    "    # Show the result\n",
    "    io.imshow_collection([out,out2, numpy.rea(IDFT(ft)),filtered_translated], cmap='gray')\n",
    "    io.show()\n",
    "    \n",
    "interactive(fourrier,image=inputImage)"
   ]
  }
 ],
 "metadata": {
  "kernelspec": {
   "display_name": "Python 3",
   "language": "python",
   "name": "python3"
  },
  "language_info": {
   "codemirror_mode": {
    "name": "ipython",
    "version": 3
   },
   "file_extension": ".py",
   "mimetype": "text/x-python",
   "name": "python",
   "nbconvert_exporter": "python",
   "pygments_lexer": "ipython3",
   "version": "3.7.1"
  }
 },
 "nbformat": 4,
 "nbformat_minor": 2
}
