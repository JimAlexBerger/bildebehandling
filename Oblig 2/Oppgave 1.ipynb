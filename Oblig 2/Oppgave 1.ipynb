{
 "cells": [
  {
   "cell_type": "markdown",
   "metadata": {},
   "source": [
    "# Oppgave 1"
   ]
  },
  {
   "cell_type": "code",
   "execution_count": 2,
   "metadata": {},
   "outputs": [],
   "source": [
    "from scipy import ndimage\n",
    "from skimage import io,util,color\n",
    "from IPython import display\n",
    "import cmath\n",
    "import numpy\n",
    "\n",
    "from scipy import fftpack\n",
    "\n",
    "%matplotlib inline"
   ]
  },
  {
   "cell_type": "markdown",
   "metadata": {},
   "source": [
    "Kode for DFT og IDFT. \n",
    "Lagde en generell FT funksjon som kunne benyttes i begge funksjonene, som tar imot om den skal bruke j eller -j i formelen:\n",
    "    "
   ]
  },
  {
   "cell_type": "code",
   "execution_count": 1,
   "metadata": {},
   "outputs": [
    {
     "data": {
      "text/latex": [
       "\n",
       "\\[ \\sum_{u=0}^{M-1} \\sum_{v=0}^{N-1} f(x,y)e^{j2\\pi(\\frac{ux}{M}+\\frac{vy}{N})} \\]\n"
      ],
      "text/plain": [
       "<IPython.core.display.Latex object>"
      ]
     },
     "metadata": {},
     "output_type": "display_data"
    }
   ],
   "source": [
    "%%latex\n",
    "\n",
    "\\[ \\sum_{u=0}^{M-1} \\sum_{v=0}^{N-1} f(x,y)e^{j2\\pi(\\frac{ux}{M}+\\frac{vy}{N})} \\]"
   ]
  },
  {
   "cell_type": "code",
   "execution_count": 3,
   "metadata": {},
   "outputs": [],
   "source": [
    "def FT(im,u,v,imaginary):\n",
    "    s = complex(0,0)\n",
    "    \n",
    "    M,N = im.shape\n",
    "    \n",
    "    for x in range(M):\n",
    "        for y in range(N):\n",
    "            s += im[x,y] * cmath.exp(imaginary * 2 * cmath.pi * (((u*x) / M) + ((v*y) / N)))\n",
    "    return s\n",
    "\n",
    "\n",
    "def DFT(im):\n",
    "    height, width = im.shape\n",
    "    \n",
    "    out = numpy.zeros(im.shape,dtype=numpy.complex)\n",
    "    \n",
    "    for u in range(height):\n",
    "        for v in range(width):\n",
    "            out[u,v] = FT(im,u,v,-1j)\n",
    "    \n",
    "    return out\n",
    "\n",
    "def IDFT(im):\n",
    "    height, width = im.shape\n",
    "    \n",
    "    out = numpy.zeros(im.shape,dtype=numpy.complex)\n",
    "    \n",
    "    for u in range(height):\n",
    "        for v in range(width):\n",
    "            out[u,v] = (1/(height*width)) * FT(im,u,v,1j)\n",
    "    \n",
    "    return out"
   ]
  },
  {
   "cell_type": "markdown",
   "metadata": {},
   "source": [
    "Under er koden fra lars vidar modifisert til å teste min implementasjon av funksjonene"
   ]
  },
  {
   "cell_type": "code",
   "execution_count": 4,
   "metadata": {},
   "outputs": [
    {
     "name": "stderr",
     "output_type": "stream",
     "text": [
      "C:\\Users\\Jim-Alexander\\Anaconda3\\lib\\site-packages\\scipy\\fftpack\\basic.py:160: FutureWarning: Using a non-tuple sequence for multidimensional indexing is deprecated; use `arr[tuple(seq)]` instead of `arr[seq]`. In the future this will be interpreted as an array index, `arr[np.array(seq)]`, which will result either in an error or a different result.\n",
      "  z[index] = x\n"
     ]
    },
    {
     "data": {
      "image/png": "[encoded data removed]",
      "text/plain": [
       "<Figure size 432x288 with 4 Axes>"
      ]
     },
     "metadata": {
      "needs_background": "light"
     },
     "output_type": "display_data"
    }
   ],
   "source": [
    "# Read image, convert to gray, convert to float\n",
    "im = numpy.asarray([[0, 1, 0, 0], [0, 0, 1, 0], [0, 1, 0, 0], [0, 0, 1, 0]], dtype=numpy.float)\n",
    "\n",
    "# Retrieve the image dimensions\n",
    "height,width = im.shape\n",
    "\n",
    "# Perform the fourier transformation\n",
    "ft_builtin = fftpack.fft2(im)\n",
    "ft = DFT(im)\n",
    "\n",
    "# Get the fourier spectrum by finding the length of the complex number vectors\n",
    "ft_abs = numpy.absolute(ft)\n",
    "ft_builtin_abs = numpy.absolute(ft_builtin)\n",
    "\n",
    "#transformerer med invers fourier\n",
    "transformed_back_builtin = numpy.real(fftpack.ifft2(ft_builtin))\n",
    "transformed_back = numpy.real(IDFT(ft))\n",
    "\n",
    "\n",
    "# Show the result\n",
    "io.imshow_collection([ft_abs,ft_builtin_abs, transformed_back,transformed_back_builtin], cmap='gray')\n",
    "io.show()\n"
   ]
  },
  {
   "cell_type": "markdown",
   "metadata": {},
   "source": [
    "Som vi kan se fra eksemplet over fungerer min implementasjon av DFT og IDFT. \n",
    "På venstre siden er min implementasjon, mens på høyre side er de innebygde funksjonene i fftpack.\n",
    "På øverse rad er frekvensdomenet, underste rad er transformert tilbake fra frekvensdomenet."
   ]
  }
 ],
 "metadata": {
  "kernelspec": {
   "display_name": "Python 3",
   "language": "python",
   "name": "python3"
  },
  "language_info": {
   "codemirror_mode": {
    "name": "ipython",
    "version": 3
   },
   "file_extension": ".py",
   "mimetype": "text/x-python",
   "name": "python",
   "nbconvert_exporter": "python",
   "pygments_lexer": "ipython3",
   "version": "3.7.1"
  }
 },
 "nbformat": 4,
 "nbformat_minor": 2
}
