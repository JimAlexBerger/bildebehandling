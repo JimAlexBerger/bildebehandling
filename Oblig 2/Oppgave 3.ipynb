{
 "cells": [
  {
   "cell_type": "markdown",
   "metadata": {},
   "source": [
    "# Oppgave 3"
   ]
  },
  {
   "cell_type": "code",
   "execution_count": 1,
   "metadata": {},
   "outputs": [],
   "source": [
    "from scipy import ndimage\n",
    "from skimage import io,util,color\n",
    "from IPython import display\n",
    "import numpy\n",
    "import sys\n",
    "import math\n",
    "\n",
    "import ipywidgets as widgets\n",
    "from ipywidgets import interactive\n",
    "from IPython.display import display, clear_output\n",
    "\n",
    "import matplotlib.pyplot as plt\n",
    "\n",
    "# Our imports\n",
    "import skimage\n",
    "import scipy\n",
    "from skimage import util,color,exposure,io\n",
    "from scipy import fftpack\n",
    "\n",
    "%matplotlib inline"
   ]
  },
  {
   "cell_type": "markdown",
   "metadata": {},
   "source": [
    "Funksjon for transformering til frekvensplanet"
   ]
  },
  {
   "cell_type": "code",
   "execution_count": 2,
   "metadata": {},
   "outputs": [],
   "source": [
    "#Transformerer til frekvensplanet\n",
    "def fourrier(im):\n",
    "    # Retrieve the image dimensions\n",
    "    height,width = im.shape\n",
    "\n",
    "    # Create an image to store the transformed image\n",
    "    image_trans = numpy.zeros(im.shape)\n",
    "    # Transform each pixel in the image by multiplying with -1**(i+j) (see \n",
    "    # slides/book) to translate the fourier transformed image to height/2 width/2 \n",
    "    # i.e. the center of the image\n",
    "    for i in range(height):\n",
    "      for j in range(width):\n",
    "        image_trans[i,j] = im[i,j]*((-1)**(i+j))\n",
    "\n",
    "    # Perform the fourier transformation\n",
    "    ft = fftpack.fft2(image_trans)\n",
    "\n",
    "    # Get the fourier spectrum by finding the length of the complex number vectors\n",
    "    ft = numpy.absolute(ft)\n",
    "\n",
    "    # Log transformation (see own lecture)\n",
    "    out = numpy.zeros(im.shape)\n",
    "    for i in range(0, im.shape[0]):\n",
    "      for j in range(0, im.shape[1]):\n",
    "        out[i,j] = numpy.log(1+ft[i,j])\n",
    "\n",
    "    return out"
   ]
  },
  {
   "cell_type": "markdown",
   "metadata": {},
   "source": [
    "Vil se hvordan ett bilde som kun har ett sinus signal i vertikal retning ser ut i frekvens domenet, sånn at jeg vet hva som skal filtreres vekk"
   ]
  },
  {
   "cell_type": "code",
   "execution_count": 10,
   "metadata": {},
   "outputs": [
    {
     "data": {
      "application/vnd.jupyter.widget-view+json": {
       "model_id": "63ad1c7c256d4dc79532c95df9c72dc8",
       "version_major": 2,
       "version_minor": 0
      },
      "text/plain": [
       "interactive(children=(IntSlider(value=128, description='freq', max=256, min=1), Output()), _dom_classes=('widg…"
      ]
     },
     "metadata": {},
     "output_type": "display_data"
    }
   ],
   "source": [
    "def showSinusInFreq(freq):\n",
    "    sinusImage = numpy.zeros((256,256))\n",
    "    freq = (freq*math.pi)/256\n",
    "\n",
    "    for x in range(256):\n",
    "        for y in range(256):\n",
    "            sinusImage[x,y] = math.sin(x*freq) \n",
    "\n",
    "    io.imshow_collection([sinusImage,fourrier(sinusImage)], cmap='gray')\n",
    "    io.show()\n",
    "\n",
    "interactive(showSinusInFreq, freq=(1,256))"
   ]
  },
  {
   "cell_type": "markdown",
   "metadata": {},
   "source": [
    "Som vi kan se legger frekvensen seg som en prikk en plass langs vertikal akse, sentrert horisontalt. Klarer ikke finne noen sammenheng om priken er plassert over eller under midten, men når frekvensen øker flytter prikken seg lenger vekk fra midten.\n",
    "\n",
    "Min plan nå er å finne den frekvensen som er nærmest den frekvensen i bildet ved å sjekke differansen mellom genererte sinus bilder og saturn bildet, til jeg finner den hvor frekvensen er nærmest den i bildet. Så lar jeg filteret være det inverse av den nærmeste bildet i frekvens domenet.\n",
    "\n",
    "# OBS ikke kjør denne dersom du ikke har god tid\n",
    "(det fungerte ikke uansett)"
   ]
  },
  {
   "cell_type": "code",
   "execution_count": 4,
   "metadata": {},
   "outputs": [
    {
     "data": {
      "application/vnd.jupyter.widget-view+json": {
       "model_id": "c280fc8cd0a74fa5827b625035c7cc17",
       "version_major": 2,
       "version_minor": 0
      },
      "text/plain": [
       "interactive(children=(Dropdown(description='Bilde: ', disabled=True, options={'Saturn Med støy': 'cassini-inte…"
      ]
     },
     "metadata": {},
     "output_type": "display_data"
    }
   ],
   "source": [
    "def plotHistogram(hist):\n",
    "    ind = numpy.arange(len(hist))  \n",
    "\n",
    "    fig, ax = plt.subplots()\n",
    "    rects1 = ax.bar(ind, hist)\n",
    "\n",
    "    plt.show()\n",
    "\n",
    "    \n",
    "inputImage = widgets.Dropdown(\n",
    "    options={\n",
    "        'Saturn Med støy':'cassini-interference.png'\n",
    "        },\n",
    "    description='Bilde: ',\n",
    "    disabled=True,\n",
    ")\n",
    "    \n",
    "def findFrequencyImage(sourceImage):\n",
    "    im = io.imread(sourceImage, as_gray=True)\n",
    "    \n",
    "    width, height = im.shape\n",
    "    \n",
    "    diff = numpy.zeros(height)\n",
    "    \n",
    "    minDiff = math.inf\n",
    "    minFreq = 0\n",
    "    \n",
    "    for freq0 in range(height):\n",
    "        \n",
    "        sinusImage = numpy.zeros(im.shape)\n",
    "        freq = (freq0*math.pi)/height\n",
    "\n",
    "        for x in range(width):\n",
    "            for y in range(height):\n",
    "                sinusImage[x,y] = math.sin(x*freq) \n",
    "        \n",
    "        diffImage = im - 0.5*sinusImage\n",
    "        difference = numpy.sum(diffImage)\n",
    "        if(difference < minDiff):\n",
    "            minFreq = freq0\n",
    "            minDiff = difference\n",
    "            \n",
    "        diff[freq0] = difference\n",
    "    \n",
    "    sinusImage = numpy.zeros(im.shape)\n",
    "    freq = (minFreq*math.pi)/height\n",
    "\n",
    "    for x in range(width):\n",
    "        for y in range(height):\n",
    "            sinusImage[x,y] = 0.5 * math.sin(x*freq) \n",
    "    \n",
    "    \n",
    "    plotHistogram(diff)\n",
    "    io.imshow_collection([im, sinusImage], cmap='gray')\n",
    "\n",
    "interactive(findFrequencyImage, sourceImage = inputImage)"
   ]
  },
  {
   "cell_type": "markdown",
   "metadata": {},
   "source": [
    "Dette innser jeg nå ikke vil fungere da, det bildet med mest hvitt innhold vil være det som matcher orginal bildet best.\n",
    "\n",
    "Jeg vil helle da generere filteret manuelt til jeg finner de verdiene som passer best til å fjerne støy."
   ]
  },
  {
   "cell_type": "code",
   "execution_count": 8,
   "metadata": {},
   "outputs": [
    {
     "data": {
      "application/vnd.jupyter.widget-view+json": {
       "model_id": "a7935b263fe24001a9a6f20eaa94b4d0",
       "version_major": 2,
       "version_minor": 0
      },
      "text/plain": [
       "interactive(children=(Dropdown(description='Bilde: ', disabled=True, options={'Saturn Med støy': 'cassini-inte…"
      ]
     },
     "metadata": {},
     "output_type": "display_data"
    }
   ],
   "source": [
    "def fourrierFilter(image,cutoff):\n",
    "    # Read image, convert to gray, convert to float\n",
    "    im = util.img_as_float(color.rgb2gray(io.imread(image)))\n",
    "\n",
    "    # Retrieve the image dimensions\n",
    "    height,width = im.shape\n",
    "    \n",
    "    #finding P and Q\n",
    "    padded_height = height*2\n",
    "    padded_width = width*2\n",
    "    \n",
    "    #Padding image width 0s\n",
    "    padded = numpy.zeros((padded_height,padded_width))\n",
    "    padded[0:height,0:width] = im\n",
    "\n",
    "    # Create an image to store the transformed image\n",
    "    image_trans = numpy.zeros(padded.shape)\n",
    "    # Transform each pixel in the image by multiplying with -1**(i+j) (see \n",
    "    # slides/book) to translate the fourier transformed image to height/2 width/2 \n",
    "    # i.e. the center of the image\n",
    "    for i in range(padded_height):\n",
    "      for j in range(padded_width):\n",
    "        image_trans[i,j] = padded[i,j]*((-1)**(i+j))\n",
    "\n",
    "    # Perform the fourier transformation\n",
    "    fourier_transform = fftpack.fft2(image_trans)\n",
    "\n",
    "\n",
    "\n",
    "    #lage filter \n",
    "    filtr = numpy.zeros(padded.shape)\n",
    "    center_w = padded_width/2\n",
    "    center_h = padded_height/2\n",
    "    for x in range(padded_height):\n",
    "        for y in range(padded_width):\n",
    "            filtr[x,y] = 0 if ((math.fabs(y - center_w) < 5) and (math.fabs(x - center_h) > cutoff) and (math.fabs(x - center_h) < (cutoff + 200))) else 1\n",
    "    \n",
    "    #filtrerer den fourier transformerte\n",
    "    filtered = filtr*fourier_transform    \n",
    "    \n",
    "    #transformerer med invers fourier\n",
    "    filtered = fftpack.ifft2(filtered)\n",
    "    \n",
    "    #translerer tilbake\n",
    "    filtered_translated = numpy.zeros(padded.shape)\n",
    "\n",
    "    for i in range(padded_height):\n",
    "        for j in range(padded_width):\n",
    "            filtered_translated[i,j] = filtered[i,j]*((-1)**(i+j))\n",
    "    \n",
    "    #fjerner padding\n",
    "    filtered_cropped = filtered_translated[0:width,0:height]\n",
    "    \n",
    "    # Show the result\n",
    "    io.imshow_collection([numpy.clip(im,0,1),numpy.clip(filtered_cropped,0,1),filtr], cmap='gray')\n",
    "    io.show()\n",
    "    \n",
    "interactive(fourrierFilter,image=inputImage,cutoff=widgets.IntSlider(min=1,max=100,step=1,value=20,continuous_update=False,))"
   ]
  },
  {
   "cell_type": "markdown",
   "metadata": {},
   "source": [
    "Som dere kan se er mesteparten av sinussignalet forsvunnet.\n",
    "I bilde 3 kan dere se filteret som ble produset, fiteret ble justert ved å prøve flere verdier av cutoff til det jeg synes er det beste resultatet ble produsert. "
   ]
  }
 ],
 "metadata": {
  "kernelspec": {
   "display_name": "Python 3",
   "language": "python",
   "name": "python3"
  },
  "language_info": {
   "codemirror_mode": {
    "name": "ipython",
    "version": 3
   },
   "file_extension": ".py",
   "mimetype": "text/x-python",
   "name": "python",
   "nbconvert_exporter": "python",
   "pygments_lexer": "ipython3",
   "version": "3.7.1"
  }
 },
 "nbformat": 4,
 "nbformat_minor": 2
}
