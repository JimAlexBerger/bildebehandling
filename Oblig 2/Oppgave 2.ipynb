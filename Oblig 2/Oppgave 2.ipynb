{
 "cells": [
  {
   "cell_type": "markdown",
   "metadata": {},
   "source": [
    "# Oppgave 2"
   ]
  },
  {
   "cell_type": "code",
   "execution_count": 1,
   "metadata": {},
   "outputs": [],
   "source": [
    "from skimage import io, util, color\n",
    "from scipy import fftpack, ndimage\n",
    "import numpy\n",
    "\n",
    "import ipywidgets as widgets\n",
    "from ipywidgets import interactive"
   ]
  },
  {
   "cell_type": "markdown",
   "metadata": {},
   "source": [
    "Her velger man bildet som skal prosesseres, jeg har lagt inn bildene fra oppgaven."
   ]
  },
  {
   "cell_type": "code",
   "execution_count": 2,
   "metadata": {},
   "outputs": [
    {
     "data": {
      "application/vnd.jupyter.widget-view+json": {
       "model_id": "fece9ffd0d3f456a87af99c1155a3f09",
       "version_major": 2,
       "version_minor": 0
      },
      "text/plain": [
       "interactive(children=(Dropdown(description='Bilde: ', options={'Lena': 'lena.png', 'Barbara': 'barbara.png'}, …"
      ]
     },
     "metadata": {},
     "output_type": "display_data"
    }
   ],
   "source": [
    "def readAndShowImage(image):\n",
    "    im = io.imread(image, as_gray=True)\n",
    "    io.imshow(im)\n",
    "    io.show()\n",
    "\n",
    "inputImage = widgets.Dropdown(\n",
    "    options={\n",
    "        'Lena':'lena.png',\n",
    "        'Barbara':'barbara.png'\n",
    "    },\n",
    "    description='Bilde: ',\n",
    "    disabled=False,\n",
    ")\n",
    "\n",
    "interactive(readAndShowImage, image=inputImage)"
   ]
  },
  {
   "cell_type": "markdown",
   "metadata": {},
   "source": [
    "Funksjoner som trengs for frekvensfiltrering.\n",
    "\n",
    "dist funksjonen brukes for å genere butterworth filtrene.\n",
    "fourrierFilter tar imot ett bilde og ett filter som skal bruker for frekvensfiltrering."
   ]
  },
  {
   "cell_type": "code",
   "execution_count": 3,
   "metadata": {},
   "outputs": [],
   "source": [
    "def dist(i,j,height,width):\n",
    "    center_i, center_j = (height/2,width/2)\n",
    "    return ((i-center_i)**2 + (j-center_j)**2)**0.5\n",
    "\n",
    "def butterworth(height, width, cutoff, order):\n",
    "    filtr = numpy.zeros((height,width))\n",
    "    \n",
    "    for i in range(height):\n",
    "        for j in range(width):\n",
    "            filtr[i,j] = 1 / (1 + (cutoff/ max(dist(i,j,height,width),1) )**(2*order))\n",
    "    \n",
    "    return filtr\n",
    "\n",
    "def butterworthLowPass(height, width, cutoff, order):\n",
    "    filtr = numpy.zeros((height,width))\n",
    "    \n",
    "    for i in range(height):\n",
    "        for j in range(width):\n",
    "            filtr[i,j] = 1 / (1 + ( max(dist(i,j,height,width),1) / cutoff )**(2*order))\n",
    "    \n",
    "    return filtr\n",
    "\n",
    "def fourrierFilter(im, filtr):\n",
    "    # Retrieve the image dimensions\n",
    "    height,width = im.shape\n",
    "    \n",
    "    #finding P and Q\n",
    "    padded_height = height*2\n",
    "    padded_width = width*2\n",
    "    \n",
    "    #Padding image width 0s\n",
    "    padded = numpy.zeros((padded_height,padded_width))\n",
    "    padded[0:height,0:width] = im\n",
    "\n",
    "    # Create an image to store the transformed image\n",
    "    image_trans = numpy.zeros(padded.shape)\n",
    "    # Transform each pixel in the image by multiplying with -1**(i+j) (see \n",
    "    # slides/book) to translate the fourier transformed image to height/2 width/2 \n",
    "    # i.e. the center of the image\n",
    "    for i in range(padded_height):\n",
    "      for j in range(padded_width):\n",
    "        image_trans[i,j] = padded[i,j]*((-1)**(i+j))\n",
    "\n",
    "    # Perform the fourier transformation\n",
    "    fourier_transform = fftpack.fft2(image_trans)\n",
    "    \n",
    "    #filtrerer den fourier transformerte\n",
    "    filtered = filtr*fourier_transform    \n",
    "    \n",
    "    #transformerer med invers fourier\n",
    "    filtered = fftpack.ifft2(filtered)\n",
    "    \n",
    "    #translerer tilbake\n",
    "    filtered_translated = numpy.zeros(padded.shape)\n",
    "\n",
    "    for i in range(padded_height):\n",
    "        for j in range(padded_width):\n",
    "            filtered_translated[i,j] = filtered[i,j]*((-1)**(i+j))\n",
    "    \n",
    "    #fjerner padding\n",
    "    filtered_cropped = filtered_translated[0:height,0:width]\n",
    "    \n",
    "    return numpy.clip(filtered_cropped,0,1)"
   ]
  },
  {
   "cell_type": "markdown",
   "metadata": {},
   "source": [
    "Her kan man velge forskjellige typer filtrering og størelsen på filtrene."
   ]
  },
  {
   "cell_type": "code",
   "execution_count": 8,
   "metadata": {},
   "outputs": [
    {
     "data": {
      "application/vnd.jupyter.widget-view+json": {
       "model_id": "c419d4798131432f9fa3d0a58ef7d0b6",
       "version_major": 2,
       "version_minor": 0
      },
      "text/plain": [
       "interactive(children=(Dropdown(description='Bilde: ', options={'Lena': 'lena.png', 'Barbara': 'barbara.png'}, …"
      ]
     },
     "metadata": {},
     "output_type": "display_data"
    }
   ],
   "source": [
    "filterOptions = widgets.Dropdown(\n",
    "    options=[\n",
    "        'Box Blur','UnSharp using box blur','Butterworth High Pass', 'Butterworth Low Pass','Unsharp using butterworth'\n",
    "    ],\n",
    "    description='Filter: ',\n",
    "    disabled=False,\n",
    ")\n",
    "\n",
    "sizeOption = widgets.IntSlider(\n",
    "    value = 15,\n",
    "    min = 1,\n",
    "    max = 100,\n",
    "    description='Size: ',\n",
    "    disabled=False,\n",
    "    continuous_update = False\n",
    ")\n",
    "\n",
    "\n",
    "\n",
    "def filtrer(image, size, method):\n",
    "    im = util.img_as_float(color.rgb2gray(io.imread(image)))\n",
    "    \n",
    "    height,width = im.shape\n",
    "    \n",
    "    if(method == 'Box Blur'):\n",
    "        sizeOption.description = 'Size: '\n",
    "        mask = numpy.ones((size,size))\n",
    "        mask = mask / numpy.sum(mask)\n",
    "        im = ndimage.convolve(im,mask,mode='constant', cval=0)\n",
    "    elif(method == 'UnSharp using box blur'):\n",
    "        sizeOption.description = 'Size: '\n",
    "        mask = numpy.ones((size,size))\n",
    "        mask = mask / numpy.sum(mask)\n",
    "        imBlurred = ndimage.convolve(im,mask,mode='constant', cval=0)\n",
    "        imMask = im - imBlurred\n",
    "        im = im + imMask\n",
    "    elif(method == 'Butterworth High Pass'):\n",
    "        sizeOption.description = 'Cutoff%: '\n",
    "        size = (size/100) * (width/2)\n",
    "        filtr = butterworth(height*2,width*2,size,2.25)\n",
    "        im = fourrierFilter(im,filtr)\n",
    "    elif(method == 'Butterworth Low Pass'):\n",
    "        sizeOption.description = 'Cutoff%: '\n",
    "        size = (size/100) * (width/2)\n",
    "        filtr = butterworthLowPass(height*2,width*2,size,2.25)\n",
    "        im = fourrierFilter(im,filtr)\n",
    "    elif(method == 'Unsharp using butterworth'):\n",
    "        sizeOption.description = 'Cutoff%: '\n",
    "        size = (size/100) * (width/2)\n",
    "        filtr = butterworthLowPass(height*2,width*2,size,2.25)\n",
    "        imBlurred = fourrierFilter(im,filtr)\n",
    "        imMask = im - imBlurred\n",
    "        im = im + imMask\n",
    "\n",
    "    \n",
    "    \n",
    "    io.imshow(numpy.clip(im,0,1), cmap='gray')\n",
    "    io.show()\n",
    "\n",
    "interactive(filtrer, image=inputImage, size=sizeOption, method=filterOptions)"
   ]
  },
  {
   "cell_type": "markdown",
   "metadata": {},
   "source": [
    "For å konkludere med noe her så må jeg si at jeg kan ikke se noen særlig forskjell på box filtret i spatial domet eller butterworth filtret i frekvensdomenet. Man har noe mer finkontroll over hvordan utjevningen skal bli med butterworth, men siden selve kalkuleringen tar mye lenger tid ville jeg heller gått for ett enkelt box filter. Selvfølgelig om jeg var en grafisk designer eller lignende hadde nok den ekstra finkontrollen kunnet gitt meg noe."
   ]
  }
 ],
 "metadata": {
  "kernelspec": {
   "display_name": "Python 3",
   "language": "python",
   "name": "python3"
  },
  "language_info": {
   "codemirror_mode": {
    "name": "ipython",
    "version": 3
   },
   "file_extension": ".py",
   "mimetype": "text/x-python",
   "name": "python",
   "nbconvert_exporter": "python",
   "pygments_lexer": "ipython3",
   "version": "3.7.1"
  }
 },
 "nbformat": 4,
 "nbformat_minor": 2
}
